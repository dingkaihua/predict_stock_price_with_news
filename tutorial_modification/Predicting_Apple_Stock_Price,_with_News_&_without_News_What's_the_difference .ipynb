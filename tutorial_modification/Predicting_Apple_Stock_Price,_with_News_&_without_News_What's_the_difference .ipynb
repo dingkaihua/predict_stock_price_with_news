{
  "nbformat": 4,
  "nbformat_minor": 0,
  "metadata": {
    "accelerator": "GPU",
    "colab": {
      "name": "Predicting Apple Stock Price, with News & without News. What's the difference?",
      "provenance": []
    },
    "kernelspec": {
      "display_name": "Python 3",
      "name": "python3"
    },
    "language_info": {
      "name": "python"
    }
  },
  "cells": [
    {
      "cell_type": "code",
      "metadata": {
        "colab": {
          "base_uri": "https://localhost:8080/"
        },
        "id": "HNZg4u-IxSiQ",
        "outputId": "10f1fb7f-840b-45ce-fb61-aa327d55e7d8"
      },
      "source": [
        "!pip install pandas OpenBlender scikit-learn"
      ],
      "execution_count": null,
      "outputs": [
        {
          "output_type": "stream",
          "text": [
            "Requirement already satisfied: pandas in /usr/local/lib/python3.7/dist-packages (1.1.5)\n",
            "Requirement already satisfied: OpenBlender in /usr/local/lib/python3.7/dist-packages (2.9)\n",
            "Requirement already satisfied: scikit-learn in /usr/local/lib/python3.7/dist-packages (0.22.2.post1)\n",
            "Requirement already satisfied: python-dateutil>=2.7.3 in /usr/local/lib/python3.7/dist-packages (from pandas) (2.8.1)\n",
            "Requirement already satisfied: pytz>=2017.2 in /usr/local/lib/python3.7/dist-packages (from pandas) (2018.9)\n",
            "Requirement already satisfied: numpy>=1.15.4 in /usr/local/lib/python3.7/dist-packages (from pandas) (1.19.5)\n",
            "Requirement already satisfied: six>=1.5 in /usr/local/lib/python3.7/dist-packages (from python-dateutil>=2.7.3->pandas) (1.15.0)\n",
            "Requirement already satisfied: requests in /usr/local/lib/python3.7/dist-packages (from OpenBlender) (2.23.0)\n",
            "Requirement already satisfied: datetime in /usr/local/lib/python3.7/dist-packages (from OpenBlender) (4.3)\n",
            "Requirement already satisfied: joblib>=0.11 in /usr/local/lib/python3.7/dist-packages (from scikit-learn) (1.0.1)\n",
            "Requirement already satisfied: scipy>=0.17.0 in /usr/local/lib/python3.7/dist-packages (from scikit-learn) (1.4.1)\n",
            "Requirement already satisfied: zope.interface in /usr/local/lib/python3.7/dist-packages (from datetime->OpenBlender) (5.4.0)\n",
            "Requirement already satisfied: idna<3,>=2.5 in /usr/local/lib/python3.7/dist-packages (from requests->OpenBlender) (2.10)\n",
            "Requirement already satisfied: certifi>=2017.4.17 in /usr/local/lib/python3.7/dist-packages (from requests->OpenBlender) (2021.5.30)\n",
            "Requirement already satisfied: urllib3!=1.25.0,!=1.25.1,<1.26,>=1.21.1 in /usr/local/lib/python3.7/dist-packages (from requests->OpenBlender) (1.24.3)\n",
            "Requirement already satisfied: chardet<4,>=3.0.2 in /usr/local/lib/python3.7/dist-packages (from requests->OpenBlender) (3.0.4)\n",
            "Requirement already satisfied: setuptools in /usr/local/lib/python3.7/dist-packages (from zope.interface->datetime->OpenBlender) (57.2.0)\n"
          ],
          "name": "stdout"
        }
      ]
    },
    {
      "cell_type": "markdown",
      "metadata": {
        "id": "4hlYGjn0eFdm"
      },
      "source": [
        "# Open Blender"
      ]
    },
    {
      "cell_type": "code",
      "metadata": {
        "colab": {
          "base_uri": "https://localhost:8080/"
        },
        "id": "VPEjNdy6xVqR",
        "outputId": "3d4f8b7c-5a64-4234-b06a-334a05049dd0"
      },
      "source": [
        "# Import the librariesimport OpenBlender\n",
        "import OpenBlender\n",
        "import pandas as pd\n",
        "import numpy as np\n",
        "import json\n",
        "\n",
        "token = "Kai API, Open Blender API is free, but metered."\n",
        "#https://openblender.io \n",
        "\n",
        "# Specify the action\n",
        "action = 'API_getObservationsFromDataset'\n",
        "\n",
        "interval = 60 * 60 * 24 # One day\n",
        "\n",
        "parameters = { \n",
        " 'token' : token,\n",
        "    'id_dataset':'5d4c39d09516290b01c8307b',\n",
        "    'date_filter':{\"start_date\":\"2017-01-01T06:00:00.000Z\",\n",
        "                   \"end_date\":\"2020-02-09T06:00:00.000Z\"},\n",
        "    'aggregate_in_time_interval' : {\n",
        "              'time_interval_size' : interval, \n",
        "              'output' : 'avg', \n",
        "              'empty_intervals' : 'impute'\n",
        "      }\n",
        "}\n",
        "        \n",
        "# Pull the data into a Pandas Dataframe\n",
        "df = pd.read_json(json.dumps(OpenBlender.call(action, parameters)\n",
        "['sample']), convert_dates=False, convert_axes=False)\n",
        "df.reset_index(drop=True, inplace=True)\n",
        "df['date'] = [OpenBlender.unixToDate(ts, timezone = 'GMT') for ts in df.timestamp]\n",
        "df = df.drop('timestamp', axis = 1)"
      ],
      "execution_count": null,
      "outputs": [
        {
          "output_type": "stream",
          "text": [
            "Task ID: '6111da390895fafb4a9d8d4b'.\n",
            "Total estimated consumption: 500.11 processing units.\n",
            "Task confirmed. Starting download..\n",
            "50.0 %\n",
            "100.0 % completed.\n"
          ],
          "name": "stdout"
        }
      ]
    },
    {
      "cell_type": "code",
      "metadata": {
        "id": "XCrlgVFKeIE7"
      },
      "source": [
        "# save df as binary file\n",
        "df.to_pickle('/content/drive/MyDrive/Colab_Notebooks/Asset_pricing/apple_stock.pkl')"
      ],
      "execution_count": null,
      "outputs": []
    },
    {
      "cell_type": "code",
      "metadata": {
        "colab": {
          "base_uri": "https://localhost:8080/",
          "height": 206
        },
        "id": "NLaQCBvphwC4",
        "outputId": "5d0d4f1b-9106-43c1-9cf4-873e5fca6e4b"
      },
      "source": [
        "# load data frame\n",
        "df_apple = pd.read_pickle('/content/drive/MyDrive/Colab_Notebooks/Asset_pricing/apple_stock.pkl')\n",
        "df_apple.tail()"
      ],
      "execution_count": null,
      "outputs": [
        {
          "output_type": "execute_result",
          "data": {
            "text/html": [
              "<div>\n",
              "<style scoped>\n",
              "    .dataframe tbody tr th:only-of-type {\n",
              "        vertical-align: middle;\n",
              "    }\n",
              "\n",
              "    .dataframe tbody tr th {\n",
              "        vertical-align: top;\n",
              "    }\n",
              "\n",
              "    .dataframe thead th {\n",
              "        text-align: right;\n",
              "    }\n",
              "</style>\n",
              "<table border=\"1\" class=\"dataframe\">\n",
              "  <thead>\n",
              "    <tr style=\"text-align: right;\">\n",
              "      <th></th>\n",
              "      <th>price</th>\n",
              "      <th>high</th>\n",
              "      <th>count_agg</th>\n",
              "      <th>low</th>\n",
              "      <th>open</th>\n",
              "      <th>change</th>\n",
              "      <th>date</th>\n",
              "    </tr>\n",
              "  </thead>\n",
              "  <tbody>\n",
              "    <tr>\n",
              "      <th>1129</th>\n",
              "      <td>217.940000</td>\n",
              "      <td>218.740000</td>\n",
              "      <td>1</td>\n",
              "      <td>216.330000</td>\n",
              "      <td>217.150000</td>\n",
              "      <td>0.82</td>\n",
              "      <td>28-08-2018 00:00:00</td>\n",
              "    </tr>\n",
              "    <tr>\n",
              "      <th>1130</th>\n",
              "      <td>217.346667</td>\n",
              "      <td>218.126667</td>\n",
              "      <td>0</td>\n",
              "      <td>215.923333</td>\n",
              "      <td>216.966667</td>\n",
              "      <td>0.65</td>\n",
              "      <td>27-08-2018 00:00:00</td>\n",
              "    </tr>\n",
              "    <tr>\n",
              "      <th>1131</th>\n",
              "      <td>216.753333</td>\n",
              "      <td>217.513333</td>\n",
              "      <td>0</td>\n",
              "      <td>215.516667</td>\n",
              "      <td>216.783333</td>\n",
              "      <td>0.48</td>\n",
              "      <td>26-08-2018 00:00:00</td>\n",
              "    </tr>\n",
              "    <tr>\n",
              "      <th>1132</th>\n",
              "      <td>216.160000</td>\n",
              "      <td>216.900000</td>\n",
              "      <td>1</td>\n",
              "      <td>215.110000</td>\n",
              "      <td>216.600000</td>\n",
              "      <td>0.31</td>\n",
              "      <td>25-08-2018 00:00:00</td>\n",
              "    </tr>\n",
              "    <tr>\n",
              "      <th>1133</th>\n",
              "      <td>215.490000</td>\n",
              "      <td>217.050000</td>\n",
              "      <td>1</td>\n",
              "      <td>214.600000</td>\n",
              "      <td>214.650000</td>\n",
              "      <td>0.20</td>\n",
              "      <td>24-08-2018 00:00:00</td>\n",
              "    </tr>\n",
              "  </tbody>\n",
              "</table>\n",
              "</div>"
            ],
            "text/plain": [
              "           price        high  ...  change                 date\n",
              "1129  217.940000  218.740000  ...    0.82  28-08-2018 00:00:00\n",
              "1130  217.346667  218.126667  ...    0.65  27-08-2018 00:00:00\n",
              "1131  216.753333  217.513333  ...    0.48  26-08-2018 00:00:00\n",
              "1132  216.160000  216.900000  ...    0.31  25-08-2018 00:00:00\n",
              "1133  215.490000  217.050000  ...    0.20  24-08-2018 00:00:00\n",
              "\n",
              "[5 rows x 7 columns]"
            ]
          },
          "metadata": {
            "tags": []
          },
          "execution_count": 24
        }
      ]
    },
    {
      "cell_type": "markdown",
      "metadata": {
        "id": "hpH1MoZ85qZc"
      },
      "source": [
        "# Blend the news data"
      ]
    },
    {
      "cell_type": "code",
      "metadata": {
        "colab": {
          "base_uri": "https://localhost:8080/"
        },
        "id": "NJa53cJDh32T",
        "outputId": "8a800074-9755-4352-bab2-27a70ae789aa"
      },
      "source": [
        "# First we need to add the UNIX timestamp which is the number \n",
        "# of seconds since 1970 on UTC, it is a very convenient \n",
        "# format because it is the same in every time zone in the world!\n",
        "df['timestamp'] = OpenBlender.dateToUnix(df['date'], \n",
        "                                           date_format = '%d-%m-%Y %H:%M:%S', \n",
        "                                           timezone = 'GMT')\n",
        "\n",
        "# Now, let's search on OpenBlender\n",
        "search_keyword = 'business'\n",
        "df = df.sort_values('timestamp').reset_index(drop = True)\n",
        "\n",
        "print('From : ' + OpenBlender.unixToDate(min(df.timestamp)))\n",
        "print('Until: ' + OpenBlender.unixToDate(max(df.timestamp)))\n",
        "\n",
        "# We need to pass our timestamp column and \n",
        "# search keywords as parameters.\n",
        "OpenBlender.searchTimeBlends(token,\n",
        "                             df.timestamp,\n",
        "                             search_keyword)"
      ],
      "execution_count": null,
      "outputs": [
        {
          "output_type": "stream",
          "text": [
            "From : 01-01-2017 00:00:00\n",
            "Until: 09-02-2020 00:00:00\n"
          ],
          "name": "stdout"
        },
        {
          "output_type": "execute_result",
          "data": {
            "text/plain": [
              "[{'description': 'Washington Post Business News Headlines daily headlines',\n",
              "  'features': ['headline', 'publisher', 'timestamp', 'title', 'url'],\n",
              "  'id_dataset': '5d571a989516293a12ad4f4c',\n",
              "  'intersection': 100,\n",
              "  'name': 'Washington Post Business News Headlines',\n",
              "  'num_observations': 794,\n",
              "  'url': 'https://www.openblender.io/#/dataset/explore/5d571a989516293a12ad4f4c'},\n",
              " {'description': 'Daily news headlines of The Independent Business',\n",
              "  'features': ['headline', 'publisher', 'timestamp', 'title', 'url'],\n",
              "  'id_dataset': '5d8660679516296ba7e6a432',\n",
              "  'intersection': 100,\n",
              "  'name': 'The Independent Business headlines',\n",
              "  'num_observations': 7663,\n",
              "  'url': 'https://www.openblender.io/#/dataset/explore/5d8660679516296ba7e6a432'},\n",
              " {'description': 'Daily news headlines of Belfast Telegraph Business',\n",
              "  'features': ['headline', 'publisher', 'timestamp', 'title', 'url'],\n",
              "  'id_dataset': '5d884b739516294231c5961e',\n",
              "  'intersection': 100,\n",
              "  'name': 'Belfast Telegraph Business headlines',\n",
              "  'num_observations': 329,\n",
              "  'url': 'https://www.openblender.io/#/dataset/explore/5d884b739516294231c5961e'},\n",
              " {'description': 'Daily news headlines of Chandigarh Metro Business',\n",
              "  'features': ['headline', 'publisher', 'timestamp', 'title', 'url'],\n",
              "  'id_dataset': '5da925fc95162922aa02df3b',\n",
              "  'intersection': 100,\n",
              "  'name': 'Chandigarh Metro Business headlines',\n",
              "  'num_observations': 414,\n",
              "  'url': 'https://www.openblender.io/#/dataset/explore/5da925fc95162922aa02df3b'},\n",
              " {'description': 'The latest Twitter threads from FoxBusiness (@FoxBusiness)',\n",
              "  'features': ['favorites',\n",
              "   'geo',\n",
              "   'hashtags',\n",
              "   'id',\n",
              "   'mentions',\n",
              "   'permalink',\n",
              "   'retweets',\n",
              "   'text',\n",
              "   'timestamp',\n",
              "   'username'],\n",
              "  'id_dataset': '5e13a210951629100dd89e84',\n",
              "  'intersection': 100,\n",
              "  'name': 'FoxBusiness Twitter',\n",
              "  'num_observations': 100169,\n",
              "  'url': 'https://www.openblender.io/#/dataset/explore/5e13a210951629100dd89e84'},\n",
              " {'description': 'Daily news headlines of Chicago Tribune Business',\n",
              "  'features': ['headline', 'publisher', 'timestamp', 'title', 'url'],\n",
              "  'id_dataset': '5d884ac39516294231c595f0',\n",
              "  'intersection': 76.21844993141289,\n",
              "  'name': 'Chicago Tribune Business headlines',\n",
              "  'num_observations': 7577,\n",
              "  'url': 'https://www.openblender.io/#/dataset/explore/5d884ac39516294231c595f0'},\n",
              " {'description': 'The latest Twitter threads from CNBC International (CNBCi).',\n",
              "  'features': ['associated_tweet',\n",
              "   'author',\n",
              "   'author_id',\n",
              "   'favorite_count',\n",
              "   'hashtags',\n",
              "   'id',\n",
              "   'links',\n",
              "   'mentions',\n",
              "   're_tweeter',\n",
              "   'reply_count',\n",
              "   'retweet_count',\n",
              "   'text',\n",
              "   'time',\n",
              "   'type'],\n",
              "  'id_dataset': '5ea82f029516296374e43078',\n",
              "  'intersection': 67.89507499673395,\n",
              "  'name': 'CNBC International Tweet',\n",
              "  'num_observations': 25368,\n",
              "  'url': 'https://www.openblender.io/#/dataset/explore/5ea82f029516296374e43078'},\n",
              " {'description': 'The latest Twitter threads from CNBC (@CNBC). First in business worldwide.',\n",
              "  'features': ['associated_tweet',\n",
              "   'author',\n",
              "   'author_id',\n",
              "   'favorite_count',\n",
              "   'hashtags',\n",
              "   'id',\n",
              "   'links',\n",
              "   'mentions',\n",
              "   're_tweeter',\n",
              "   'reply_count',\n",
              "   'retweet_count',\n",
              "   'text',\n",
              "   'time',\n",
              "   'type'],\n",
              "  'id_dataset': '5ea82e389516296374e43037',\n",
              "  'intersection': 67.86205826637925,\n",
              "  'name': 'CNBC Tweet',\n",
              "  'num_observations': 81422,\n",
              "  'url': 'https://www.openblender.io/#/dataset/explore/5ea82e389516296374e43037'},\n",
              " {'description': 'The latest Twitter threads from CNBCs Fast Money (CNBCFastMoney).',\n",
              "  'features': ['associated_tweet',\n",
              "   'author',\n",
              "   'author_id',\n",
              "   'favorite_count',\n",
              "   'hashtags',\n",
              "   'id',\n",
              "   'links',\n",
              "   'mentions',\n",
              "   're_tweeter',\n",
              "   'reply_count',\n",
              "   'retweet_count',\n",
              "   'text',\n",
              "   'time',\n",
              "   'type'],\n",
              "  'id_dataset': '5ea82eca9516296374e4305d',\n",
              "  'intersection': 67.72197420634922,\n",
              "  'name': 'CNBCs Fast Money Tweet',\n",
              "  'num_observations': 2837,\n",
              "  'url': 'https://www.openblender.io/#/dataset/explore/5ea82eca9516296374e4305d'},\n",
              " {'description': 'The latest Twitter threads from CNBC Now (@CNBCnow). Breaking news, realtime market updates  more from CNBC.',\n",
              "  'features': ['associated_tweet',\n",
              "   'author',\n",
              "   'author_id',\n",
              "   'favorite_count',\n",
              "   'hashtags',\n",
              "   'id',\n",
              "   'links',\n",
              "   'mentions',\n",
              "   're_tweeter',\n",
              "   'reply_count',\n",
              "   'retweet_count',\n",
              "   'text',\n",
              "   'time',\n",
              "   'type'],\n",
              "  'id_dataset': '5ea82e7c9516296374e4304a',\n",
              "  'intersection': 67.67149123881377,\n",
              "  'name': 'CNBC Now Tweet',\n",
              "  'num_observations': 3562,\n",
              "  'url': 'https://www.openblender.io/#/dataset/explore/5ea82e7c9516296374e4304a'},\n",
              " {'description': 'Daily news headlines of Indian News QLD Business',\n",
              "  'features': ['headline', 'publisher', 'timestamp', 'title', 'url'],\n",
              "  'id_dataset': '5da9274795162922aa02df53',\n",
              "  'intersection': 41.53439153439153,\n",
              "  'name': 'Indian News QLD Business headlines',\n",
              "  'num_observations': 481,\n",
              "  'url': 'https://www.openblender.io/#/dataset/explore/5da9274795162922aa02df53'},\n",
              " {'description': 'Daily news headlines of Pink News Business',\n",
              "  'features': ['headline', 'publisher', 'timestamp', 'title', 'url'],\n",
              "  'id_dataset': '5d8849f99516294230a04132',\n",
              "  'intersection': 37.213403880070544,\n",
              "  'name': 'Pink News Business headlines',\n",
              "  'num_observations': 1086,\n",
              "  'url': 'https://www.openblender.io/#/dataset/explore/5d8849f99516294230a04132'},\n",
              " {'description': 'Daily news headlines of Euro News Business, source: https://www.euronews.co/news/business',\n",
              "  'features': ['headline', 'publisher', 'timestamp', 'title', 'url'],\n",
              "  'id_dataset': '5d865f6c9516296ba7e6a41b',\n",
              "  'intersection': 34.68368688353256,\n",
              "  'name': 'Euro News Business headlines',\n",
              "  'num_observations': 606,\n",
              "  'url': 'https://www.openblender.io/#/dataset/explore/5d865f6c9516296ba7e6a41b'},\n",
              " {'description': 'NPR Business News Headlines daily headlines',\n",
              "  'features': ['headline', 'publisher', 'timestamp', 'title', 'url'],\n",
              "  'id_dataset': '5d5ab4549516296e5749de84',\n",
              "  'intersection': 34.479717813051145,\n",
              "  'name': 'NPR Business News Headlines',\n",
              "  'num_observations': 3071,\n",
              "  'url': 'https://www.openblender.io/#/dataset/explore/5d5ab4549516296e5749de84'},\n",
              " {'description': 'Daily news headlines of The Conversation Business',\n",
              "  'features': ['headline', 'publisher', 'timestamp', 'title', 'url'],\n",
              "  'id_dataset': '5d884a469516294230a04140',\n",
              "  'intersection': 32.9357485792671,\n",
              "  'name': 'The Conversation Business headlines',\n",
              "  'num_observations': 695,\n",
              "  'url': 'https://www.openblender.io/#/dataset/explore/5d884a469516294230a04140'},\n",
              " {'description': 'Daily news headlines of Daily Express Business',\n",
              "  'features': ['headline', 'publisher', 'timestamp', 'title', 'url'],\n",
              "  'id_dataset': '5d865f359516296ba66ec3da',\n",
              "  'intersection': 29.50470311581423,\n",
              "  'name': 'Daily Express Business headlines',\n",
              "  'num_observations': 12408,\n",
              "  'url': 'https://www.openblender.io/#/dataset/explore/5d865f359516296ba66ec3da'},\n",
              " {'description': 'Daily news headlines of News Zetu Business',\n",
              "  'features': ['headline', 'publisher', 'timestamp', 'title', 'url'],\n",
              "  'id_dataset': '5d865fd99516296ba66ec400',\n",
              "  'intersection': 27.17873166927951,\n",
              "  'name': 'News Zetu Business headlines',\n",
              "  'num_observations': 5041,\n",
              "  'url': 'https://www.openblender.io/#/dataset/explore/5d865fd99516296ba66ec400'},\n",
              " {'description': 'CNN Business News Headlines daily headlines',\n",
              "  'features': ['headline', 'publisher', 'timestamp', 'title', 'url'],\n",
              "  'id_dataset': '5d571b9e9516293a12ad4f5c',\n",
              "  'intersection': 26.90647658240251,\n",
              "  'name': 'CNN Business News Headlines',\n",
              "  'num_observations': 4015,\n",
              "  'url': 'https://www.openblender.io/#/dataset/explore/5d571b9e9516293a12ad4f5c'},\n",
              " {'description': 'Daily news headlines of News Blaze Business',\n",
              "  'features': ['headline', 'publisher', 'timestamp', 'title', 'url'],\n",
              "  'id_dataset': '5d8cc02095162904d40d4105',\n",
              "  'intersection': 24.877144367692207,\n",
              "  'name': 'News Blaze Business headlines',\n",
              "  'num_observations': 1260,\n",
              "  'url': 'https://www.openblender.io/#/dataset/explore/5d8cc02095162904d40d4105'},\n",
              " {'description': 'Daily news headlines of Worldweeklynews Business',\n",
              "  'features': ['headline', 'publisher', 'timestamp', 'title', 'url'],\n",
              "  'id_dataset': '5d88487d9516294231c59563',\n",
              "  'intersection': 20.21897760304396,\n",
              "  'name': 'Worldweeklynews Business headlines',\n",
              "  'num_observations': 473,\n",
              "  'url': 'https://www.openblender.io/#/dataset/explore/5d88487d9516294231c59563'},\n",
              " {'description': 'Daily news headlines of Free Press Journal Business',\n",
              "  'features': ['headline', 'publisher', 'timestamp', 'title', 'url'],\n",
              "  'id_dataset': '5da9256995162922aa02df2c',\n",
              "  'intersection': 18.504739858906525,\n",
              "  'name': 'Free Press Journal Business headlines',\n",
              "  'num_observations': 5860,\n",
              "  'url': 'https://www.openblender.io/#/dataset/explore/5da9256995162922aa02df2c'},\n",
              " {'description': 'Vox Business News Headlines daily headlines',\n",
              "  'features': ['headline', 'publisher', 'timestamp', 'title', 'url'],\n",
              "  'id_dataset': '5d5ab55b9516296e5749de96',\n",
              "  'intersection': 16.74850680155464,\n",
              "  'name': 'Vox Business News Headlines',\n",
              "  'num_observations': 7091,\n",
              "  'url': 'https://www.openblender.io/#/dataset/explore/5d5ab55b9516296e5749de96'},\n",
              " {'description': 'Buzzfeed News Business News Headlines daily headlines',\n",
              "  'features': ['headline', 'publisher', 'timestamp', 'title', 'url'],\n",
              "  'id_dataset': '5d5ab67d9516296e5749de9a',\n",
              "  'intersection': 16.431419018224574,\n",
              "  'name': 'Buzzfeed News Business News Headlines',\n",
              "  'num_observations': 615,\n",
              "  'url': 'https://www.openblender.io/#/dataset/explore/5d5ab67d9516296e5749de9a'},\n",
              " {'description': 'Daily news headlines of Cision Business',\n",
              "  'features': ['headline', 'publisher', 'timestamp', 'title', 'url'],\n",
              "  'id_dataset': '5d865eec9516296ba7e6a407',\n",
              "  'intersection': 16.427836566725457,\n",
              "  'name': 'Cision Business headlines',\n",
              "  'num_observations': 1644,\n",
              "  'url': 'https://www.openblender.io/#/dataset/explore/5d865eec9516296ba7e6a407'},\n",
              " {'description': 'Daily news headlines of Channel 4 Business',\n",
              "  'features': ['headline', 'publisher', 'timestamp', 'title', 'url'],\n",
              "  'id_dataset': '5d8cc52695162904d39b9b11',\n",
              "  'intersection': 16.225749559082892,\n",
              "  'name': 'Channel 4 Business headlines',\n",
              "  'num_observations': 88,\n",
              "  'url': 'https://www.openblender.io/#/dataset/explore/5d8cc52695162904d39b9b11'},\n",
              " {'description': 'Daily news headlines of Newslanes Business',\n",
              "  'features': ['headline', 'publisher', 'timestamp', 'title', 'url'],\n",
              "  'id_dataset': '5d88482f9516294230a04109',\n",
              "  'intersection': 15.760739189365733,\n",
              "  'name': 'Newslanes Business headlines',\n",
              "  'num_observations': 717,\n",
              "  'url': 'https://www.openblender.io/#/dataset/explore/5d88482f9516294230a04109'},\n",
              " {'description': 'New York Times Business News Headlines daily headlines',\n",
              "  'features': ['headline', 'publisher', 'timestamp', 'title', 'url'],\n",
              "  'id_dataset': '5d5aaf2d9516296e5749de63',\n",
              "  'intersection': 15.263327536089882,\n",
              "  'name': 'New York Times Business News Headlines',\n",
              "  'num_observations': 4869,\n",
              "  'url': 'https://www.openblender.io/#/dataset/explore/5d5aaf2d9516296e5749de63'},\n",
              " {'description': 'New York Post Business News Headlines daily headlines',\n",
              "  'features': ['headline', 'publisher', 'timestamp', 'title', 'url'],\n",
              "  'id_dataset': '5d5715e59516293a12ad4f2f',\n",
              "  'intersection': 15.263071355085245,\n",
              "  'name': 'New York Post Business News Headlines',\n",
              "  'num_observations': 801,\n",
              "  'url': 'https://www.openblender.io/#/dataset/explore/5d5715e59516293a12ad4f2f'},\n",
              " {'description': 'National Review Business News Headlines daily headlines',\n",
              "  'features': ['headline', 'publisher', 'timestamp', 'title', 'url'],\n",
              "  'id_dataset': '5d571e5a9516293a13832040',\n",
              "  'intersection': 14.909172096479196,\n",
              "  'name': 'National Review Business News Headlines',\n",
              "  'num_observations': 4954,\n",
              "  'url': 'https://www.openblender.io/#/dataset/explore/5d571e5a9516293a13832040'},\n",
              " {'description': 'Breitbart Business News Headlines daily headlines',\n",
              "  'features': ['headline', 'publisher', 'timestamp', 'title', 'url'],\n",
              "  'id_dataset': '5d57170a9516293a12ad4f36',\n",
              "  'intersection': 14.731605999738715,\n",
              "  'name': 'Breitbart Business News Headlines',\n",
              "  'num_observations': 5370,\n",
              "  'url': 'https://www.openblender.io/#/dataset/explore/5d57170a9516293a12ad4f36'},\n",
              " {'description': 'Reuters Business News Headlines daily headlines',\n",
              "  'features': ['headline', 'publisher', 'timestamp', 'title', 'url'],\n",
              "  'id_dataset': '5d5718339516293a12ad4f3f',\n",
              "  'intersection': 14.550264550264549,\n",
              "  'name': 'Reuters Business News Headlines',\n",
              "  'num_observations': 12287,\n",
              "  'url': 'https://www.openblender.io/#/dataset/explore/5d5718339516293a12ad4f3f'},\n",
              " {'description': 'the Guardian Business News Headlines daily headlines',\n",
              "  'features': ['headline', 'publisher', 'timestamp', 'title', 'url'],\n",
              "  'id_dataset': '5d5aacf39516296e5749de5d',\n",
              "  'intersection': 14.403970907636033,\n",
              "  'name': 'the Guardian Business News Headlines',\n",
              "  'num_observations': 4686,\n",
              "  'url': 'https://www.openblender.io/#/dataset/explore/5d5aacf39516296e5749de5d'},\n",
              " {'description': 'Daily news headlines of Herald Scotland Business',\n",
              "  'features': ['headline', 'publisher', 'timestamp', 'title', 'url'],\n",
              "  'id_dataset': '5d884bb79516294231c59636',\n",
              "  'intersection': 13.99500191880593,\n",
              "  'name': 'Herald Scotland Business headlines',\n",
              "  'num_observations': 9317,\n",
              "  'url': 'https://www.openblender.io/#/dataset/explore/5d884bb79516294231c59636'},\n",
              " {'description': 'Daily news headlines of The Week Business',\n",
              "  'features': ['headline', 'publisher', 'timestamp', 'title', 'url'],\n",
              "  'id_dataset': '5d884c5d9516294230a04197',\n",
              "  'intersection': 13.492063492063492,\n",
              "  'name': 'The Week Business headlines',\n",
              "  'num_observations': 1510,\n",
              "  'url': 'https://www.openblender.io/#/dataset/explore/5d884c5d9516294230a04197'},\n",
              " {'description': 'Daily news headlines of Wired UK Business',\n",
              "  'features': ['headline', 'publisher', 'timestamp', 'title', 'url'],\n",
              "  'id_dataset': '5d8849b19516294231c595b9',\n",
              "  'intersection': 13.31569664902998,\n",
              "  'name': 'Wired UK Business headlines',\n",
              "  'num_observations': 1088,\n",
              "  'url': 'https://www.openblender.io/#/dataset/explore/5d8849b19516294231c595b9'},\n",
              " {'description': 'Daily news headlines of Sputnik Business',\n",
              "  'features': ['headline', 'publisher', 'timestamp', 'title', 'url'],\n",
              "  'id_dataset': '5d86602f9516296ba7e6a42b',\n",
              "  'intersection': 12.781819517930629,\n",
              "  'name': 'Sputnik Business headlines',\n",
              "  'num_observations': 4673,\n",
              "  'url': 'https://www.openblender.io/#/dataset/explore/5d86602f9516296ba7e6a42b'},\n",
              " {'description': 'Daily news headlines of Standard Business',\n",
              "  'features': ['headline', 'publisher', 'timestamp', 'title', 'url'],\n",
              "  'id_dataset': '5d884a889516294231c595e2',\n",
              "  'intersection': 12.744525279247501,\n",
              "  'name': 'Standard Business headlines',\n",
              "  'num_observations': 6673,\n",
              "  'url': 'https://www.openblender.io/#/dataset/explore/5d884a889516294231c595e2'},\n",
              " {'description': 'Daily news headlines of Evening Express  World Business',\n",
              "  'features': ['headline', 'publisher', 'timestamp', 'title', 'url'],\n",
              "  'id_dataset': '5d7f93829516294be568af53',\n",
              "  'intersection': 12.737922749689726,\n",
              "  'name': 'Evening Express  World Business headlines',\n",
              "  'num_observations': 4737,\n",
              "  'url': 'https://www.openblender.io/#/dataset/explore/5d7f93829516294be568af53'},\n",
              " {'description': 'Daily news headlines of ABC News  International Business',\n",
              "  'features': ['headline', 'publisher', 'timestamp', 'title', 'url'],\n",
              "  'id_dataset': '5d7f92229516294be60fe47a',\n",
              "  'intersection': 12.7361999069175,\n",
              "  'name': 'ABC News  International Business headlines',\n",
              "  'num_observations': 9290,\n",
              "  'url': 'https://www.openblender.io/#/dataset/explore/5d7f92229516294be60fe47a'},\n",
              " {'description': 'Daily news headlines of BBC News Business',\n",
              "  'features': ['headline', 'publisher', 'timestamp', 'title', 'url'],\n",
              "  'id_dataset': '5d82477f951629088f08cef5',\n",
              "  'intersection': 12.526643845123782,\n",
              "  'name': 'BBC News Business headlines',\n",
              "  'num_observations': 3247,\n",
              "  'url': 'https://www.openblender.io/#/dataset/explore/5d82477f951629088f08cef5'},\n",
              " {'description': 'Daily news headlines of Times of India  World Business',\n",
              "  'features': ['headline', 'publisher', 'timestamp', 'title', 'url'],\n",
              "  'id_dataset': '5d824b72951629088e5865a8',\n",
              "  'intersection': 12.467492569730224,\n",
              "  'name': 'Times of India  World Business headlines',\n",
              "  'num_observations': 8852,\n",
              "  'url': 'https://www.openblender.io/#/dataset/explore/5d824b72951629088e5865a8'},\n",
              " {'description': 'Daily news headlines of Chron Business',\n",
              "  'features': ['headline', 'publisher', 'timestamp', 'title', 'url'],\n",
              "  'id_dataset': '5d8847cd9516294231c5952c',\n",
              "  'intersection': 12.459238642301914,\n",
              "  'name': 'Chron Business headlines',\n",
              "  'num_observations': 2527,\n",
              "  'url': 'https://www.openblender.io/#/dataset/explore/5d8847cd9516294231c5952c'},\n",
              " {'description': 'Daily news headlines of CNBC Business',\n",
              "  'features': ['headline', 'publisher', 'timestamp', 'title', 'url'],\n",
              "  'id_dataset': '5d82db51951629088e586b28',\n",
              "  'intersection': 12.297243451564439,\n",
              "  'name': 'CNBC Business headlines',\n",
              "  'num_observations': 4241,\n",
              "  'url': 'https://www.openblender.io/#/dataset/explore/5d82db51951629088e586b28'},\n",
              " {'description': 'Daily news headlines of Breaking News Central Business',\n",
              "  'features': ['headline', 'publisher', 'timestamp', 'title', 'url'],\n",
              "  'id_dataset': '5d865e159516296ba7e6a3de',\n",
              "  'intersection': 12.283603599190018,\n",
              "  'name': 'Breaking News Central Business headlines',\n",
              "  'num_observations': 2560,\n",
              "  'url': 'https://www.openblender.io/#/dataset/explore/5d865e159516296ba7e6a3de'},\n",
              " {'description': 'Daily news headlines of World News Group Business',\n",
              "  'features': ['headline', 'publisher', 'timestamp', 'title', 'url'],\n",
              "  'id_dataset': '5d8661319516296ba7e6a463',\n",
              "  'intersection': 12.28279933372526,\n",
              "  'name': 'World News Group Business headlines',\n",
              "  'num_observations': 213,\n",
              "  'url': 'https://www.openblender.io/#/dataset/explore/5d8661319516296ba7e6a463'},\n",
              " {'description': 'Daily news headlines of News Wise Business',\n",
              "  'features': ['headline', 'publisher', 'timestamp', 'title', 'url'],\n",
              "  'id_dataset': '5d865f919516296ba66ec3f2',\n",
              "  'intersection': 12.280679461427917,\n",
              "  'name': 'News Wise Business headlines',\n",
              "  'num_observations': 835,\n",
              "  'url': 'https://www.openblender.io/#/dataset/explore/5d865f919516296ba66ec3f2'},\n",
              " {'description': 'Daily news headlines of Breaking News Business',\n",
              "  'features': ['headline', 'publisher', 'timestamp', 'title', 'url'],\n",
              "  'id_dataset': '5d865df19516296ba7e6a3d2',\n",
              "  'intersection': 12.27951082696453,\n",
              "  'name': 'Breaking News Business headlines',\n",
              "  'num_observations': 10151,\n",
              "  'url': 'https://www.openblender.io/#/dataset/explore/5d865df19516296ba7e6a3d2'},\n",
              " {'description': 'Daily news headlines of ABC News AU Business',\n",
              "  'features': ['headline', 'publisher', 'timestamp', 'title', 'url'],\n",
              "  'id_dataset': '5d8852059516294231c596c0',\n",
              "  'intersection': 12.17972271213012,\n",
              "  'name': 'ABC News AU Business headlines',\n",
              "  'num_observations': 5785,\n",
              "  'url': 'https://www.openblender.io/#/dataset/explore/5d8852059516294231c596c0'},\n",
              " {'description': 'Daily news headlines of Forbes Business',\n",
              "  'features': ['headline', 'publisher', 'timestamp', 'title', 'url'],\n",
              "  'id_dataset': '5d8847eb9516294231c59538',\n",
              "  'intersection': 12.123895665948135,\n",
              "  'name': 'Forbes Business headlines',\n",
              "  'num_observations': 16838,\n",
              "  'url': 'https://www.openblender.io/#/dataset/explore/5d8847eb9516294231c59538'},\n",
              " {'description': 'Daily news headlines of Time Business',\n",
              "  'features': ['headline', 'publisher', 'timestamp', 'title', 'url'],\n",
              "  'id_dataset': '5d8848f49516294231c59588',\n",
              "  'intersection': 12.114795626755503,\n",
              "  'name': 'Time Business headlines',\n",
              "  'num_observations': 878,\n",
              "  'url': 'https://www.openblender.io/#/dataset/explore/5d8848f49516294231c59588'},\n",
              " {'description': 'Daily news headlines of News 24 Business',\n",
              "  'features': ['headline', 'publisher', 'timestamp', 'title', 'url'],\n",
              "  'id_dataset': '5d8cb90495162904d39b997c',\n",
              "  'intersection': 11.865263080540858,\n",
              "  'name': 'News 24 Business headlines',\n",
              "  'num_observations': 4228,\n",
              "  'url': 'https://www.openblender.io/#/dataset/explore/5d8cb90495162904d39b997c'},\n",
              " {'description': 'Daily news headlines of Washington Times Business',\n",
              "  'features': ['headline', 'publisher', 'timestamp', 'title', 'url'],\n",
              "  'id_dataset': '5d8cb61595162904d40d4072',\n",
              "  'intersection': 11.842974312495917,\n",
              "  'name': 'Washington Times Business headlines',\n",
              "  'num_observations': 31302,\n",
              "  'url': 'https://www.openblender.io/#/dataset/explore/5d8cb61595162904d40d4072'},\n",
              " {'description': 'Daily news headlines of CS Monitor Business',\n",
              "  'features': ['headline', 'publisher', 'timestamp', 'title', 'url'],\n",
              "  'id_dataset': '5d8cbc4795162904d39b99f5',\n",
              "  'intersection': 11.842039404925208,\n",
              "  'name': 'CS Monitor Business headlines',\n",
              "  'num_observations': 970,\n",
              "  'url': 'https://www.openblender.io/#/dataset/explore/5d8cbc4795162904d39b99f5'},\n",
              " {'description': 'Daily news headlines of State Times Business',\n",
              "  'features': ['headline', 'publisher', 'timestamp', 'title', 'url'],\n",
              "  'id_dataset': '5da9270e95162922aa02df4d',\n",
              "  'intersection': 10.758377425044092,\n",
              "  'name': 'State Times Business headlines',\n",
              "  'num_observations': 553,\n",
              "  'url': 'https://www.openblender.io/#/dataset/explore/5da9270e95162922aa02df4d'},\n",
              " {'description': 'Daily news headlines of LA Times Business',\n",
              "  'features': ['headline', 'publisher', 'timestamp', 'title', 'url'],\n",
              "  'id_dataset': '5d8cb41f95162904d39b98f1',\n",
              "  'intersection': 10.696897306119066,\n",
              "  'name': 'LA Times Business headlines',\n",
              "  'num_observations': 3313,\n",
              "  'url': 'https://www.openblender.io/#/dataset/explore/5d8cb41f95162904d39b98f1'},\n",
              " {'description': 'Daily news headlines of Daily Mash Business',\n",
              "  'features': ['headline', 'publisher', 'timestamp', 'title', 'url'],\n",
              "  'id_dataset': '5d884bf39516294231c5964b',\n",
              "  'intersection': 10.394183976745705,\n",
              "  'name': 'Daily Mash Business headlines',\n",
              "  'num_observations': 768,\n",
              "  'url': 'https://www.openblender.io/#/dataset/explore/5d884bf39516294231c5964b'},\n",
              " {'description': 'Daily news headlines of Indian Express Business',\n",
              "  'features': ['headline', 'publisher', 'timestamp', 'title', 'url'],\n",
              "  'id_dataset': '5d9201b295162936ebc05e17',\n",
              "  'intersection': 10.392678530602913,\n",
              "  'name': 'Indian Express Business headlines',\n",
              "  'num_observations': 108,\n",
              "  'url': 'https://www.openblender.io/#/dataset/explore/5d9201b295162936ebc05e17'},\n",
              " {'description': 'Daily news headlines of Asian Age Business',\n",
              "  'features': ['headline', 'publisher', 'timestamp', 'title', 'url'],\n",
              "  'id_dataset': '5da9265895162922ab5639e2',\n",
              "  'intersection': 9.995223398001176,\n",
              "  'name': 'Asian Age Business headlines',\n",
              "  'num_observations': 2448,\n",
              "  'url': 'https://www.openblender.io/#/dataset/explore/5da9265895162922ab5639e2'},\n",
              " {'description': 'Daily news headlines of Telangana Today Business',\n",
              "  'features': ['headline', 'publisher', 'timestamp', 'title', 'url'],\n",
              "  'id_dataset': '5da926bf95162922ab5639e8',\n",
              "  'intersection': 9.909099630936051,\n",
              "  'name': 'Telangana Today Business headlines',\n",
              "  'num_observations': 958,\n",
              "  'url': 'https://www.openblender.io/#/dataset/explore/5da926bf95162922ab5639e8'},\n",
              " {'description': 'Daily news headlines of Daily Record Business',\n",
              "  'features': ['headline', 'publisher', 'timestamp', 'title', 'url'],\n",
              "  'id_dataset': '5d884b1d9516294231c5960c',\n",
              "  'intersection': 9.794990895878241,\n",
              "  'name': 'Daily Record Business headlines',\n",
              "  'num_observations': 25020,\n",
              "  'url': 'https://www.openblender.io/#/dataset/explore/5d884b1d9516294231c5960c'},\n",
              " {'description': 'Daily news headlines of Live Nagpur Business',\n",
              "  'features': ['headline', 'publisher', 'timestamp', 'title', 'url'],\n",
              "  'id_dataset': '5da9247795162922aa02df23',\n",
              "  'intersection': 6.887692697106278,\n",
              "  'name': 'Live Nagpur Business headlines',\n",
              "  'num_observations': 599,\n",
              "  'url': 'https://www.openblender.io/#/dataset/explore/5da9247795162922aa02df23'},\n",
              " {'description': 'Daily news headlines of Orissa Post Business, source: https://www.orissapost.com/business-news/',\n",
              "  'features': ['headline', 'publisher', 'timestamp', 'title', 'url'],\n",
              "  'id_dataset': '5da9252f95162922aa02df29',\n",
              "  'intersection': 5.82469462407734,\n",
              "  'name': 'Orissa Post Business headlines',\n",
              "  'num_observations': 3672,\n",
              "  'url': 'https://www.openblender.io/#/dataset/explore/5da9252f95162922aa02df29'},\n",
              " {'description': 'The latest Twitter threads from QuickTake by Bloomberg (@QuickTake).',\n",
              "  'features': ['associated_tweet',\n",
              "   'author',\n",
              "   'author_id',\n",
              "   'favorite_count',\n",
              "   'hashtags',\n",
              "   'id',\n",
              "   'links',\n",
              "   'mentions',\n",
              "   're_tweeter',\n",
              "   'reply_count',\n",
              "   'retweet_count',\n",
              "   'text',\n",
              "   'time',\n",
              "   'type'],\n",
              "  'id_dataset': '5ea82cdf9516296374e42ffa',\n",
              "  'intersection': 3.5273266542556665,\n",
              "  'name': 'QuickTake by Bloomberg Tweet',\n",
              "  'num_observations': 46037,\n",
              "  'url': 'https://www.openblender.io/#/dataset/explore/5ea82cdf9516296374e42ffa'},\n",
              " {'description': 'The latest Twitter threads from Bloomberg (@business). The first word in business news.',\n",
              "  'features': ['associated_tweet',\n",
              "   'author',\n",
              "   'author_id',\n",
              "   'favorite_count',\n",
              "   'hashtags',\n",
              "   'id',\n",
              "   'links',\n",
              "   'mentions',\n",
              "   're_tweeter',\n",
              "   'reply_count',\n",
              "   'retweet_count',\n",
              "   'text',\n",
              "   'time',\n",
              "   'type'],\n",
              "  'id_dataset': '5ea82c58951629637391885d',\n",
              "  'intersection': 3.5270418952903517,\n",
              "  'name': 'Bloomberg Tweet',\n",
              "  'num_observations': 135918,\n",
              "  'url': 'https://www.openblender.io/#/dataset/explore/5ea82c58951629637391885d'},\n",
              " {'description': 'The latest Twitter threads from Bloomberg Markets (markets). Breaking news and analysis on global financial markets.',\n",
              "  'features': ['associated_tweet',\n",
              "   'author',\n",
              "   'author_id',\n",
              "   'favorite_count',\n",
              "   'hashtags',\n",
              "   'id',\n",
              "   'links',\n",
              "   'mentions',\n",
              "   're_tweeter',\n",
              "   'reply_count',\n",
              "   'retweet_count',\n",
              "   'text',\n",
              "   'time',\n",
              "   'type'],\n",
              "  'id_dataset': '5ea82d2195162963739188a4',\n",
              "  'intersection': 3.5269643265399435,\n",
              "  'name': 'Bloomberg Markets Tweet',\n",
              "  'num_observations': 24362,\n",
              "  'url': 'https://www.openblender.io/#/dataset/explore/5ea82d2195162963739188a4'},\n",
              " {'description': 'The latest Twitter threads from Bloomberg Opinion (@bopinion).',\n",
              "  'features': ['associated_tweet',\n",
              "   'author',\n",
              "   'author_id',\n",
              "   'favorite_count',\n",
              "   'hashtags',\n",
              "   'id',\n",
              "   'links',\n",
              "   'mentions',\n",
              "   're_tweeter',\n",
              "   'reply_count',\n",
              "   'retweet_count',\n",
              "   'text',\n",
              "   'time',\n",
              "   'type'],\n",
              "  'id_dataset': '5ea82caa951629637391888c',\n",
              "  'intersection': 3.5257201646090537,\n",
              "  'name': 'Bloomberg Opinion Tweet',\n",
              "  'num_observations': 40004,\n",
              "  'url': 'https://www.openblender.io/#/dataset/explore/5ea82caa951629637391888c'}]"
            ]
          },
          "metadata": {
            "tags": []
          },
          "execution_count": 25
        }
      ]
    },
    {
      "cell_type": "markdown",
      "metadata": {
        "id": "GJXU_01R7Wn_"
      },
      "source": [
        "###We can blend new columns to our dataset by searching terms on news aggregated by time. For instance, we could create an ‘apple’ feature with the number of news from the ‘Wall Street’ dataset which match our self made ngrams:"
      ]
    },
    {
      "cell_type": "code",
      "metadata": {
        "colab": {
          "base_uri": "https://localhost:8080/",
          "height": 511
        },
        "id": "VUC1r4Yz6Tgd",
        "outputId": "2506daf8-b8ac-42ab-b98e-d172819d6ba4"
      },
      "source": [
        "positive_filter = {'name' : 'apple', \n",
        "                   'match_ngrams': ['apple', 'iphone', 'ipad', \n",
        "                                    'tim cook', 'mac store']}\n",
        "                                    \n",
        "# We need to pass the 'id_dataset', the name of the\n",
        "# column (which is 'text') and an optional filter.\n",
        "\n",
        "blend_source = {\n",
        "                'id_dataset':'5e2ef74e9516294390e810a9',\n",
        "                'feature' : 'text',\n",
        "                'filter_text' : positive_filter\n",
        "            }\n",
        "\n",
        "df_blend = OpenBlender.timeBlend( token = token,\n",
        "                                  anchor_ts = df.timestamp,\n",
        "                                  blend_source = blend_source,\n",
        "                                  blend_type = 'agg_in_intervals',\n",
        "                                  interval_size = 60 * 60 * 24,\n",
        "                                  direction = 'time_prior',\n",
        "                                  interval_output = 'list')\n",
        "\n",
        "df_anchor = pd.concat([df, df_blend.loc[:, df_blend.columns != 'timestamp']], axis = 1)\n",
        "df_anchor"
      ],
      "execution_count": null,
      "outputs": [
        {
          "output_type": "stream",
          "text": [
            "Task ID: '6111da4a0895fafb4a9d8d4c'.\n",
            "Total estimated consumption: 4428.8 processing units.\n",
            "Task confirmed. Starting download..\n",
            "88.0%\n",
            "100%\n"
          ],
          "name": "stdout"
        },
        {
          "output_type": "execute_result",
          "data": {
            "text/html": [
              "<div>\n",
              "<style scoped>\n",
              "    .dataframe tbody tr th:only-of-type {\n",
              "        vertical-align: middle;\n",
              "    }\n",
              "\n",
              "    .dataframe tbody tr th {\n",
              "        vertical-align: top;\n",
              "    }\n",
              "\n",
              "    .dataframe thead th {\n",
              "        text-align: right;\n",
              "    }\n",
              "</style>\n",
              "<table border=\"1\" class=\"dataframe\">\n",
              "  <thead>\n",
              "    <tr style=\"text-align: right;\">\n",
              "      <th></th>\n",
              "      <th>price</th>\n",
              "      <th>high</th>\n",
              "      <th>count_agg</th>\n",
              "      <th>low</th>\n",
              "      <th>open</th>\n",
              "      <th>change</th>\n",
              "      <th>date</th>\n",
              "      <th>timestamp</th>\n",
              "      <th>WALL_STREE.text_COUNT_last1days:apple</th>\n",
              "      <th>WALL_STREE.text_last1days:apple</th>\n",
              "    </tr>\n",
              "  </thead>\n",
              "  <tbody>\n",
              "    <tr>\n",
              "      <th>0</th>\n",
              "      <td>116.15</td>\n",
              "      <td>116.33</td>\n",
              "      <td>0</td>\n",
              "      <td>114.76</td>\n",
              "      <td>115.80</td>\n",
              "      <td>0.28</td>\n",
              "      <td>01-01-2017 00:00:00</td>\n",
              "      <td>1.483229e+09</td>\n",
              "      <td>0</td>\n",
              "      <td>[]</td>\n",
              "    </tr>\n",
              "    <tr>\n",
              "      <th>1</th>\n",
              "      <td>116.15</td>\n",
              "      <td>116.33</td>\n",
              "      <td>0</td>\n",
              "      <td>114.76</td>\n",
              "      <td>115.80</td>\n",
              "      <td>0.28</td>\n",
              "      <td>02-01-2017 00:00:00</td>\n",
              "      <td>1.483315e+09</td>\n",
              "      <td>0</td>\n",
              "      <td>[]</td>\n",
              "    </tr>\n",
              "    <tr>\n",
              "      <th>2</th>\n",
              "      <td>116.15</td>\n",
              "      <td>116.33</td>\n",
              "      <td>0</td>\n",
              "      <td>114.76</td>\n",
              "      <td>115.80</td>\n",
              "      <td>0.28</td>\n",
              "      <td>03-01-2017 00:00:00</td>\n",
              "      <td>1.483402e+09</td>\n",
              "      <td>0</td>\n",
              "      <td>[]</td>\n",
              "    </tr>\n",
              "    <tr>\n",
              "      <th>3</th>\n",
              "      <td>116.15</td>\n",
              "      <td>116.33</td>\n",
              "      <td>1</td>\n",
              "      <td>114.76</td>\n",
              "      <td>115.80</td>\n",
              "      <td>0.28</td>\n",
              "      <td>04-01-2017 00:00:00</td>\n",
              "      <td>1.483488e+09</td>\n",
              "      <td>0</td>\n",
              "      <td>[]</td>\n",
              "    </tr>\n",
              "    <tr>\n",
              "      <th>4</th>\n",
              "      <td>116.02</td>\n",
              "      <td>116.51</td>\n",
              "      <td>1</td>\n",
              "      <td>115.75</td>\n",
              "      <td>115.85</td>\n",
              "      <td>-0.11</td>\n",
              "      <td>05-01-2017 00:00:00</td>\n",
              "      <td>1.483574e+09</td>\n",
              "      <td>1</td>\n",
              "      <td>[apple confirms 1 billion investment in softba...</td>\n",
              "    </tr>\n",
              "    <tr>\n",
              "      <th>...</th>\n",
              "      <td>...</td>\n",
              "      <td>...</td>\n",
              "      <td>...</td>\n",
              "      <td>...</td>\n",
              "      <td>...</td>\n",
              "      <td>...</td>\n",
              "      <td>...</td>\n",
              "      <td>...</td>\n",
              "      <td>...</td>\n",
              "      <td>...</td>\n",
              "    </tr>\n",
              "    <tr>\n",
              "      <th>1129</th>\n",
              "      <td>318.85</td>\n",
              "      <td>319.64</td>\n",
              "      <td>1</td>\n",
              "      <td>313.70</td>\n",
              "      <td>315.86</td>\n",
              "      <td>3.30</td>\n",
              "      <td>05-02-2020 00:00:00</td>\n",
              "      <td>1.580861e+09</td>\n",
              "      <td>2</td>\n",
              "      <td>[the most popular music streaming service in i...</td>\n",
              "    </tr>\n",
              "    <tr>\n",
              "      <th>1130</th>\n",
              "      <td>321.45</td>\n",
              "      <td>324.61</td>\n",
              "      <td>1</td>\n",
              "      <td>318.98</td>\n",
              "      <td>323.69</td>\n",
              "      <td>0.82</td>\n",
              "      <td>06-02-2020 00:00:00</td>\n",
              "      <td>1.580947e+09</td>\n",
              "      <td>1</td>\n",
              "      <td>[the rapid spread of the coronavirus has disru...</td>\n",
              "    </tr>\n",
              "    <tr>\n",
              "      <th>1131</th>\n",
              "      <td>325.21</td>\n",
              "      <td>325.21</td>\n",
              "      <td>1</td>\n",
              "      <td>320.35</td>\n",
              "      <td>323.06</td>\n",
              "      <td>1.17</td>\n",
              "      <td>07-02-2020 00:00:00</td>\n",
              "      <td>1.581034e+09</td>\n",
              "      <td>0</td>\n",
              "      <td>[]</td>\n",
              "    </tr>\n",
              "    <tr>\n",
              "      <th>1132</th>\n",
              "      <td>320.03</td>\n",
              "      <td>323.40</td>\n",
              "      <td>1</td>\n",
              "      <td>318.18</td>\n",
              "      <td>322.38</td>\n",
              "      <td>-1.59</td>\n",
              "      <td>08-02-2020 00:00:00</td>\n",
              "      <td>1.581120e+09</td>\n",
              "      <td>0</td>\n",
              "      <td>[]</td>\n",
              "    </tr>\n",
              "    <tr>\n",
              "      <th>1133</th>\n",
              "      <td>320.03</td>\n",
              "      <td>323.40</td>\n",
              "      <td>0</td>\n",
              "      <td>318.18</td>\n",
              "      <td>322.38</td>\n",
              "      <td>-1.59</td>\n",
              "      <td>09-02-2020 00:00:00</td>\n",
              "      <td>1.581206e+09</td>\n",
              "      <td>1</td>\n",
              "      <td>[as the worlds largest manufacturing nation sh...</td>\n",
              "    </tr>\n",
              "  </tbody>\n",
              "</table>\n",
              "<p>1134 rows × 10 columns</p>\n",
              "</div>"
            ],
            "text/plain": [
              "       price  ...                    WALL_STREE.text_last1days:apple\n",
              "0     116.15  ...                                                 []\n",
              "1     116.15  ...                                                 []\n",
              "2     116.15  ...                                                 []\n",
              "3     116.15  ...                                                 []\n",
              "4     116.02  ...  [apple confirms 1 billion investment in softba...\n",
              "...      ...  ...                                                ...\n",
              "1129  318.85  ...  [the most popular music streaming service in i...\n",
              "1130  321.45  ...  [the rapid spread of the coronavirus has disru...\n",
              "1131  325.21  ...                                                 []\n",
              "1132  320.03  ...                                                 []\n",
              "1133  320.03  ...  [as the worlds largest manufacturing nation sh...\n",
              "\n",
              "[1134 rows x 10 columns]"
            ]
          },
          "metadata": {
            "tags": []
          },
          "execution_count": 26
        }
      ]
    },
    {
      "cell_type": "markdown",
      "metadata": {
        "id": "vZd_qGSa8nqV"
      },
      "source": [
        "# Text vectorizer"
      ]
    },
    {
      "cell_type": "code",
      "metadata": {
        "colab": {
          "base_uri": "https://localhost:8080/"
        },
        "id": "_4CM5uiI7z2V",
        "outputId": "d507b365-a8cb-46b5-8fe3-5c5d09b91fda"
      },
      "source": [
        "action = 'API_createTextVectorizerPlus'\n",
        "\n",
        "parameters = {\n",
        "    'token' : token,\n",
        "    'name' : 'Wall Street and USA Today Vectorizer',\n",
        "    'sources':[\n",
        "              {'id_dataset':\"5e2ef74e9516294390e810a9\", \n",
        "               'features' : [\"text\"]},\n",
        "              {'id_dataset' : \"5e32fd289516291e346c1726\", \n",
        "               'features' : [\"text\"]}\n",
        "    ],\n",
        "    'ngram_range' : {'min' : 1, 'max' : 2},\n",
        "    'language' : 'en',\n",
        "    'remove_stop_words' : 'on',\n",
        "    'min_count_limit' : 2\n",
        "}\n",
        "response = OpenBlender.call(action, parameters)\n",
        "response"
      ],
      "execution_count": null,
      "outputs": [
        {
          "output_type": "execute_result",
          "data": {
            "text/plain": [
              "{'id_textVectorizer': '6111da539516293b390e95e3',\n",
              " 'num_ngrams': 5000,\n",
              " 'response': 'Text Vectorizer created successfully.',\n",
              " 'status': 'success'}"
            ]
          },
          "metadata": {
            "tags": []
          },
          "execution_count": 27
        }
      ]
    },
    {
      "cell_type": "code",
      "metadata": {
        "colab": {
          "base_uri": "https://localhost:8080/",
          "height": 481
        },
        "id": "u13F90aP8sDN",
        "outputId": "ae07c7cb-0302-4c31-d6ce-6df333fe0243"
      },
      "source": [
        "blend_source = { \n",
        "                'id_textVectorizer':'5f74fb7895162967ca2160fe'\n",
        "               }\n",
        "\n",
        "df_blend = OpenBlender.timeBlend( token = token,\n",
        "                                  anchor_ts = df_anchor.timestamp,\n",
        "                                  blend_source = blend_source,\n",
        "                                  blend_type = 'agg_in_intervals',\n",
        "                                  interval_size = 60 * 60 * 24,\n",
        "                                  direction = 'time_prior_strict') .add_prefix('VEC.')\n",
        "                                  \n",
        "df_anchor = pd.concat([df_anchor, df_blend.loc[:, df_blend.columns != 'timestamp']], axis = 1)\n",
        "df_anchor.head()"
      ],
      "execution_count": null,
      "outputs": [
        {
          "output_type": "stream",
          "text": [
            "Task ID: '6111da6d0895fafb4a9d8d4c'.\n",
            "Total estimated consumption: 4486.47 processing units.\n",
            "Task confirmed. Starting download..\n",
            "31.0%\n",
            "62.0%\n",
            "93.0%\n",
            "100%\n"
          ],
          "name": "stdout"
        },
        {
          "output_type": "execute_result",
          "data": {
            "text/html": [
              "<div>\n",
              "<style scoped>\n",
              "    .dataframe tbody tr th:only-of-type {\n",
              "        vertical-align: middle;\n",
              "    }\n",
              "\n",
              "    .dataframe tbody tr th {\n",
              "        vertical-align: top;\n",
              "    }\n",
              "\n",
              "    .dataframe thead th {\n",
              "        text-align: right;\n",
              "    }\n",
              "</style>\n",
              "<table border=\"1\" class=\"dataframe\">\n",
              "  <thead>\n",
              "    <tr style=\"text-align: right;\">\n",
              "      <th></th>\n",
              "      <th>price</th>\n",
              "      <th>high</th>\n",
              "      <th>count_agg</th>\n",
              "      <th>low</th>\n",
              "      <th>open</th>\n",
              "      <th>change</th>\n",
              "      <th>date</th>\n",
              "      <th>timestamp</th>\n",
              "      <th>WALL_STREE.text_COUNT_last1days:apple</th>\n",
              "      <th>WALL_STREE.text_last1days:apple</th>\n",
              "      <th>VEC.stock</th>\n",
              "      <th>VEC.limited</th>\n",
              "      <th>VEC.todays</th>\n",
              "      <th>VEC.rev</th>\n",
              "      <th>VEC.klobuchar</th>\n",
              "      <th>VEC.doubts</th>\n",
              "      <th>VEC.facilities</th>\n",
              "      <th>VEC.protest</th>\n",
              "      <th>VEC.stakes</th>\n",
              "      <th>VEC.sleep</th>\n",
              "      <th>VEC.asian</th>\n",
              "      <th>VEC.controversial</th>\n",
              "      <th>VEC.captain</th>\n",
              "      <th>VEC.hate</th>\n",
              "      <th>VEC.relationships</th>\n",
              "      <th>VEC.votes</th>\n",
              "      <th>VEC.voter</th>\n",
              "      <th>VEC.founder</th>\n",
              "      <th>VEC.aug</th>\n",
              "      <th>VEC.eligible</th>\n",
              "      <th>VEC.electricity</th>\n",
              "      <th>VEC.spin</th>\n",
              "      <th>VEC.tweet</th>\n",
              "      <th>VEC.parliament</th>\n",
              "      <th>VEC.democratic primary</th>\n",
              "      <th>VEC.supported</th>\n",
              "      <th>VEC.edward</th>\n",
              "      <th>VEC.york citys</th>\n",
              "      <th>VEC.voted</th>\n",
              "      <th>VEC.silicon</th>\n",
              "      <th>...</th>\n",
              "      <th>VEC.illinois</th>\n",
              "      <th>VEC.hospitalized</th>\n",
              "      <th>VEC.book</th>\n",
              "      <th>VEC.details</th>\n",
              "      <th>VEC.sick</th>\n",
              "      <th>VEC.wing</th>\n",
              "      <th>VEC.scandal</th>\n",
              "      <th>VEC.conclusion</th>\n",
              "      <th>VEC.johnson</th>\n",
              "      <th>VEC.canada</th>\n",
              "      <th>VEC.illegally</th>\n",
              "      <th>VEC.francisco</th>\n",
              "      <th>VEC.star</th>\n",
              "      <th>VEC.monday</th>\n",
              "      <th>VEC.ubs</th>\n",
              "      <th>VEC.civil rights</th>\n",
              "      <th>VEC.june</th>\n",
              "      <th>VEC.outlets</th>\n",
              "      <th>VEC.stay</th>\n",
              "      <th>VEC.chance</th>\n",
              "      <th>VEC.ceos</th>\n",
              "      <th>VEC.repeal</th>\n",
              "      <th>VEC.friends</th>\n",
              "      <th>VEC.ubers</th>\n",
              "      <th>VEC.christians</th>\n",
              "      <th>VEC.cliff</th>\n",
              "      <th>VEC.samsung</th>\n",
              "      <th>VEC.ranks</th>\n",
              "      <th>VEC.muellers</th>\n",
              "      <th>VEC.earth day</th>\n",
              "      <th>VEC.day week</th>\n",
              "      <th>VEC.portion</th>\n",
              "      <th>VEC.lift</th>\n",
              "      <th>VEC.compete</th>\n",
              "      <th>VEC.pension</th>\n",
              "      <th>VEC.tensions</th>\n",
              "      <th>VEC.rural</th>\n",
              "      <th>VEC.accidents</th>\n",
              "      <th>VEC.oklahoma</th>\n",
              "      <th>VEC.richard</th>\n",
              "    </tr>\n",
              "  </thead>\n",
              "  <tbody>\n",
              "    <tr>\n",
              "      <th>0</th>\n",
              "      <td>116.15</td>\n",
              "      <td>116.33</td>\n",
              "      <td>0</td>\n",
              "      <td>114.76</td>\n",
              "      <td>115.80</td>\n",
              "      <td>0.28</td>\n",
              "      <td>01-01-2017 00:00:00</td>\n",
              "      <td>1.483229e+09</td>\n",
              "      <td>0</td>\n",
              "      <td>[]</td>\n",
              "      <td>0</td>\n",
              "      <td>0</td>\n",
              "      <td>1</td>\n",
              "      <td>0</td>\n",
              "      <td>0</td>\n",
              "      <td>0</td>\n",
              "      <td>0</td>\n",
              "      <td>0</td>\n",
              "      <td>0</td>\n",
              "      <td>0</td>\n",
              "      <td>0</td>\n",
              "      <td>0</td>\n",
              "      <td>2</td>\n",
              "      <td>0</td>\n",
              "      <td>0</td>\n",
              "      <td>0</td>\n",
              "      <td>0</td>\n",
              "      <td>0</td>\n",
              "      <td>0</td>\n",
              "      <td>0</td>\n",
              "      <td>0</td>\n",
              "      <td>0</td>\n",
              "      <td>0</td>\n",
              "      <td>0</td>\n",
              "      <td>0</td>\n",
              "      <td>0</td>\n",
              "      <td>0</td>\n",
              "      <td>1</td>\n",
              "      <td>0</td>\n",
              "      <td>0</td>\n",
              "      <td>...</td>\n",
              "      <td>0</td>\n",
              "      <td>0</td>\n",
              "      <td>0</td>\n",
              "      <td>0</td>\n",
              "      <td>0</td>\n",
              "      <td>0</td>\n",
              "      <td>0</td>\n",
              "      <td>0</td>\n",
              "      <td>2</td>\n",
              "      <td>0</td>\n",
              "      <td>0</td>\n",
              "      <td>0</td>\n",
              "      <td>0</td>\n",
              "      <td>0</td>\n",
              "      <td>0</td>\n",
              "      <td>0</td>\n",
              "      <td>0</td>\n",
              "      <td>0</td>\n",
              "      <td>0</td>\n",
              "      <td>1</td>\n",
              "      <td>0</td>\n",
              "      <td>0</td>\n",
              "      <td>0</td>\n",
              "      <td>0</td>\n",
              "      <td>0</td>\n",
              "      <td>0</td>\n",
              "      <td>0</td>\n",
              "      <td>0</td>\n",
              "      <td>0</td>\n",
              "      <td>0</td>\n",
              "      <td>0</td>\n",
              "      <td>0</td>\n",
              "      <td>0</td>\n",
              "      <td>0</td>\n",
              "      <td>0</td>\n",
              "      <td>0</td>\n",
              "      <td>0</td>\n",
              "      <td>0</td>\n",
              "      <td>0</td>\n",
              "      <td>0</td>\n",
              "    </tr>\n",
              "    <tr>\n",
              "      <th>1</th>\n",
              "      <td>116.15</td>\n",
              "      <td>116.33</td>\n",
              "      <td>0</td>\n",
              "      <td>114.76</td>\n",
              "      <td>115.80</td>\n",
              "      <td>0.28</td>\n",
              "      <td>02-01-2017 00:00:00</td>\n",
              "      <td>1.483315e+09</td>\n",
              "      <td>0</td>\n",
              "      <td>[]</td>\n",
              "      <td>0</td>\n",
              "      <td>0</td>\n",
              "      <td>0</td>\n",
              "      <td>0</td>\n",
              "      <td>0</td>\n",
              "      <td>0</td>\n",
              "      <td>0</td>\n",
              "      <td>0</td>\n",
              "      <td>0</td>\n",
              "      <td>0</td>\n",
              "      <td>0</td>\n",
              "      <td>0</td>\n",
              "      <td>0</td>\n",
              "      <td>0</td>\n",
              "      <td>0</td>\n",
              "      <td>0</td>\n",
              "      <td>0</td>\n",
              "      <td>0</td>\n",
              "      <td>0</td>\n",
              "      <td>0</td>\n",
              "      <td>0</td>\n",
              "      <td>0</td>\n",
              "      <td>0</td>\n",
              "      <td>0</td>\n",
              "      <td>0</td>\n",
              "      <td>0</td>\n",
              "      <td>0</td>\n",
              "      <td>0</td>\n",
              "      <td>0</td>\n",
              "      <td>0</td>\n",
              "      <td>...</td>\n",
              "      <td>0</td>\n",
              "      <td>0</td>\n",
              "      <td>0</td>\n",
              "      <td>0</td>\n",
              "      <td>0</td>\n",
              "      <td>0</td>\n",
              "      <td>0</td>\n",
              "      <td>0</td>\n",
              "      <td>0</td>\n",
              "      <td>0</td>\n",
              "      <td>0</td>\n",
              "      <td>0</td>\n",
              "      <td>1</td>\n",
              "      <td>0</td>\n",
              "      <td>0</td>\n",
              "      <td>0</td>\n",
              "      <td>0</td>\n",
              "      <td>0</td>\n",
              "      <td>0</td>\n",
              "      <td>0</td>\n",
              "      <td>0</td>\n",
              "      <td>0</td>\n",
              "      <td>0</td>\n",
              "      <td>0</td>\n",
              "      <td>0</td>\n",
              "      <td>0</td>\n",
              "      <td>0</td>\n",
              "      <td>0</td>\n",
              "      <td>0</td>\n",
              "      <td>0</td>\n",
              "      <td>0</td>\n",
              "      <td>0</td>\n",
              "      <td>0</td>\n",
              "      <td>1</td>\n",
              "      <td>0</td>\n",
              "      <td>1</td>\n",
              "      <td>0</td>\n",
              "      <td>0</td>\n",
              "      <td>0</td>\n",
              "      <td>0</td>\n",
              "    </tr>\n",
              "    <tr>\n",
              "      <th>2</th>\n",
              "      <td>116.15</td>\n",
              "      <td>116.33</td>\n",
              "      <td>0</td>\n",
              "      <td>114.76</td>\n",
              "      <td>115.80</td>\n",
              "      <td>0.28</td>\n",
              "      <td>03-01-2017 00:00:00</td>\n",
              "      <td>1.483402e+09</td>\n",
              "      <td>0</td>\n",
              "      <td>[]</td>\n",
              "      <td>0</td>\n",
              "      <td>0</td>\n",
              "      <td>0</td>\n",
              "      <td>0</td>\n",
              "      <td>0</td>\n",
              "      <td>0</td>\n",
              "      <td>0</td>\n",
              "      <td>2</td>\n",
              "      <td>0</td>\n",
              "      <td>0</td>\n",
              "      <td>0</td>\n",
              "      <td>0</td>\n",
              "      <td>0</td>\n",
              "      <td>0</td>\n",
              "      <td>0</td>\n",
              "      <td>0</td>\n",
              "      <td>0</td>\n",
              "      <td>0</td>\n",
              "      <td>0</td>\n",
              "      <td>0</td>\n",
              "      <td>0</td>\n",
              "      <td>0</td>\n",
              "      <td>0</td>\n",
              "      <td>0</td>\n",
              "      <td>0</td>\n",
              "      <td>0</td>\n",
              "      <td>0</td>\n",
              "      <td>0</td>\n",
              "      <td>0</td>\n",
              "      <td>0</td>\n",
              "      <td>...</td>\n",
              "      <td>0</td>\n",
              "      <td>0</td>\n",
              "      <td>0</td>\n",
              "      <td>0</td>\n",
              "      <td>0</td>\n",
              "      <td>0</td>\n",
              "      <td>0</td>\n",
              "      <td>0</td>\n",
              "      <td>0</td>\n",
              "      <td>0</td>\n",
              "      <td>0</td>\n",
              "      <td>0</td>\n",
              "      <td>0</td>\n",
              "      <td>1</td>\n",
              "      <td>0</td>\n",
              "      <td>0</td>\n",
              "      <td>0</td>\n",
              "      <td>0</td>\n",
              "      <td>0</td>\n",
              "      <td>0</td>\n",
              "      <td>0</td>\n",
              "      <td>0</td>\n",
              "      <td>0</td>\n",
              "      <td>0</td>\n",
              "      <td>0</td>\n",
              "      <td>0</td>\n",
              "      <td>0</td>\n",
              "      <td>0</td>\n",
              "      <td>0</td>\n",
              "      <td>0</td>\n",
              "      <td>0</td>\n",
              "      <td>0</td>\n",
              "      <td>0</td>\n",
              "      <td>0</td>\n",
              "      <td>0</td>\n",
              "      <td>0</td>\n",
              "      <td>0</td>\n",
              "      <td>0</td>\n",
              "      <td>0</td>\n",
              "      <td>0</td>\n",
              "    </tr>\n",
              "    <tr>\n",
              "      <th>3</th>\n",
              "      <td>116.15</td>\n",
              "      <td>116.33</td>\n",
              "      <td>1</td>\n",
              "      <td>114.76</td>\n",
              "      <td>115.80</td>\n",
              "      <td>0.28</td>\n",
              "      <td>04-01-2017 00:00:00</td>\n",
              "      <td>1.483488e+09</td>\n",
              "      <td>0</td>\n",
              "      <td>[]</td>\n",
              "      <td>0</td>\n",
              "      <td>0</td>\n",
              "      <td>0</td>\n",
              "      <td>0</td>\n",
              "      <td>0</td>\n",
              "      <td>0</td>\n",
              "      <td>0</td>\n",
              "      <td>0</td>\n",
              "      <td>1</td>\n",
              "      <td>0</td>\n",
              "      <td>0</td>\n",
              "      <td>0</td>\n",
              "      <td>0</td>\n",
              "      <td>0</td>\n",
              "      <td>0</td>\n",
              "      <td>0</td>\n",
              "      <td>0</td>\n",
              "      <td>1</td>\n",
              "      <td>0</td>\n",
              "      <td>0</td>\n",
              "      <td>0</td>\n",
              "      <td>0</td>\n",
              "      <td>1</td>\n",
              "      <td>0</td>\n",
              "      <td>0</td>\n",
              "      <td>0</td>\n",
              "      <td>0</td>\n",
              "      <td>0</td>\n",
              "      <td>0</td>\n",
              "      <td>0</td>\n",
              "      <td>...</td>\n",
              "      <td>0</td>\n",
              "      <td>0</td>\n",
              "      <td>1</td>\n",
              "      <td>0</td>\n",
              "      <td>0</td>\n",
              "      <td>0</td>\n",
              "      <td>0</td>\n",
              "      <td>0</td>\n",
              "      <td>0</td>\n",
              "      <td>0</td>\n",
              "      <td>0</td>\n",
              "      <td>0</td>\n",
              "      <td>0</td>\n",
              "      <td>1</td>\n",
              "      <td>0</td>\n",
              "      <td>0</td>\n",
              "      <td>0</td>\n",
              "      <td>0</td>\n",
              "      <td>0</td>\n",
              "      <td>0</td>\n",
              "      <td>0</td>\n",
              "      <td>0</td>\n",
              "      <td>0</td>\n",
              "      <td>0</td>\n",
              "      <td>0</td>\n",
              "      <td>0</td>\n",
              "      <td>0</td>\n",
              "      <td>0</td>\n",
              "      <td>0</td>\n",
              "      <td>0</td>\n",
              "      <td>0</td>\n",
              "      <td>0</td>\n",
              "      <td>0</td>\n",
              "      <td>0</td>\n",
              "      <td>0</td>\n",
              "      <td>0</td>\n",
              "      <td>0</td>\n",
              "      <td>0</td>\n",
              "      <td>0</td>\n",
              "      <td>0</td>\n",
              "    </tr>\n",
              "    <tr>\n",
              "      <th>4</th>\n",
              "      <td>116.02</td>\n",
              "      <td>116.51</td>\n",
              "      <td>1</td>\n",
              "      <td>115.75</td>\n",
              "      <td>115.85</td>\n",
              "      <td>-0.11</td>\n",
              "      <td>05-01-2017 00:00:00</td>\n",
              "      <td>1.483574e+09</td>\n",
              "      <td>1</td>\n",
              "      <td>[apple confirms 1 billion investment in softba...</td>\n",
              "      <td>0</td>\n",
              "      <td>0</td>\n",
              "      <td>1</td>\n",
              "      <td>0</td>\n",
              "      <td>0</td>\n",
              "      <td>0</td>\n",
              "      <td>0</td>\n",
              "      <td>0</td>\n",
              "      <td>0</td>\n",
              "      <td>0</td>\n",
              "      <td>0</td>\n",
              "      <td>0</td>\n",
              "      <td>0</td>\n",
              "      <td>1</td>\n",
              "      <td>0</td>\n",
              "      <td>0</td>\n",
              "      <td>0</td>\n",
              "      <td>0</td>\n",
              "      <td>0</td>\n",
              "      <td>0</td>\n",
              "      <td>0</td>\n",
              "      <td>0</td>\n",
              "      <td>0</td>\n",
              "      <td>0</td>\n",
              "      <td>0</td>\n",
              "      <td>0</td>\n",
              "      <td>0</td>\n",
              "      <td>0</td>\n",
              "      <td>0</td>\n",
              "      <td>0</td>\n",
              "      <td>...</td>\n",
              "      <td>0</td>\n",
              "      <td>0</td>\n",
              "      <td>0</td>\n",
              "      <td>3</td>\n",
              "      <td>0</td>\n",
              "      <td>0</td>\n",
              "      <td>0</td>\n",
              "      <td>0</td>\n",
              "      <td>0</td>\n",
              "      <td>0</td>\n",
              "      <td>0</td>\n",
              "      <td>0</td>\n",
              "      <td>0</td>\n",
              "      <td>0</td>\n",
              "      <td>0</td>\n",
              "      <td>0</td>\n",
              "      <td>0</td>\n",
              "      <td>0</td>\n",
              "      <td>0</td>\n",
              "      <td>0</td>\n",
              "      <td>0</td>\n",
              "      <td>0</td>\n",
              "      <td>0</td>\n",
              "      <td>0</td>\n",
              "      <td>0</td>\n",
              "      <td>0</td>\n",
              "      <td>1</td>\n",
              "      <td>0</td>\n",
              "      <td>0</td>\n",
              "      <td>0</td>\n",
              "      <td>0</td>\n",
              "      <td>0</td>\n",
              "      <td>0</td>\n",
              "      <td>0</td>\n",
              "      <td>0</td>\n",
              "      <td>0</td>\n",
              "      <td>0</td>\n",
              "      <td>0</td>\n",
              "      <td>0</td>\n",
              "      <td>0</td>\n",
              "    </tr>\n",
              "  </tbody>\n",
              "</table>\n",
              "<p>5 rows × 4888 columns</p>\n",
              "</div>"
            ],
            "text/plain": [
              "    price    high  count_agg  ...  VEC.accidents  VEC.oklahoma  VEC.richard\n",
              "0  116.15  116.33          0  ...              0             0            0\n",
              "1  116.15  116.33          0  ...              0             0            0\n",
              "2  116.15  116.33          0  ...              0             0            0\n",
              "3  116.15  116.33          1  ...              0             0            0\n",
              "4  116.02  116.51          1  ...              0             0            0\n",
              "\n",
              "[5 rows x 4888 columns]"
            ]
          },
          "metadata": {
            "tags": []
          },
          "execution_count": 28
        }
      ]
    },
    {
      "cell_type": "code",
      "metadata": {
        "id": "NFap-tm5HJhz"
      },
      "source": [
        "df_anchor_chopped = df_anchor[['price', 'high', 'count_agg', 'low', 'open', 'change', 'date', 'timestamp']]\n"
      ],
      "execution_count": null,
      "outputs": []
    },
    {
      "cell_type": "markdown",
      "metadata": {
        "id": "zJN0eJ3H_-Mi"
      },
      "source": [
        "# Prepare data and apply ML"
      ]
    },
    {
      "cell_type": "markdown",
      "metadata": {
        "id": "pocr97z6IPB7"
      },
      "source": [
        "#### Original"
      ]
    },
    {
      "cell_type": "code",
      "metadata": {
        "colab": {
          "base_uri": "https://localhost:8080/",
          "height": 424
        },
        "id": "iYqQMdIrAH3H",
        "outputId": "53a7bad6-209a-4a9b-e8a4-4fb15df4a3ea"
      },
      "source": [
        "# Where ‘change’ decreased more than 0.5%\n",
        "df_anchor['negative_poc'] = [1 if log_diff < -0.005 else 0 for log_diff in df_anchor['change']]\n",
        "\n",
        "# Where ‘change’ increased more than 0.5%\n",
        "df_anchor['positive_poc'] = [1 if log_diff > 0.005 else 0 for log_diff in df_anchor['change']]# We need to shift our target one day so that we predict \n",
        "\n",
        "\n",
        "# for what will happen 'tomorrow' with news and data from 'today'\n",
        "df_anchor['target'] = df_anchor['positive_poc'].shift(-1)\n",
        "df_anchor[['change', 'positive_poc', 'target']]"
      ],
      "execution_count": null,
      "outputs": [
        {
          "output_type": "execute_result",
          "data": {
            "text/html": [
              "<div>\n",
              "<style scoped>\n",
              "    .dataframe tbody tr th:only-of-type {\n",
              "        vertical-align: middle;\n",
              "    }\n",
              "\n",
              "    .dataframe tbody tr th {\n",
              "        vertical-align: top;\n",
              "    }\n",
              "\n",
              "    .dataframe thead th {\n",
              "        text-align: right;\n",
              "    }\n",
              "</style>\n",
              "<table border=\"1\" class=\"dataframe\">\n",
              "  <thead>\n",
              "    <tr style=\"text-align: right;\">\n",
              "      <th></th>\n",
              "      <th>change</th>\n",
              "      <th>positive_poc</th>\n",
              "      <th>target</th>\n",
              "    </tr>\n",
              "  </thead>\n",
              "  <tbody>\n",
              "    <tr>\n",
              "      <th>0</th>\n",
              "      <td>0.28</td>\n",
              "      <td>1</td>\n",
              "      <td>1.0</td>\n",
              "    </tr>\n",
              "    <tr>\n",
              "      <th>1</th>\n",
              "      <td>0.28</td>\n",
              "      <td>1</td>\n",
              "      <td>1.0</td>\n",
              "    </tr>\n",
              "    <tr>\n",
              "      <th>2</th>\n",
              "      <td>0.28</td>\n",
              "      <td>1</td>\n",
              "      <td>1.0</td>\n",
              "    </tr>\n",
              "    <tr>\n",
              "      <th>3</th>\n",
              "      <td>0.28</td>\n",
              "      <td>1</td>\n",
              "      <td>0.0</td>\n",
              "    </tr>\n",
              "    <tr>\n",
              "      <th>4</th>\n",
              "      <td>-0.11</td>\n",
              "      <td>0</td>\n",
              "      <td>1.0</td>\n",
              "    </tr>\n",
              "    <tr>\n",
              "      <th>...</th>\n",
              "      <td>...</td>\n",
              "      <td>...</td>\n",
              "      <td>...</td>\n",
              "    </tr>\n",
              "    <tr>\n",
              "      <th>1129</th>\n",
              "      <td>3.30</td>\n",
              "      <td>1</td>\n",
              "      <td>1.0</td>\n",
              "    </tr>\n",
              "    <tr>\n",
              "      <th>1130</th>\n",
              "      <td>0.82</td>\n",
              "      <td>1</td>\n",
              "      <td>1.0</td>\n",
              "    </tr>\n",
              "    <tr>\n",
              "      <th>1131</th>\n",
              "      <td>1.17</td>\n",
              "      <td>1</td>\n",
              "      <td>0.0</td>\n",
              "    </tr>\n",
              "    <tr>\n",
              "      <th>1132</th>\n",
              "      <td>-1.59</td>\n",
              "      <td>0</td>\n",
              "      <td>0.0</td>\n",
              "    </tr>\n",
              "    <tr>\n",
              "      <th>1133</th>\n",
              "      <td>-1.59</td>\n",
              "      <td>0</td>\n",
              "      <td>NaN</td>\n",
              "    </tr>\n",
              "  </tbody>\n",
              "</table>\n",
              "<p>1134 rows × 3 columns</p>\n",
              "</div>"
            ],
            "text/plain": [
              "      change  positive_poc  target\n",
              "0       0.28             1     1.0\n",
              "1       0.28             1     1.0\n",
              "2       0.28             1     1.0\n",
              "3       0.28             1     0.0\n",
              "4      -0.11             0     1.0\n",
              "...      ...           ...     ...\n",
              "1129    3.30             1     1.0\n",
              "1130    0.82             1     1.0\n",
              "1131    1.17             1     0.0\n",
              "1132   -1.59             0     0.0\n",
              "1133   -1.59             0     NaN\n",
              "\n",
              "[1134 rows x 3 columns]"
            ]
          },
          "metadata": {
            "tags": []
          },
          "execution_count": 30
        }
      ]
    },
    {
      "cell_type": "markdown",
      "metadata": {
        "id": "xp1mh1_2IQ8N"
      },
      "source": [
        "#### Chopped"
      ]
    },
    {
      "cell_type": "code",
      "metadata": {
        "colab": {
          "base_uri": "https://localhost:8080/"
        },
        "id": "sXnvCZIBITs0",
        "outputId": "cb62b169-8139-4679-9e42-13524a342a6f"
      },
      "source": [
        "# Where ‘change’ decreased more than 0.5%\n",
        "df_anchor_chopped['negative_poc'] = [1 if log_diff < -0.005 else 0 for log_diff in df_anchor_chopped['change']]\n",
        "\n",
        "# Where ‘change’ increased more than 0.5%\n",
        "df_anchor_chopped['positive_poc'] = [1 if log_diff > 0.005 else 0 for log_diff in df_anchor_chopped['change']]# We need to shift our target one day so that we predict \n",
        "\n",
        "\n",
        "# for what will happen 'tomorrow' with news and data from 'today'\n",
        "df_anchor_chopped['target'] = df_anchor_chopped['positive_poc'].shift(-1)\n",
        "df_anchor_chopped[['change', 'positive_poc', 'target']]"
      ],
      "execution_count": null,
      "outputs": [
        {
          "output_type": "execute_result",
          "data": {
            "text/html": [
              "<div>\n",
              "<style scoped>\n",
              "    .dataframe tbody tr th:only-of-type {\n",
              "        vertical-align: middle;\n",
              "    }\n",
              "\n",
              "    .dataframe tbody tr th {\n",
              "        vertical-align: top;\n",
              "    }\n",
              "\n",
              "    .dataframe thead th {\n",
              "        text-align: right;\n",
              "    }\n",
              "</style>\n",
              "<table border=\"1\" class=\"dataframe\">\n",
              "  <thead>\n",
              "    <tr style=\"text-align: right;\">\n",
              "      <th></th>\n",
              "      <th>change</th>\n",
              "      <th>positive_poc</th>\n",
              "      <th>target</th>\n",
              "    </tr>\n",
              "  </thead>\n",
              "  <tbody>\n",
              "    <tr>\n",
              "      <th>0</th>\n",
              "      <td>0.280000</td>\n",
              "      <td>1</td>\n",
              "      <td>1.0</td>\n",
              "    </tr>\n",
              "    <tr>\n",
              "      <th>1</th>\n",
              "      <td>0.280000</td>\n",
              "      <td>1</td>\n",
              "      <td>1.0</td>\n",
              "    </tr>\n",
              "    <tr>\n",
              "      <th>2</th>\n",
              "      <td>0.280000</td>\n",
              "      <td>1</td>\n",
              "      <td>1.0</td>\n",
              "    </tr>\n",
              "    <tr>\n",
              "      <th>3</th>\n",
              "      <td>0.280000</td>\n",
              "      <td>1</td>\n",
              "      <td>0.0</td>\n",
              "    </tr>\n",
              "    <tr>\n",
              "      <th>4</th>\n",
              "      <td>-0.110000</td>\n",
              "      <td>0</td>\n",
              "      <td>1.0</td>\n",
              "    </tr>\n",
              "    <tr>\n",
              "      <th>...</th>\n",
              "      <td>...</td>\n",
              "      <td>...</td>\n",
              "      <td>...</td>\n",
              "    </tr>\n",
              "    <tr>\n",
              "      <th>1126</th>\n",
              "      <td>-3.043333</td>\n",
              "      <td>0</td>\n",
              "      <td>0.0</td>\n",
              "    </tr>\n",
              "    <tr>\n",
              "      <th>1127</th>\n",
              "      <td>-1.656667</td>\n",
              "      <td>0</td>\n",
              "      <td>0.0</td>\n",
              "    </tr>\n",
              "    <tr>\n",
              "      <th>1128</th>\n",
              "      <td>-0.270000</td>\n",
              "      <td>0</td>\n",
              "      <td>1.0</td>\n",
              "    </tr>\n",
              "    <tr>\n",
              "      <th>1129</th>\n",
              "      <td>3.300000</td>\n",
              "      <td>1</td>\n",
              "      <td>1.0</td>\n",
              "    </tr>\n",
              "    <tr>\n",
              "      <th>1130</th>\n",
              "      <td>0.820000</td>\n",
              "      <td>1</td>\n",
              "      <td>NaN</td>\n",
              "    </tr>\n",
              "  </tbody>\n",
              "</table>\n",
              "<p>1131 rows × 3 columns</p>\n",
              "</div>"
            ],
            "text/plain": [
              "        change  positive_poc  target\n",
              "0     0.280000             1     1.0\n",
              "1     0.280000             1     1.0\n",
              "2     0.280000             1     1.0\n",
              "3     0.280000             1     0.0\n",
              "4    -0.110000             0     1.0\n",
              "...        ...           ...     ...\n",
              "1126 -3.043333             0     0.0\n",
              "1127 -1.656667             0     0.0\n",
              "1128 -0.270000             0     1.0\n",
              "1129  3.300000             1     1.0\n",
              "1130  0.820000             1     NaN\n",
              "\n",
              "[1131 rows x 3 columns]"
            ]
          },
          "metadata": {
            "tags": []
          },
          "execution_count": 108
        }
      ]
    },
    {
      "cell_type": "markdown",
      "metadata": {
        "id": "JicGU1jqIi6O"
      },
      "source": [
        "#### original, prepare for ml data"
      ]
    },
    {
      "cell_type": "code",
      "metadata": {
        "colab": {
          "base_uri": "https://localhost:8080/"
        },
        "id": "XxUnnwPpBWU8",
        "outputId": "33912175-6b3d-4e72-97dd-0b1b0fee3d3c"
      },
      "source": [
        "# Import libraries\n",
        "from sklearn.ensemble import RandomForestRegressor\n",
        "from sklearn.metrics import roc_auc_score\n",
        "from sklearn.metrics import accuracy_score\n",
        "from sklearn import metrics\n",
        "df_anchor = df_anchor[:-1] # Remove the last one with NaN\n",
        "\n",
        "# Define target\n",
        "target = 'target'\n",
        "df_positive = df_anchor[1:].select_dtypes(['number'])\n",
        "\n",
        "# Create train/test sets\n",
        "X = df_positive.loc[:, df_positive.columns != target].values\n",
        "y = df_positive.loc[:,[target]].values\n",
        "div = int(round(len(X) * 0.71))\n",
        "X_train = X[:div]\n",
        "y_train = y[:div]\n",
        "X_test = X[div:]\n",
        "y_test = y[div:]\n",
        "print('Train:')\n",
        "print(X_train.shape)\n",
        "print(y_train.shape)\n",
        "print('Test:')\n",
        "print(X_test.shape)\n",
        "print(y_test.shape)"
      ],
      "execution_count": null,
      "outputs": [
        {
          "output_type": "stream",
          "text": [
            "Train:\n",
            "(802, 4887)\n",
            "(802, 1)\n",
            "Test:\n",
            "(328, 4887)\n",
            "(328, 1)\n"
          ],
          "name": "stdout"
        }
      ]
    },
    {
      "cell_type": "markdown",
      "metadata": {
        "id": "Dn7-DyVOIoqm"
      },
      "source": [
        "#### chopped, prepare for ml data"
      ]
    },
    {
      "cell_type": "code",
      "metadata": {
        "colab": {
          "base_uri": "https://localhost:8080/"
        },
        "id": "LSRh2Rn9In-k",
        "outputId": "bed55199-e7cb-4499-a0bc-759a773dc4a3"
      },
      "source": [
        "df_anchor_chopped = df_anchor_chopped[:-1] # Remove the last one with NaN\n",
        "\n",
        "# Define target\n",
        "target = 'target'\n",
        "df_positive_chopped = df_anchor_chopped[1:].select_dtypes(['number'])\n",
        "\n",
        "# Create train/test sets\n",
        "X_chopped = df_positive_chopped.loc[:, df_positive_chopped.columns != target].values\n",
        "y_chopped = df_positive_chopped.loc[:,[target]].values\n",
        "div = int(round(len(X_chopped) * 0.71))\n",
        "X_train_chopped = X_chopped[:div]\n",
        "y_train_chopped = y_chopped[:div]\n",
        "X_test_chopped = X_chopped[div:]\n",
        "y_test_chopped = y_chopped[div:]\n",
        "print('Train chopped:')\n",
        "print(X_train_chopped.shape)\n",
        "print(y_train_chopped.shape)\n",
        "print('Test chopped:')\n",
        "print(X_test_chopped.shape)\n",
        "print(y_test_chopped.shape)"
      ],
      "execution_count": null,
      "outputs": [
        {
          "output_type": "stream",
          "text": [
            "Train chopped:\n",
            "(802, 9)\n",
            "(802, 1)\n",
            "Test chopped:\n",
            "(327, 9)\n",
            "(327, 1)\n"
          ],
          "name": "stdout"
        }
      ]
    },
    {
      "cell_type": "code",
      "metadata": {
        "id": "_tf0GnQCEMPJ",
        "colab": {
          "base_uri": "https://localhost:8080/"
        },
        "outputId": "6ce2f0fd-a6d5-4c73-d982-0b954fc8caee"
      },
      "source": [
        "y_train[0]"
      ],
      "execution_count": null,
      "outputs": [
        {
          "output_type": "execute_result",
          "data": {
            "text/plain": [
              "array([1.])"
            ]
          },
          "metadata": {
            "tags": []
          },
          "execution_count": 111
        }
      ]
    },
    {
      "cell_type": "markdown",
      "metadata": {
        "id": "CXmBXqafJR9p"
      },
      "source": [
        "#### original, fit the ml model"
      ]
    },
    {
      "cell_type": "code",
      "metadata": {
        "colab": {
          "base_uri": "https://localhost:8080/"
        },
        "id": "ukdh8sk8C6_I",
        "outputId": "d4eceb8f-67d0-4e76-ab16-c6b58f34895e"
      },
      "source": [
        "rf = RandomForestRegressor(n_estimators = 500, random_state = 1)\n",
        "rf.fit(X_train, y_train)\n",
        "y_pred = rf.predict(X_test)"
      ],
      "execution_count": null,
      "outputs": [
        {
          "output_type": "stream",
          "text": [
            "/usr/local/lib/python3.7/dist-packages/ipykernel_launcher.py:2: DataConversionWarning: A column-vector y was passed when a 1d array was expected. Please change the shape of y to (n_samples,), for example using ravel().\n",
            "  \n"
          ],
          "name": "stderr"
        }
      ]
    },
    {
      "cell_type": "code",
      "metadata": {
        "id": "hcd_Q-S9Jfi-",
        "colab": {
          "base_uri": "https://localhost:8080/"
        },
        "outputId": "5cca961f-7e90-4112-9ee6-78db3964e2d7"
      },
      "source": [
        "print(\"AUC score:\")\n",
        "print(roc_auc_score(y_test, y_pred))\n",
        "print('---')# Let's binarize and look at the confusion matrix\n",
        "preds = [1 if val > 0.5 else 0 for val in y_pred]\n",
        "print('Confusion Matrix:')\n",
        "print(metrics.confusion_matrix(y_test, preds))\n",
        "print('---')# Lets look at the accuracy score\n",
        "print('Accuracy:')\n",
        "print(accuracy_score(y_test, preds))\n",
        "print('---')"
      ],
      "execution_count": null,
      "outputs": [
        {
          "output_type": "stream",
          "text": [
            "AUC score:\n",
            "0.7364203874995241\n",
            "---\n",
            "Confusion Matrix:\n",
            "[[ 89  50]\n",
            " [ 52 137]]\n",
            "---\n",
            "Accuracy:\n",
            "0.6890243902439024\n",
            "---\n"
          ],
          "name": "stdout"
        }
      ]
    },
    {
      "cell_type": "markdown",
      "metadata": {
        "id": "smxmfYQXJU51"
      },
      "source": [
        "#### chopped, fit the ml model"
      ]
    },
    {
      "cell_type": "code",
      "metadata": {
        "id": "mkQFpjdXJYC4",
        "colab": {
          "base_uri": "https://localhost:8080/"
        },
        "outputId": "504a32dc-9f2a-4131-bf8f-e5a0112e64a8"
      },
      "source": [
        "rf = RandomForestRegressor(n_estimators = 2000, random_state = 1)\n",
        "rf.fit(X_train_chopped, y_train_chopped)\n",
        "y_pred_chopped = rf.predict(X_test_chopped)"
      ],
      "execution_count": null,
      "outputs": [
        {
          "output_type": "stream",
          "text": [
            "/usr/local/lib/python3.7/dist-packages/ipykernel_launcher.py:2: DataConversionWarning: A column-vector y was passed when a 1d array was expected. Please change the shape of y to (n_samples,), for example using ravel().\n",
            "  \n"
          ],
          "name": "stderr"
        }
      ]
    },
    {
      "cell_type": "code",
      "metadata": {
        "id": "YVJPjhi6DBXb",
        "colab": {
          "base_uri": "https://localhost:8080/"
        },
        "outputId": "3a25d50d-c05a-4634-84e5-73b43eea1437"
      },
      "source": [
        "print(\"AUC score:\")\n",
        "print(roc_auc_score(y_test_chopped, y_pred_chopped))\n",
        "print('---')# Let's binarize and look at the confusion matrix\n",
        "preds_chopped = [1 if val > 0.5 else 0 for val in y_pred_chopped]\n",
        "print('Confusion Matrix:')\n",
        "print(metrics.confusion_matrix(y_test_chopped, preds_chopped))\n",
        "print('---')# Lets look at the accuracy score\n",
        "print('Accuracy of chopped:')\n",
        "print(accuracy_score(y_test_chopped, preds_chopped))\n",
        "print('---')"
      ],
      "execution_count": null,
      "outputs": [
        {
          "output_type": "stream",
          "text": [
            "AUC score:\n",
            "0.6984802431610941\n",
            "---\n",
            "Confusion Matrix:\n",
            "[[ 77  63]\n",
            " [ 41 147]]\n",
            "---\n",
            "Accuracy of chopped:\n",
            "0.6829268292682927\n",
            "---\n"
          ],
          "name": "stdout"
        }
      ]
    },
    {
      "cell_type": "markdown",
      "metadata": {
        "id": "qqdnfzrjLTaw"
      },
      "source": [
        "### Original coparison"
      ]
    },
    {
      "cell_type": "code",
      "metadata": {
        "colab": {
          "base_uri": "https://localhost:8080/"
        },
        "id": "aNgG5NAxELBD",
        "outputId": "958eecea-0914-432a-fac1-cf673b4e5e53"
      },
      "source": [
        "results = []\n",
        "\n",
        "for i in range(0, 90, 5): \n",
        " time_chunk = i/100\n",
        " print(\"time_chunk:\" + str(time_chunk) + \"starts\")\n",
        " df_ml = df_positive[:int(round(df_positive.shape[0] * (time_chunk + 0.14)))]\n",
        " X = df_ml.loc[:, df_ml.columns != target].values\n",
        " y = df_ml.loc[:,[target]].values\n",
        " div = int(round(len(X) * 0.29))\n",
        " X_test = X[:div]\n",
        " y_test = y[:div]\n",
        " X_train = X[div:]\n",
        " y_train = y[div:]\n",
        " rf = RandomForestRegressor(n_estimators = 500, random_state = 1)\n",
        " rf.fit(X_train, y_train)\n",
        " y_pred = rf.predict(X_test)\n",
        " preds = [1 if val > 0.5 else 0 for val in y_pred]\n",
        " try:\n",
        "  roc = roc_auc_score(y_test, y_pred)\n",
        " except:\n",
        "  roc = 0\n",
        " conf_mat = metrics.confusion_matrix(y_test, preds)\n",
        " accuracy = accuracy_score(y_test, preds)\n",
        " results.append({\n",
        " 'roc' : roc,\n",
        " 'accuracy' : accuracy,\n",
        " 'conf_mat' : conf_mat,\n",
        " 'time_chunk' : time_chunk\n",
        " })"
      ],
      "execution_count": null,
      "outputs": [
        {
          "output_type": "stream",
          "text": [
            "time_chunk:0.0starts\n"
          ],
          "name": "stdout"
        },
        {
          "output_type": "stream",
          "text": [
            "/usr/local/lib/python3.7/dist-packages/ipykernel_launcher.py:15: DataConversionWarning: A column-vector y was passed when a 1d array was expected. Please change the shape of y to (n_samples,), for example using ravel().\n",
            "  from ipykernel import kernelapp as app\n"
          ],
          "name": "stderr"
        },
        {
          "output_type": "stream",
          "text": [
            "time_chunk:0.05starts\n"
          ],
          "name": "stdout"
        },
        {
          "output_type": "stream",
          "text": [
            "/usr/local/lib/python3.7/dist-packages/ipykernel_launcher.py:15: DataConversionWarning: A column-vector y was passed when a 1d array was expected. Please change the shape of y to (n_samples,), for example using ravel().\n",
            "  from ipykernel import kernelapp as app\n"
          ],
          "name": "stderr"
        },
        {
          "output_type": "stream",
          "text": [
            "time_chunk:0.1starts\n"
          ],
          "name": "stdout"
        },
        {
          "output_type": "stream",
          "text": [
            "/usr/local/lib/python3.7/dist-packages/ipykernel_launcher.py:15: DataConversionWarning: A column-vector y was passed when a 1d array was expected. Please change the shape of y to (n_samples,), for example using ravel().\n",
            "  from ipykernel import kernelapp as app\n"
          ],
          "name": "stderr"
        },
        {
          "output_type": "stream",
          "text": [
            "time_chunk:0.15starts\n"
          ],
          "name": "stdout"
        },
        {
          "output_type": "stream",
          "text": [
            "/usr/local/lib/python3.7/dist-packages/ipykernel_launcher.py:15: DataConversionWarning: A column-vector y was passed when a 1d array was expected. Please change the shape of y to (n_samples,), for example using ravel().\n",
            "  from ipykernel import kernelapp as app\n"
          ],
          "name": "stderr"
        },
        {
          "output_type": "stream",
          "text": [
            "time_chunk:0.2starts\n"
          ],
          "name": "stdout"
        },
        {
          "output_type": "stream",
          "text": [
            "/usr/local/lib/python3.7/dist-packages/ipykernel_launcher.py:15: DataConversionWarning: A column-vector y was passed when a 1d array was expected. Please change the shape of y to (n_samples,), for example using ravel().\n",
            "  from ipykernel import kernelapp as app\n"
          ],
          "name": "stderr"
        },
        {
          "output_type": "stream",
          "text": [
            "time_chunk:0.25starts\n"
          ],
          "name": "stdout"
        },
        {
          "output_type": "stream",
          "text": [
            "/usr/local/lib/python3.7/dist-packages/ipykernel_launcher.py:15: DataConversionWarning: A column-vector y was passed when a 1d array was expected. Please change the shape of y to (n_samples,), for example using ravel().\n",
            "  from ipykernel import kernelapp as app\n"
          ],
          "name": "stderr"
        },
        {
          "output_type": "stream",
          "text": [
            "time_chunk:0.3starts\n"
          ],
          "name": "stdout"
        },
        {
          "output_type": "stream",
          "text": [
            "/usr/local/lib/python3.7/dist-packages/ipykernel_launcher.py:15: DataConversionWarning: A column-vector y was passed when a 1d array was expected. Please change the shape of y to (n_samples,), for example using ravel().\n",
            "  from ipykernel import kernelapp as app\n"
          ],
          "name": "stderr"
        },
        {
          "output_type": "stream",
          "text": [
            "time_chunk:0.35starts\n"
          ],
          "name": "stdout"
        },
        {
          "output_type": "stream",
          "text": [
            "/usr/local/lib/python3.7/dist-packages/ipykernel_launcher.py:15: DataConversionWarning: A column-vector y was passed when a 1d array was expected. Please change the shape of y to (n_samples,), for example using ravel().\n",
            "  from ipykernel import kernelapp as app\n"
          ],
          "name": "stderr"
        },
        {
          "output_type": "stream",
          "text": [
            "time_chunk:0.4starts\n"
          ],
          "name": "stdout"
        },
        {
          "output_type": "stream",
          "text": [
            "/usr/local/lib/python3.7/dist-packages/ipykernel_launcher.py:15: DataConversionWarning: A column-vector y was passed when a 1d array was expected. Please change the shape of y to (n_samples,), for example using ravel().\n",
            "  from ipykernel import kernelapp as app\n"
          ],
          "name": "stderr"
        },
        {
          "output_type": "stream",
          "text": [
            "time_chunk:0.45starts\n"
          ],
          "name": "stdout"
        },
        {
          "output_type": "stream",
          "text": [
            "/usr/local/lib/python3.7/dist-packages/ipykernel_launcher.py:15: DataConversionWarning: A column-vector y was passed when a 1d array was expected. Please change the shape of y to (n_samples,), for example using ravel().\n",
            "  from ipykernel import kernelapp as app\n"
          ],
          "name": "stderr"
        },
        {
          "output_type": "stream",
          "text": [
            "time_chunk:0.5starts\n"
          ],
          "name": "stdout"
        },
        {
          "output_type": "stream",
          "text": [
            "/usr/local/lib/python3.7/dist-packages/ipykernel_launcher.py:15: DataConversionWarning: A column-vector y was passed when a 1d array was expected. Please change the shape of y to (n_samples,), for example using ravel().\n",
            "  from ipykernel import kernelapp as app\n"
          ],
          "name": "stderr"
        },
        {
          "output_type": "stream",
          "text": [
            "time_chunk:0.55starts\n"
          ],
          "name": "stdout"
        },
        {
          "output_type": "stream",
          "text": [
            "/usr/local/lib/python3.7/dist-packages/ipykernel_launcher.py:15: DataConversionWarning: A column-vector y was passed when a 1d array was expected. Please change the shape of y to (n_samples,), for example using ravel().\n",
            "  from ipykernel import kernelapp as app\n"
          ],
          "name": "stderr"
        },
        {
          "output_type": "stream",
          "text": [
            "time_chunk:0.6starts\n"
          ],
          "name": "stdout"
        },
        {
          "output_type": "stream",
          "text": [
            "/usr/local/lib/python3.7/dist-packages/ipykernel_launcher.py:15: DataConversionWarning: A column-vector y was passed when a 1d array was expected. Please change the shape of y to (n_samples,), for example using ravel().\n",
            "  from ipykernel import kernelapp as app\n"
          ],
          "name": "stderr"
        },
        {
          "output_type": "stream",
          "text": [
            "time_chunk:0.65starts\n"
          ],
          "name": "stdout"
        },
        {
          "output_type": "stream",
          "text": [
            "/usr/local/lib/python3.7/dist-packages/ipykernel_launcher.py:15: DataConversionWarning: A column-vector y was passed when a 1d array was expected. Please change the shape of y to (n_samples,), for example using ravel().\n",
            "  from ipykernel import kernelapp as app\n"
          ],
          "name": "stderr"
        },
        {
          "output_type": "stream",
          "text": [
            "time_chunk:0.7starts\n"
          ],
          "name": "stdout"
        },
        {
          "output_type": "stream",
          "text": [
            "/usr/local/lib/python3.7/dist-packages/ipykernel_launcher.py:15: DataConversionWarning: A column-vector y was passed when a 1d array was expected. Please change the shape of y to (n_samples,), for example using ravel().\n",
            "  from ipykernel import kernelapp as app\n"
          ],
          "name": "stderr"
        },
        {
          "output_type": "stream",
          "text": [
            "time_chunk:0.75starts\n"
          ],
          "name": "stdout"
        },
        {
          "output_type": "stream",
          "text": [
            "/usr/local/lib/python3.7/dist-packages/ipykernel_launcher.py:15: DataConversionWarning: A column-vector y was passed when a 1d array was expected. Please change the shape of y to (n_samples,), for example using ravel().\n",
            "  from ipykernel import kernelapp as app\n"
          ],
          "name": "stderr"
        },
        {
          "output_type": "stream",
          "text": [
            "time_chunk:0.8starts\n"
          ],
          "name": "stdout"
        },
        {
          "output_type": "stream",
          "text": [
            "/usr/local/lib/python3.7/dist-packages/ipykernel_launcher.py:15: DataConversionWarning: A column-vector y was passed when a 1d array was expected. Please change the shape of y to (n_samples,), for example using ravel().\n",
            "  from ipykernel import kernelapp as app\n"
          ],
          "name": "stderr"
        },
        {
          "output_type": "stream",
          "text": [
            "time_chunk:0.85starts\n"
          ],
          "name": "stdout"
        },
        {
          "output_type": "stream",
          "text": [
            "/usr/local/lib/python3.7/dist-packages/ipykernel_launcher.py:15: DataConversionWarning: A column-vector y was passed when a 1d array was expected. Please change the shape of y to (n_samples,), for example using ravel().\n",
            "  from ipykernel import kernelapp as app\n"
          ],
          "name": "stderr"
        }
      ]
    },
    {
      "cell_type": "code",
      "metadata": {
        "id": "l8tTDEDMMDEd",
        "colab": {
          "base_uri": "https://localhost:8080/",
          "height": 614
        },
        "outputId": "ca89bd14-7117-413a-a182-195fe94db2ea"
      },
      "source": [
        "results_df = pd.DataFrame(results)\n",
        "results_df"
      ],
      "execution_count": null,
      "outputs": [
        {
          "output_type": "execute_result",
          "data": {
            "text/html": [
              "<div>\n",
              "<style scoped>\n",
              "    .dataframe tbody tr th:only-of-type {\n",
              "        vertical-align: middle;\n",
              "    }\n",
              "\n",
              "    .dataframe tbody tr th {\n",
              "        vertical-align: top;\n",
              "    }\n",
              "\n",
              "    .dataframe thead th {\n",
              "        text-align: right;\n",
              "    }\n",
              "</style>\n",
              "<table border=\"1\" class=\"dataframe\">\n",
              "  <thead>\n",
              "    <tr style=\"text-align: right;\">\n",
              "      <th></th>\n",
              "      <th>roc</th>\n",
              "      <th>accuracy</th>\n",
              "      <th>conf_mat</th>\n",
              "      <th>time_chunk</th>\n",
              "    </tr>\n",
              "  </thead>\n",
              "  <tbody>\n",
              "    <tr>\n",
              "      <th>0</th>\n",
              "      <td>0.448718</td>\n",
              "      <td>0.717391</td>\n",
              "      <td>[[0, 13], [0, 33]]</td>\n",
              "      <td>0.00</td>\n",
              "    </tr>\n",
              "    <tr>\n",
              "      <th>1</th>\n",
              "      <td>0.452482</td>\n",
              "      <td>0.596774</td>\n",
              "      <td>[[3, 12], [13, 34]]</td>\n",
              "      <td>0.05</td>\n",
              "    </tr>\n",
              "    <tr>\n",
              "      <th>2</th>\n",
              "      <td>0.584928</td>\n",
              "      <td>0.607595</td>\n",
              "      <td>[[5, 17], [14, 43]]</td>\n",
              "      <td>0.10</td>\n",
              "    </tr>\n",
              "    <tr>\n",
              "      <th>3</th>\n",
              "      <td>0.632812</td>\n",
              "      <td>0.621053</td>\n",
              "      <td>[[14, 17], [19, 45]]</td>\n",
              "      <td>0.15</td>\n",
              "    </tr>\n",
              "    <tr>\n",
              "      <th>4</th>\n",
              "      <td>0.635349</td>\n",
              "      <td>0.669643</td>\n",
              "      <td>[[13, 28], [9, 62]]</td>\n",
              "      <td>0.20</td>\n",
              "    </tr>\n",
              "    <tr>\n",
              "      <th>5</th>\n",
              "      <td>0.676841</td>\n",
              "      <td>0.656250</td>\n",
              "      <td>[[20, 25], [19, 64]]</td>\n",
              "      <td>0.25</td>\n",
              "    </tr>\n",
              "    <tr>\n",
              "      <th>6</th>\n",
              "      <td>0.660025</td>\n",
              "      <td>0.611111</td>\n",
              "      <td>[[24, 27], [29, 64]]</td>\n",
              "      <td>0.30</td>\n",
              "    </tr>\n",
              "    <tr>\n",
              "      <th>7</th>\n",
              "      <td>0.671554</td>\n",
              "      <td>0.652174</td>\n",
              "      <td>[[30, 32], [24, 75]]</td>\n",
              "      <td>0.35</td>\n",
              "    </tr>\n",
              "    <tr>\n",
              "      <th>8</th>\n",
              "      <td>0.647555</td>\n",
              "      <td>0.598870</td>\n",
              "      <td>[[34, 37], [34, 72]]</td>\n",
              "      <td>0.40</td>\n",
              "    </tr>\n",
              "    <tr>\n",
              "      <th>9</th>\n",
              "      <td>0.622913</td>\n",
              "      <td>0.592784</td>\n",
              "      <td>[[38, 37], [42, 77]]</td>\n",
              "      <td>0.45</td>\n",
              "    </tr>\n",
              "    <tr>\n",
              "      <th>10</th>\n",
              "      <td>0.661690</td>\n",
              "      <td>0.614286</td>\n",
              "      <td>[[37, 44], [37, 92]]</td>\n",
              "      <td>0.50</td>\n",
              "    </tr>\n",
              "    <tr>\n",
              "      <th>11</th>\n",
              "      <td>0.681464</td>\n",
              "      <td>0.632743</td>\n",
              "      <td>[[39, 45], [38, 104]]</td>\n",
              "      <td>0.55</td>\n",
              "    </tr>\n",
              "    <tr>\n",
              "      <th>12</th>\n",
              "      <td>0.702869</td>\n",
              "      <td>0.666667</td>\n",
              "      <td>[[44, 46], [35, 118]]</td>\n",
              "      <td>0.60</td>\n",
              "    </tr>\n",
              "    <tr>\n",
              "      <th>13</th>\n",
              "      <td>0.711971</td>\n",
              "      <td>0.664093</td>\n",
              "      <td>[[48, 54], [33, 124]]</td>\n",
              "      <td>0.65</td>\n",
              "    </tr>\n",
              "    <tr>\n",
              "      <th>14</th>\n",
              "      <td>0.721663</td>\n",
              "      <td>0.652174</td>\n",
              "      <td>[[43, 69], [27, 137]]</td>\n",
              "      <td>0.70</td>\n",
              "    </tr>\n",
              "    <tr>\n",
              "      <th>15</th>\n",
              "      <td>0.703590</td>\n",
              "      <td>0.633562</td>\n",
              "      <td>[[64, 52], [55, 121]]</td>\n",
              "      <td>0.75</td>\n",
              "    </tr>\n",
              "    <tr>\n",
              "      <th>16</th>\n",
              "      <td>0.694405</td>\n",
              "      <td>0.644013</td>\n",
              "      <td>[[66, 53], [57, 133]]</td>\n",
              "      <td>0.80</td>\n",
              "    </tr>\n",
              "    <tr>\n",
              "      <th>17</th>\n",
              "      <td>0.709763</td>\n",
              "      <td>0.649231</td>\n",
              "      <td>[[74, 56], [58, 137]]</td>\n",
              "      <td>0.85</td>\n",
              "    </tr>\n",
              "  </tbody>\n",
              "</table>\n",
              "</div>"
            ],
            "text/plain": [
              "         roc  accuracy               conf_mat  time_chunk\n",
              "0   0.448718  0.717391     [[0, 13], [0, 33]]        0.00\n",
              "1   0.452482  0.596774    [[3, 12], [13, 34]]        0.05\n",
              "2   0.584928  0.607595    [[5, 17], [14, 43]]        0.10\n",
              "3   0.632812  0.621053   [[14, 17], [19, 45]]        0.15\n",
              "4   0.635349  0.669643    [[13, 28], [9, 62]]        0.20\n",
              "5   0.676841  0.656250   [[20, 25], [19, 64]]        0.25\n",
              "6   0.660025  0.611111   [[24, 27], [29, 64]]        0.30\n",
              "7   0.671554  0.652174   [[30, 32], [24, 75]]        0.35\n",
              "8   0.647555  0.598870   [[34, 37], [34, 72]]        0.40\n",
              "9   0.622913  0.592784   [[38, 37], [42, 77]]        0.45\n",
              "10  0.661690  0.614286   [[37, 44], [37, 92]]        0.50\n",
              "11  0.681464  0.632743  [[39, 45], [38, 104]]        0.55\n",
              "12  0.702869  0.666667  [[44, 46], [35, 118]]        0.60\n",
              "13  0.711971  0.664093  [[48, 54], [33, 124]]        0.65\n",
              "14  0.721663  0.652174  [[43, 69], [27, 137]]        0.70\n",
              "15  0.703590  0.633562  [[64, 52], [55, 121]]        0.75\n",
              "16  0.694405  0.644013  [[66, 53], [57, 133]]        0.80\n",
              "17  0.709763  0.649231  [[74, 56], [58, 137]]        0.85"
            ]
          },
          "metadata": {
            "tags": []
          },
          "execution_count": 103
        }
      ]
    },
    {
      "cell_type": "code",
      "metadata": {
        "id": "bkZ1mIsoMLxf",
        "colab": {
          "base_uri": "https://localhost:8080/",
          "height": 297
        },
        "outputId": "daaa6b3a-cd37-4695-d326-795024b36e48"
      },
      "source": [
        "results_df.plot(x=\"time_chunk\", y=[\"roc\", \"accuracy\"])"
      ],
      "execution_count": null,
      "outputs": [
        {
          "output_type": "execute_result",
          "data": {
            "text/plain": [
              "<matplotlib.axes._subplots.AxesSubplot at 0x7f1d632f2d90>"
            ]
          },
          "metadata": {
            "tags": []
          },
          "execution_count": 104
        },
        {
          "output_type": "display_data",
          "data": {
            "image/png": "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\n",
            "text/plain": [
              "<Figure size 432x288 with 1 Axes>"
            ]
          },
          "metadata": {
            "tags": [],
            "needs_background": "light"
          }
        }
      ]
    },
    {
      "cell_type": "code",
      "metadata": {
        "colab": {
          "base_uri": "https://localhost:8080/"
        },
        "id": "Qskm8mc-EHvh",
        "outputId": "fa748a7d-0a90-4cbb-ce41-33a7f57af933"
      },
      "source": [
        "(time_chunk_chopped + 0.4)\n",
        "int(round(df_positive_chopped.shape[0] * (time_chunk_chopped + 0.4)))\n",
        "df_ml_chopped.shape"
      ],
      "execution_count": null,
      "outputs": [
        {
          "output_type": "execute_result",
          "data": {
            "text/plain": [
              "(1131, 10)"
            ]
          },
          "metadata": {
            "tags": []
          },
          "execution_count": 98
        }
      ]
    },
    {
      "cell_type": "markdown",
      "metadata": {
        "id": "x8ShcfB_9WNj"
      },
      "source": [
        "### Chopped"
      ]
    },
    {
      "cell_type": "code",
      "metadata": {
        "colab": {
          "base_uri": "https://localhost:8080/"
        },
        "id": "pMpcAKfx9Lyv",
        "outputId": "3bcf25e6-3759-4c45-ded8-ab873034e275"
      },
      "source": [
        "results_chopped = []\n",
        "\n",
        "for i in range(0, 90, 5): \n",
        " time_chunk_chopped = i/100\n",
        " print(\"time_chunk_chopped:\" + str(time_chunk_chopped) + \"starts\")\n",
        " df_ml_chopped = df_positive_chopped[:int(round(df_positive_chopped.shape[0] * (time_chunk_chopped + 0.14)))]\n",
        " X_chopped = df_ml_chopped.loc[:, df_ml_chopped.columns != target].values\n",
        " y_chopped = df_ml_chopped.loc[:,[target]].values\n",
        " div = int(round(len(X_chopped) * 0.29))\n",
        " X_test_chopped = X_chopped[:div]\n",
        " y_test_chopped = y_chopped[:div]\n",
        " X_train_chopped = X_chopped[div:]\n",
        " y_train_chopped = y_chopped[div:]\n",
        " rf = RandomForestRegressor(n_estimators = 2000, random_state = 1)\n",
        " rf.fit(X_train_chopped, y_train_chopped)\n",
        " y_pred_chopped = rf.predict(X_test_chopped)\n",
        " preds_chopped = [1 if val > 0.5 else 0 for val in y_pred_chopped]\n",
        " try:\n",
        "  roc = roc_auc_score(y_test_chopped, y_pred_chopped)\n",
        " except:\n",
        "  roc = 0\n",
        " conf_mat = metrics.confusion_matrix(y_test_chopped, preds_chopped)\n",
        " accuracy = accuracy_score(y_test_chopped, preds_chopped)\n",
        " print('\\n', time_chunk_chopped, '\\n')\n",
        " results_chopped.append({\n",
        " 'roc' : roc,\n",
        " 'accuracy' : accuracy,\n",
        " 'conf_mat' : conf_mat,\n",
        " 'time_chunk' : time_chunk_chopped\n",
        " })"
      ],
      "execution_count": null,
      "outputs": [
        {
          "output_type": "stream",
          "text": [
            "time_chunk_chopped:0.0starts\n"
          ],
          "name": "stdout"
        },
        {
          "output_type": "stream",
          "text": [
            "/usr/local/lib/python3.7/dist-packages/ipykernel_launcher.py:15: DataConversionWarning: A column-vector y was passed when a 1d array was expected. Please change the shape of y to (n_samples,), for example using ravel().\n",
            "  from ipykernel import kernelapp as app\n"
          ],
          "name": "stderr"
        },
        {
          "output_type": "stream",
          "text": [
            "\n",
            " 0.0 \n",
            "\n",
            "time_chunk_chopped:0.05starts\n"
          ],
          "name": "stdout"
        },
        {
          "output_type": "stream",
          "text": [
            "/usr/local/lib/python3.7/dist-packages/ipykernel_launcher.py:15: DataConversionWarning: A column-vector y was passed when a 1d array was expected. Please change the shape of y to (n_samples,), for example using ravel().\n",
            "  from ipykernel import kernelapp as app\n"
          ],
          "name": "stderr"
        },
        {
          "output_type": "stream",
          "text": [
            "\n",
            " 0.05 \n",
            "\n",
            "time_chunk_chopped:0.1starts\n"
          ],
          "name": "stdout"
        },
        {
          "output_type": "stream",
          "text": [
            "/usr/local/lib/python3.7/dist-packages/ipykernel_launcher.py:15: DataConversionWarning: A column-vector y was passed when a 1d array was expected. Please change the shape of y to (n_samples,), for example using ravel().\n",
            "  from ipykernel import kernelapp as app\n"
          ],
          "name": "stderr"
        },
        {
          "output_type": "stream",
          "text": [
            "\n",
            " 0.1 \n",
            "\n",
            "time_chunk_chopped:0.15starts\n"
          ],
          "name": "stdout"
        },
        {
          "output_type": "stream",
          "text": [
            "/usr/local/lib/python3.7/dist-packages/ipykernel_launcher.py:15: DataConversionWarning: A column-vector y was passed when a 1d array was expected. Please change the shape of y to (n_samples,), for example using ravel().\n",
            "  from ipykernel import kernelapp as app\n"
          ],
          "name": "stderr"
        },
        {
          "output_type": "stream",
          "text": [
            "\n",
            " 0.15 \n",
            "\n",
            "time_chunk_chopped:0.2starts\n"
          ],
          "name": "stdout"
        },
        {
          "output_type": "stream",
          "text": [
            "/usr/local/lib/python3.7/dist-packages/ipykernel_launcher.py:15: DataConversionWarning: A column-vector y was passed when a 1d array was expected. Please change the shape of y to (n_samples,), for example using ravel().\n",
            "  from ipykernel import kernelapp as app\n"
          ],
          "name": "stderr"
        },
        {
          "output_type": "stream",
          "text": [
            "\n",
            " 0.2 \n",
            "\n",
            "time_chunk_chopped:0.25starts\n"
          ],
          "name": "stdout"
        },
        {
          "output_type": "stream",
          "text": [
            "/usr/local/lib/python3.7/dist-packages/ipykernel_launcher.py:15: DataConversionWarning: A column-vector y was passed when a 1d array was expected. Please change the shape of y to (n_samples,), for example using ravel().\n",
            "  from ipykernel import kernelapp as app\n"
          ],
          "name": "stderr"
        },
        {
          "output_type": "stream",
          "text": [
            "\n",
            " 0.25 \n",
            "\n",
            "time_chunk_chopped:0.3starts\n"
          ],
          "name": "stdout"
        },
        {
          "output_type": "stream",
          "text": [
            "/usr/local/lib/python3.7/dist-packages/ipykernel_launcher.py:15: DataConversionWarning: A column-vector y was passed when a 1d array was expected. Please change the shape of y to (n_samples,), for example using ravel().\n",
            "  from ipykernel import kernelapp as app\n"
          ],
          "name": "stderr"
        },
        {
          "output_type": "stream",
          "text": [
            "\n",
            " 0.3 \n",
            "\n",
            "time_chunk_chopped:0.35starts\n"
          ],
          "name": "stdout"
        },
        {
          "output_type": "stream",
          "text": [
            "/usr/local/lib/python3.7/dist-packages/ipykernel_launcher.py:15: DataConversionWarning: A column-vector y was passed when a 1d array was expected. Please change the shape of y to (n_samples,), for example using ravel().\n",
            "  from ipykernel import kernelapp as app\n"
          ],
          "name": "stderr"
        },
        {
          "output_type": "stream",
          "text": [
            "\n",
            " 0.35 \n",
            "\n",
            "time_chunk_chopped:0.4starts\n"
          ],
          "name": "stdout"
        },
        {
          "output_type": "stream",
          "text": [
            "/usr/local/lib/python3.7/dist-packages/ipykernel_launcher.py:15: DataConversionWarning: A column-vector y was passed when a 1d array was expected. Please change the shape of y to (n_samples,), for example using ravel().\n",
            "  from ipykernel import kernelapp as app\n"
          ],
          "name": "stderr"
        },
        {
          "output_type": "stream",
          "text": [
            "\n",
            " 0.4 \n",
            "\n",
            "time_chunk_chopped:0.45starts\n"
          ],
          "name": "stdout"
        },
        {
          "output_type": "stream",
          "text": [
            "/usr/local/lib/python3.7/dist-packages/ipykernel_launcher.py:15: DataConversionWarning: A column-vector y was passed when a 1d array was expected. Please change the shape of y to (n_samples,), for example using ravel().\n",
            "  from ipykernel import kernelapp as app\n"
          ],
          "name": "stderr"
        },
        {
          "output_type": "stream",
          "text": [
            "\n",
            " 0.45 \n",
            "\n",
            "time_chunk_chopped:0.5starts\n"
          ],
          "name": "stdout"
        },
        {
          "output_type": "stream",
          "text": [
            "/usr/local/lib/python3.7/dist-packages/ipykernel_launcher.py:15: DataConversionWarning: A column-vector y was passed when a 1d array was expected. Please change the shape of y to (n_samples,), for example using ravel().\n",
            "  from ipykernel import kernelapp as app\n"
          ],
          "name": "stderr"
        },
        {
          "output_type": "stream",
          "text": [
            "\n",
            " 0.5 \n",
            "\n",
            "time_chunk_chopped:0.55starts\n"
          ],
          "name": "stdout"
        },
        {
          "output_type": "stream",
          "text": [
            "/usr/local/lib/python3.7/dist-packages/ipykernel_launcher.py:15: DataConversionWarning: A column-vector y was passed when a 1d array was expected. Please change the shape of y to (n_samples,), for example using ravel().\n",
            "  from ipykernel import kernelapp as app\n"
          ],
          "name": "stderr"
        },
        {
          "output_type": "stream",
          "text": [
            "\n",
            " 0.55 \n",
            "\n",
            "time_chunk_chopped:0.6starts\n"
          ],
          "name": "stdout"
        },
        {
          "output_type": "stream",
          "text": [
            "/usr/local/lib/python3.7/dist-packages/ipykernel_launcher.py:15: DataConversionWarning: A column-vector y was passed when a 1d array was expected. Please change the shape of y to (n_samples,), for example using ravel().\n",
            "  from ipykernel import kernelapp as app\n"
          ],
          "name": "stderr"
        },
        {
          "output_type": "stream",
          "text": [
            "\n",
            " 0.6 \n",
            "\n",
            "time_chunk_chopped:0.65starts\n"
          ],
          "name": "stdout"
        },
        {
          "output_type": "stream",
          "text": [
            "/usr/local/lib/python3.7/dist-packages/ipykernel_launcher.py:15: DataConversionWarning: A column-vector y was passed when a 1d array was expected. Please change the shape of y to (n_samples,), for example using ravel().\n",
            "  from ipykernel import kernelapp as app\n"
          ],
          "name": "stderr"
        },
        {
          "output_type": "stream",
          "text": [
            "\n",
            " 0.65 \n",
            "\n",
            "time_chunk_chopped:0.7starts\n"
          ],
          "name": "stdout"
        },
        {
          "output_type": "stream",
          "text": [
            "/usr/local/lib/python3.7/dist-packages/ipykernel_launcher.py:15: DataConversionWarning: A column-vector y was passed when a 1d array was expected. Please change the shape of y to (n_samples,), for example using ravel().\n",
            "  from ipykernel import kernelapp as app\n"
          ],
          "name": "stderr"
        },
        {
          "output_type": "stream",
          "text": [
            "\n",
            " 0.7 \n",
            "\n",
            "time_chunk_chopped:0.75starts\n"
          ],
          "name": "stdout"
        },
        {
          "output_type": "stream",
          "text": [
            "/usr/local/lib/python3.7/dist-packages/ipykernel_launcher.py:15: DataConversionWarning: A column-vector y was passed when a 1d array was expected. Please change the shape of y to (n_samples,), for example using ravel().\n",
            "  from ipykernel import kernelapp as app\n"
          ],
          "name": "stderr"
        },
        {
          "output_type": "stream",
          "text": [
            "\n",
            " 0.75 \n",
            "\n",
            "time_chunk_chopped:0.8starts\n"
          ],
          "name": "stdout"
        },
        {
          "output_type": "stream",
          "text": [
            "/usr/local/lib/python3.7/dist-packages/ipykernel_launcher.py:15: DataConversionWarning: A column-vector y was passed when a 1d array was expected. Please change the shape of y to (n_samples,), for example using ravel().\n",
            "  from ipykernel import kernelapp as app\n"
          ],
          "name": "stderr"
        },
        {
          "output_type": "stream",
          "text": [
            "\n",
            " 0.8 \n",
            "\n",
            "time_chunk_chopped:0.85starts\n"
          ],
          "name": "stdout"
        },
        {
          "output_type": "stream",
          "text": [
            "/usr/local/lib/python3.7/dist-packages/ipykernel_launcher.py:15: DataConversionWarning: A column-vector y was passed when a 1d array was expected. Please change the shape of y to (n_samples,), for example using ravel().\n",
            "  from ipykernel import kernelapp as app\n"
          ],
          "name": "stderr"
        },
        {
          "output_type": "stream",
          "text": [
            "\n",
            " 0.85 \n",
            "\n"
          ],
          "name": "stdout"
        }
      ]
    },
    {
      "cell_type": "code",
      "metadata": {
        "id": "cIkPsvsXEE03"
      },
      "source": [
        ""
      ],
      "execution_count": null,
      "outputs": []
    },
    {
      "cell_type": "code",
      "metadata": {
        "colab": {
          "base_uri": "https://localhost:8080/",
          "height": 614
        },
        "id": "XGh0qEZK-gQ3",
        "outputId": "56b9d77b-ad44-4ab0-ae3b-893d8aa57da0"
      },
      "source": [
        "results_df_chopped = pd.DataFrame(results_chopped)\n",
        "results_df_chopped"
      ],
      "execution_count": null,
      "outputs": [
        {
          "output_type": "execute_result",
          "data": {
            "text/html": [
              "<div>\n",
              "<style scoped>\n",
              "    .dataframe tbody tr th:only-of-type {\n",
              "        vertical-align: middle;\n",
              "    }\n",
              "\n",
              "    .dataframe tbody tr th {\n",
              "        vertical-align: top;\n",
              "    }\n",
              "\n",
              "    .dataframe thead th {\n",
              "        text-align: right;\n",
              "    }\n",
              "</style>\n",
              "<table border=\"1\" class=\"dataframe\">\n",
              "  <thead>\n",
              "    <tr style=\"text-align: right;\">\n",
              "      <th></th>\n",
              "      <th>roc</th>\n",
              "      <th>accuracy</th>\n",
              "      <th>conf_mat</th>\n",
              "      <th>time_chunk</th>\n",
              "    </tr>\n",
              "  </thead>\n",
              "  <tbody>\n",
              "    <tr>\n",
              "      <th>0</th>\n",
              "      <td>0.607226</td>\n",
              "      <td>0.717391</td>\n",
              "      <td>[[0, 13], [0, 33]]</td>\n",
              "      <td>0.00</td>\n",
              "    </tr>\n",
              "    <tr>\n",
              "      <th>1</th>\n",
              "      <td>0.405674</td>\n",
              "      <td>0.467742</td>\n",
              "      <td>[[12, 3], [30, 17]]</td>\n",
              "      <td>0.05</td>\n",
              "    </tr>\n",
              "    <tr>\n",
              "      <th>2</th>\n",
              "      <td>0.543860</td>\n",
              "      <td>0.531646</td>\n",
              "      <td>[[7, 15], [22, 35]]</td>\n",
              "      <td>0.10</td>\n",
              "    </tr>\n",
              "    <tr>\n",
              "      <th>3</th>\n",
              "      <td>0.678931</td>\n",
              "      <td>0.557895</td>\n",
              "      <td>[[28, 3], [39, 25]]</td>\n",
              "      <td>0.15</td>\n",
              "    </tr>\n",
              "    <tr>\n",
              "      <th>4</th>\n",
              "      <td>0.623154</td>\n",
              "      <td>0.669643</td>\n",
              "      <td>[[6, 35], [2, 69]]</td>\n",
              "      <td>0.20</td>\n",
              "    </tr>\n",
              "    <tr>\n",
              "      <th>5</th>\n",
              "      <td>0.639224</td>\n",
              "      <td>0.640625</td>\n",
              "      <td>[[17, 28], [18, 65]]</td>\n",
              "      <td>0.25</td>\n",
              "    </tr>\n",
              "    <tr>\n",
              "      <th>6</th>\n",
              "      <td>0.558296</td>\n",
              "      <td>0.486111</td>\n",
              "      <td>[[30, 21], [53, 40]]</td>\n",
              "      <td>0.30</td>\n",
              "    </tr>\n",
              "    <tr>\n",
              "      <th>7</th>\n",
              "      <td>0.646465</td>\n",
              "      <td>0.583851</td>\n",
              "      <td>[[35, 27], [40, 59]]</td>\n",
              "      <td>0.35</td>\n",
              "    </tr>\n",
              "    <tr>\n",
              "      <th>8</th>\n",
              "      <td>0.631810</td>\n",
              "      <td>0.593220</td>\n",
              "      <td>[[28, 43], [29, 77]]</td>\n",
              "      <td>0.40</td>\n",
              "    </tr>\n",
              "    <tr>\n",
              "      <th>9</th>\n",
              "      <td>0.636328</td>\n",
              "      <td>0.606218</td>\n",
              "      <td>[[30, 45], [31, 87]]</td>\n",
              "      <td>0.45</td>\n",
              "    </tr>\n",
              "    <tr>\n",
              "      <th>10</th>\n",
              "      <td>0.632166</td>\n",
              "      <td>0.652381</td>\n",
              "      <td>[[17, 64], [9, 120]]</td>\n",
              "      <td>0.50</td>\n",
              "    </tr>\n",
              "    <tr>\n",
              "      <th>11</th>\n",
              "      <td>0.534121</td>\n",
              "      <td>0.482301</td>\n",
              "      <td>[[25, 59], [58, 84]]</td>\n",
              "      <td>0.55</td>\n",
              "    </tr>\n",
              "    <tr>\n",
              "      <th>12</th>\n",
              "      <td>0.561583</td>\n",
              "      <td>0.506173</td>\n",
              "      <td>[[65, 25], [95, 58]]</td>\n",
              "      <td>0.60</td>\n",
              "    </tr>\n",
              "    <tr>\n",
              "      <th>13</th>\n",
              "      <td>0.601286</td>\n",
              "      <td>0.555985</td>\n",
              "      <td>[[49, 53], [62, 95]]</td>\n",
              "      <td>0.65</td>\n",
              "    </tr>\n",
              "    <tr>\n",
              "      <th>14</th>\n",
              "      <td>0.561221</td>\n",
              "      <td>0.597826</td>\n",
              "      <td>[[51, 61], [50, 114]]</td>\n",
              "      <td>0.70</td>\n",
              "    </tr>\n",
              "    <tr>\n",
              "      <th>15</th>\n",
              "      <td>0.541928</td>\n",
              "      <td>0.551370</td>\n",
              "      <td>[[49, 67], [64, 112]]</td>\n",
              "      <td>0.75</td>\n",
              "    </tr>\n",
              "    <tr>\n",
              "      <th>16</th>\n",
              "      <td>0.541972</td>\n",
              "      <td>0.571429</td>\n",
              "      <td>[[33, 86], [46, 143]]</td>\n",
              "      <td>0.80</td>\n",
              "    </tr>\n",
              "    <tr>\n",
              "      <th>17</th>\n",
              "      <td>0.558836</td>\n",
              "      <td>0.563077</td>\n",
              "      <td>[[51, 79], [63, 132]]</td>\n",
              "      <td>0.85</td>\n",
              "    </tr>\n",
              "  </tbody>\n",
              "</table>\n",
              "</div>"
            ],
            "text/plain": [
              "         roc  accuracy               conf_mat  time_chunk\n",
              "0   0.607226  0.717391     [[0, 13], [0, 33]]        0.00\n",
              "1   0.405674  0.467742    [[12, 3], [30, 17]]        0.05\n",
              "2   0.543860  0.531646    [[7, 15], [22, 35]]        0.10\n",
              "3   0.678931  0.557895    [[28, 3], [39, 25]]        0.15\n",
              "4   0.623154  0.669643     [[6, 35], [2, 69]]        0.20\n",
              "5   0.639224  0.640625   [[17, 28], [18, 65]]        0.25\n",
              "6   0.558296  0.486111   [[30, 21], [53, 40]]        0.30\n",
              "7   0.646465  0.583851   [[35, 27], [40, 59]]        0.35\n",
              "8   0.631810  0.593220   [[28, 43], [29, 77]]        0.40\n",
              "9   0.636328  0.606218   [[30, 45], [31, 87]]        0.45\n",
              "10  0.632166  0.652381   [[17, 64], [9, 120]]        0.50\n",
              "11  0.534121  0.482301   [[25, 59], [58, 84]]        0.55\n",
              "12  0.561583  0.506173   [[65, 25], [95, 58]]        0.60\n",
              "13  0.601286  0.555985   [[49, 53], [62, 95]]        0.65\n",
              "14  0.561221  0.597826  [[51, 61], [50, 114]]        0.70\n",
              "15  0.541928  0.551370  [[49, 67], [64, 112]]        0.75\n",
              "16  0.541972  0.571429  [[33, 86], [46, 143]]        0.80\n",
              "17  0.558836  0.563077  [[51, 79], [63, 132]]        0.85"
            ]
          },
          "metadata": {
            "tags": []
          },
          "execution_count": 100
        }
      ]
    },
    {
      "cell_type": "code",
      "metadata": {
        "colab": {
          "base_uri": "https://localhost:8080/",
          "height": 297
        },
        "id": "SHJ9_WM3-ojf",
        "outputId": "27461725-7846-470d-afda-abf9d44a4ff9"
      },
      "source": [
        "results_df_chopped.plot(x=\"time_chunk\", y=[\"roc\", \"accuracy\"])"
      ],
      "execution_count": null,
      "outputs": [
        {
          "output_type": "execute_result",
          "data": {
            "text/plain": [
              "<matplotlib.axes._subplots.AxesSubplot at 0x7f1d631e8dd0>"
            ]
          },
          "metadata": {
            "tags": []
          },
          "execution_count": 101
        },
        {
          "output_type": "display_data",
          "data": {
            "image/png": "iVBORw0KGgoAAAANSUhEUgAAAXoAAAEHCAYAAACgHI2PAAAABHNCSVQICAgIfAhkiAAAAAlwSFlzAAALEgAACxIB0t1+/AAAADh0RVh0U29mdHdhcmUAbWF0cGxvdGxpYiB2ZXJzaW9uMy4yLjIsIGh0dHA6Ly9tYXRwbG90bGliLm9yZy+WH4yJAAAgAElEQVR4nOydd3yUVdbHv3dSSSU9JIEkEAglEJAOiqCi2LAX7KyKdXVdy6u+6xb13VV3Lbuuq2JB1LX3ShMQVEBASaghEAKZQDrpfea+f9xJCGGSzGRmksnkfj+f+UzmKfe5mWTOnOfcc35HSCnRaDQajedi6O0JaDQajca1aEOv0Wg0Ho429BqNRuPhaEOv0Wg0Ho429BqNRuPhePf2BNoTGRkpk5KSensaGo1G06fYunVriZQyyto+tzP0SUlJbNmypbenodFoNH0KIcTBjvbp0I1Go9F4ONrQazQajYejDb1Go9F4OG4Xo9doNJ5NU1MTRqOR+vr63p5Kn8Tf35+EhAR8fHxsPkcbeo1G06MYjUaCg4NJSkpCCNHb0+lTSCkpLS3FaDSSnJxs83k6dKPRaHqU+vp6IiIitJHvBkIIIiIi7L4b0oZeo9H0ONrId5/uvHeeY+gbqmDL61C4q7dnotFoNG6F5xh6UxN8dQ/krOntmWg0Go1b4TmGfkAY+ARARX5vz0Sj0fQhpJSYzebenoZL8RxDLwSExEOlsbdnotFo3Jzc3FxSU1O57rrrSEtL48YbbyQtLY2xY8fy/vvvtx735JNPMnbsWNLT03nwwQd7ccaO4VnplaHx2qPXaPoQf/lyJ7sOVzp1zNFxIfzp/DFdHpednc3SpUvJz8/npZdeIiMjg5KSEiZPnsysWbPYtm0bn3/+OZs2bSIgIICysjKnzrMn8RyPHiAkASoP9/YsNBpNHyAxMZFp06bxww8/sGDBAry8vIiJieHUU09l8+bNrFq1ioULFxIQEABAeHh4L8+4+3ieR19dAKZm8PKsX02j8URs8bxdRWBgYK9du6fxMI8+HqQZqo709kw0Gk0f4ZRTTuH999/HZDJRXFzMunXrmDJlCnPnzmXJkiXU1tYC9OnQjWe5vaHx6rkyHwYO7t25aDSaPsFFF13Ehg0bSE9PRwjBU089RWxsLPPmzWPbtm1MmjQJX19fzjnnHP7617/29nS7hZBSdn2QEPOAfwJewKtSyifa7X8WmGN5GQBESykHWvZdD/zBsu9xKeXSzq41adIk2e3GI0W74T/T4JLXYOyl3RtDo9G4lN27dzNq1Kjenkafxtp7KITYKqWcZO34Lj16IYQX8AIwFzACm4UQX0gpW0tQpZT3tDn+t8AEy8/hwJ+ASYAEtlrOPWrvL2YTIW08eo1Go9EAtsXopwD7pJQ5UspG4D3ggk6OXwC8a/n5LGCllLLMYtxXAvMcmXCn+IeAX4hOsdRoNJo22GLo44G8Nq+Nlm0nIIRIBJKB1facK4RYJITYIoTYUlxcbMu8OyYkXnv0Go1G0wZnZ91cCXwkpTTZc5KUcrGUcpKUclJUlNUm5rYTGg8VujpWo9FoWrDF0OcDbVNYEizbrHElx8I29p7rHLRHr9FoNMdhi6HfDAwXQiQLIXxRxvyL9gcJIUYCYcCGNpuXA2cKIcKEEGHAmZZtriM0AWqKobnBpZfRaDSavkKXhl5K2QzciTLQu4EPpJQ7hRCPCiHmtzn0SuA92SZfU0pZBjyG+rLYDDxq2eY6dOaNRqPRHIdNBVNSym+Ab9pt+2O713/u4NzXgde7OT/7aSmaqsiH8KE9dlmNRqNpT3NzM97evV+X6lkSCKCEzUB79BqNplMuvPBCJk6cyJgxY1i8eDEAy5Yt46STTiI9PZ3TTz8dgOrqahYuXMjYsWMZN24cH3/8MQBBQUGtY3300UfccMMNANxwww3ceuutTJ06lQceeICff/6Z6dOnM2HCBGbMmEFWVhYAJpOJ++67j7S0NMaNG8fzzz/P6tWrufDCC1vHXblyJRdddJHDv2vvf9U4m5A49awzbzQa9+fbB6Fgu3PHjB0LZz/R5WGvv/464eHh1NXVMXnyZC644AJuvvlm1q1bR3Jycqu2zWOPPUZoaCjbt6t5Hj3adb2n0Wjkp59+wsvLi8rKStavX4+3tzerVq3i4Ycf5uOPP2bx4sXk5uaybds2vL29KSsrIywsjNtvv53i4mKioqJYsmQJv/nNbxx7P/BEQ+8bAAPCtUev0Wg65V//+heffvopAHl5eSxevJhZs2aRnJwMHJMlXrVqFe+9917reWFhYV2Ofdlll+Hl5QVARUUF119/PdnZ2QghaGpqah331ltvbQ3ttFzv2muv5e2332bhwoVs2LCBN9980+Hf1fMMPegGJBpNX8EGz9sVrF27llWrVrFhwwYCAgKYPXs248ePZ8+ePTaPIYRo/bm+vv64fW0lkB955BHmzJnDp59+Sm5uLrNnz+503IULF3L++efj7+/PZZdd5pQYv+fF6MHSgEQbeo1GY52KigrCwsIICAhgz549bNy4kfr6etatW8eBAweAY7LEc+fO5YUXXmg9tyV0ExMTw+7duzGbza13Bh1dKz5eJYm88cYbrdvnzp3Lyy+/THNz83HXi4uLIy4ujscff5yFCxc65ff1TEOvq2M1Gk0nzJs3j+bmZkaNGsWDDz7ItGnTiIqKYvHixVx88cWkp6dzxRVXAPCHP/yBo0ePkpaWRnp6OmvWrAHgiSee4LzzzmPGjBkMGjSow2s98MADPPTQQ0yYMKHVqAPcdNNNDBkyhHHjxpGens4777zTuu/qq69m8ODBTlP5tEmmuCdxSKa4hfXPwHd/gYcPg2//6SKj0fQFtExx19x5551MmDCBG2+80ep+e2WKPdSjb0mx7Pv9Y3/cV8Lk/1tFXlltb09Fo9H0ABMnTiQzM5NrrrnGaWN6pqFvqY71gPDNmj1FFFc18O/V+3p7KhqNpgfYunUr69atw8/Pz2ljeqahD/UcGYQMYzkAH/1i5GBpTS/PRqNxDu4WMu5LdOe980xDHxwHiD6fYtlsMrMjv5Jzxw7C2yB4Xnv1Gg/A39+f0tJSbey7gZSS0tJS/P397TrPM/PovX0hKBoq+3boJruomromE3NHxxAb6s+SHw9wx5wUkiP1ArOm75KQkIDRaMThJkP9FH9/fxISEuw6xzMNPSgphD7u0WdawjbjEkKZmRLJfzcd5PnvsnnmivH2DyYlmBrB23lxP42mO/j4+LRWn2p6Bs8M3YBHNCDZlldBiL83SRGBRAX7cd30JD7bls++omr7B/tlKTyZDAfWOX+iGo3GrfFcQx+a4BEe/biEgRgMqtT6lllD8ffx4l/fZds/2K4voKkG3rkCDm7o+niNRuMxeK6hD4mHxiqor+jtmXSL+iYTewqqSB8c2rotIkh59V9mHia7sMr2wUxNcGgjjL5QvS//vQyMDhalaTSaPoPnGvq2DUj6IDsPV2IyS9ITBh63fdGsoQT4ePGcPV794V+VN592MVz/BQRGwlsXq+0ajcbj8VxD38cbkGTkqYXY9MHHG/rwQF8Wzkzmm+1H2FNQadtgLXH5xJPVIvX1X4J/KLx1kfO1wDUajdvhuYY+tG9Xx2Yay4kN8Scm5MR82ZtOSSbI15t/rrLRq8/9AaLHQGCEej1wsPLsfQLgzQugyHZpVo1G0/fwXEMfFAvC0Hc9emMF4xJCre4bGODLwpOT+XZHATsPd7EG0dwIeZsg+ZTjt4cnK8/e4A1vzocSXYyl0XgqnmvovbwheFCfjNFX1DZxoKTmhLBNW248OZlgfxu8+vyt0FQLSSefuC9imDL2ZhMsPR/KchycuUajcUc819CDJZe+74VuMvMt8fmEjg196AAfbjp5KCt2FbIjvxOvPnc9ICBxpvX9UakqjNNcD0vnQ/khB2au0WjcEc829H20pWCmURnusR2EblpYeHISIf7ePLdqb8cH5a6H2DQICO/4mJgxcN1n0FAJb5zXJ98zjUbTMTYZeiHEPCFElhBinxDiwQ6OuVwIsUsIsVMI8U6b7SYhxDbL4wtnTdwmWqpj+5h40ra8coZGBhI6wKfT40L8fVg0ayirdhe1ZukcR3MD5P0MSaecuK89g9Lhmk+htkyFcaoKujl7jVOoKVEhNY3GCXRp6IUQXsALwNnAaGCBEGJ0u2OGAw8BM6WUY4DftdldJ6Ucb3nMd97UbSA0QYUkast69LKOkmks7zQ+35YbZiYzMMCHZ6159cbN6ve3xdADJEyEaz5WRn7pfKjWolO9QnEWPDsGti7p7ZloPARbPPopwD4pZY6UshF4D7ig3TE3Ay9IKY8CSCmLnDvNbtLSgKQPxekLKuoprGzoMOOmPUF+3iyaNZS1WcX8cujo8Ttzf0DF52fYPoEhU+HqD1Ss/s0L+tyXZJ9HSvj6XvUFnf9Lb89G4yHYYujjgbw2r42WbW0ZAYwQQvwohNgohJjXZp+/EGKLZfuF1i4ghFhkOWaLU6VL+2B1bEujEVs9eoDrpycRHujLsyvbefUH1sOgcTDA9rEAlaGz4F0o3QdvXQh1VsJCGteQ+YFaV/EeAMW6vkHjHJy1GOsNDAdmAwuAV4QQLdYl0dKw9irgOSHEsPYnSykXSyknSSknRUVFOWlK9Mnq2Iy8crwNgtGDQmw+J9DPm1tmDWV9dglbci0eeFMdGG2Mz1tj2By44m0o3AVvXwz1Nlbh9jB7CirZlOMhTSzqjsKK/4X4iTDhGhXC8YTfS9Pr2GLo84HBbV4nWLa1xQh8IaVsklIeAPaiDD9SynzLcw6wFpjg4JxtJzAKDD59ytBnGisYOSgYfx8vu867dnoikUG+x2L1xs1Kfz55VvcnM+JMuHwpHMlQQmgN3ZBHdiFSSm57+xeuWLyRKxZvZHNuHw8zrX4cakvhvGchZjQ0VvfZym6Ne2GLod8MDBdCJAshfIErgfbZM5+hvHmEEJGoUE6OECJMCOHXZvtMYJeT5t41BkOfakBiNksyLNLE9hLg682tpw7jx32lbMopVWEbYYAh0xyb1Mhz4ZJX1d3Bu1dCY61j4zmRvYXVHCip4awxMeQU13DZSxu4/vWf2W7sg4ql+Vth82swZZHKgIoaqbbr8I3GCXRp6KWUzcCdwHJgN/CBlHKnEOJRIURLFs1yoFQIsQtYA9wvpSwFRgFbhBAZlu1PSCl7ztCDyrzpIx59bmkNVfXNjO+GoQe4emoiUcF+yqvPXQ+DxivxMkcZcxFctFgt7r53FTTVOz6mE1i2owAh4LEL01j/wBwePHskGcZyzv/3D9z61lb22iPl3JuYTfDV7yEoBub8r9qmDb3GidjUSlBK+Q3wTbttf2zzswR+b3m0PeYnYKzj03SAkHil9dIHaFmIHTe4e8Z5gK8Xt88expNf/oo5YAuG6bc7b3LjLgNTA3x+B3y6CC5/03ljd5NlOwuYlBhGdLASfrv11GFcNXUIr60/wGs/HGD5rgIuHB/P784YTmKEG/fZ3fI6HNkGl7wG/pa1mYBwCIzWgnMap+DZlbGgMm8qD4PZ3Nsz6ZKMvAoCfL0YHh3c7TEWTBnCGUEHMJibkIlW9G0c4OiIy/kpZgHmXV8gG3rXWz5YWsPuI5WcNSb2uO0h/j7cM3cE6x6Yw6JThvLtjiOc/vT3PPTJdg6X1/XSbDuhqhC+exSGzoa0S47fFz1Se/Qap+D5hj4kHsxNUOP+xT8ZxnLS4kLxsrQO7A7+Pl4sGnKYZmlgY/MIp8yryWRmyY8HmP2PtSzJG4QByYFdm50ydndZvlNV7rY39C2EB/ry0DmjWHf/HK6eOoSPtuYx+x9r+cuXOymuaujJqXbOij+onPlzngbR7u8eNVJn3micgk2hmz5N26Kp4JjenUsnNJnM7DxcyfXTEx0eK60xk52GFP6+Np+PRyUi2hsQG5FSsiariMe/3k1OcQ0np0Ry26QL4LNnyMrYyNAJpzk81+6ybEcBafEhDA4P6PS46BB//nJBGjfPGsq/vstm6U+5vPdzHgtnJnHLrGGEBnQuM9ERDc0mcktq2VdUrR7F6vlASTWBvt4kRQaSbHkMjQwkOSqQpIjA47Opcr6H7R/ArAcgMuXEi0SNVO0wK/PVWpNG000839C3LZqKn9i7c+mErIIqGpvN3cq4OY6GagyHf0EkXc8vu8tZl13CqSPsr03YW1jFY1/tYn12CUMjA3nt+kmcNjIaAdR+HkBdXgZms2xtXN6TFFbW88uhcu470/Y7loSwAJ66NJ1bTx3Gs6uy+c/a/by18SCLThnKwpOTCfKz/lGoqm9if3HNMYNeVM3+4moOldViMitPWwhICBtASlQQM4ZFUNvYTE5xDeuzi/lo6/HpkXGh/iRHBZIS7sM9++7CL3AwhaNvId5kxser3Q12y4Js0R5t6DUO4fmGvo8UTbUsxI63oyLWKnkbwdxM6rRziD9i4JmVe5k1PNJmr760uoFnV+3lnU2HCPLz5o/njeaaaYn4eh8zQrVhIxlSksPWQ0eZnNSJKqaLWGEJ28xLsx626YyhUUE8v2ACt88extMr9vL0yr0s+SmX22cPY0xcKPuKq9nfxqgXVB7LMPLxEiRHBjJqUDDnjxvEsOggUqKDGBoZxABf63UP1Q3N5JbUcMDyyC2pIaekhojMJQwklxsaH2Dtc5vwNggGhwccuwuICmT+iBSCQcXph5/RnbdKowH6g6EPCAdvf7cvPMnIKycswIeEsAGODZT7Axi88Umezp2nlfLQJ9tZm1XMnJHRnZ7W2GzmzQ25/PO7bGobTVw3PYm7Tx9OWKDvCceGJE1gVOl/efJXY68Y+mU7CxgWFUiKA4vWowaF8Or1k/j10FGeWbmXx7/e3bov0NeLlOggZqREkBIdREqUMuhDwgPwbu91d0GQnzdp8aGkxbfJpDqai3zhMxqHnsdvZ97OeSU1HChRNQE5xTX8tL+E+iYzR+akcF9gFBTv7vgCGo0NeL6hF+KYXLEbk2msIH3wwG7H01s5sF6FqHwDuXTiAP6zdh/PrNzL7NQoq2NLKVm5q5C/frOb3NJaZqdG8YdzR3VqRH3jxuL7Sz3btmfSND/txJCDCzla08jGnDJuPXWoU8abMCSMt26cyra8cqrqm0iJDiI2xN/xv0NHSAnfPIAQXvie+yQTQ8OYmBh23CFms+SKxRtYk1XEfS0LshqNA3h+1g24fQOS2sZm9hZWOSE+XwWHf23Vt/HxMvDbOcPZnl/Bqt0nCoruPlLJ1a9uYtFbW/H2MrBk4WTeWDila085VpVGDKrfx4/7Shybs52s2l2IySyZN2aQU8cdP3ggpwyPYlDoANcZeYA9X0P2cpjzUIdxd4NBMGdkNDsPV1IbOlxn3mgcpn8Y+hD3ro7dkV+JWcL4bhZKtXJoI0jTcY3ALzopnsSIAJ5dubdV+Ku4qoGHPsnk3H+tZ9eRSh69YAzf3n0Kc1I7D++0Ej0KiSDdN48vMg47Nmc7Wb6zgPiBA0iLt130zW1orIFv/weix8DUWzs9tOVvsdsUpzp/Vfbs+6zxLDw/dAPKo686AqZm1TTczWjpDuWwR39gnRJxS5jSusnHy8BvTxvOfR9m8GXmEQ6X1/Hv1fuobzJxw4xk7j59uP0phr6BiIhhzGos5D87C6lvMtktwtYdqhuaWZddwjVTu58y2qt8/6RK8730NfDq/D0fGRtMbIg/645GMBFUnD60vTq4RmMb/cSjjwdphmr3bI+XYSwnfuAAIoP8HBsodz0kTAbf43PLLxwfR3JkIHe9+ytPfLuHaUPDWX7PLP54/uhu55ETk8YweZDqhmZW7+mZPjNrs4pobDZ3K9um1yncBRteUPLDNgjNCSGYnRrFJ0ZLGE3H6TUO0D8MfUss1E3j9BnGctIdDdvUVyg54eQT9ee9vQz86fzRzBgWwVs3TuHV6yczLCrIsevFpDGg+hCJgSa+2NYzYYVlOwqIDPI9YfHS7WnpGuUXDGc8avNps1OjyWsIoMk/Aop05o2m+/QPQ+/GLQXLahrJK6sj3dGwzcEN6q6lg0Yjs1OjeefmaZwy3EmNXWLTALhuWA2rs4qorG9yzrgdUN9kYs2eIuaOjnVIIqJXyHgXDv0EZ/wFAiNsPm1mSgTeBsFhn0Tt0Wscon8YejduKdiqWOmooc9dD15+KnTTE8QoQz83opjGZjMrdha69HI/7iuhptHU98I2tWWw4hG1bjLhWrtODfb3YXJSOJkNsapoSmfeaLpJ/zD0/qHgG+yWmTeZeRUIAWNtbAbeIbnrYfAU8PF3zsS6IjQB/EMZ3LCfweED+Hyba9/bZTsKCPb3ZvpQ2z1it+C7R1WLwPOeUY1w7GTOyCg21cSozJuqIy6YoKY/0D8MPVjkit3P0GcYy0mJCupQa8Um6o7Ckczu94ftDkJATBqiaCfz0+P4aX8pJdWuUYVsNplZubuQM0bFHCfF4PYYt8DWN1QqZWz32jLMSY1mn7Tckeo4vaab9KFPjYOEuF/RlJSSTGM56Y7q2xz8CZCQ5Fz9+S6JSYPCXcwfNwiTWfLNdtd4nD8fKKO8tqlDSWK3xNQMX90DwbGqOKqbpEQHURVsUbbUcXpNN+k/ht4NPfr88jpKqhtJdzhs84PS80mY5JyJ2UpsGjTVkOpbQmpMMJ+7KPtm2c4C/H0M3VLh7DU2vwoFmTDvbyrbppsIIRg/MoUyGYypsGe7cGo8h/5j6EMSoLoImht7eyatZFqaWDvs0R9YD4OngreDefj2YlmQpWA788fHsfXgUYxHnds83GyWLN9ZwOwR0R0qRLodVQWw+nEYdjqMvtDh4eakRrNXJlCTv9MJk9P0R/qPoQ+NByRUuU8peUZeOb5eBkbGOlDOX1sGhdt7Nj7fQvQoEAYoVHF6gC8znBu+2WYsp7CyoW9l2yx/GEyNcM7fT+wa1Q1mpESwXybgW7ZXZ95ouoXHGPry2kb+9s1uth4ss35AiPulWGYYyxkVF+LYAuPBH9WzlUIpl+MzACJSoHAHg8MDmDBkoNOzb5bvKMDHS3Qps+w27F8DOz6GU34PEcOcMmSArzfNEan4m6rV3YJGYyceY+i9DIKX1+Ww6UAXht5N4vQms2S7scLx+PyB9eATAHEnOWdi9hKTBgU7ALggPY49BVVkFzqncbiUkmU7C5gxLJLQAd2UaugpmupVhs1nt0H4UJj5O6cOHzU0HYCinG1OHVfTP/AYQx/s70NkkC8HSzqIEbcWTblHdWxOcTU1jSbHK2JzW+LzJzYI6RFi06DiENSVc+64OAwCpyla7imo4mBprXuHbeqOwvqn4bmx8OXdEBQNl7zm9HqG0elKqO7gnl+cOq6mf2CToRdCzBNCZAkh9gkhHuzgmMuFELuEEDuFEO+02X69ECLb8rjeWRO3RmJEIAfLaqzv9A0E/4Fu49FvsyhWOqRxU1MCRbt6J2zTQowlP7xoF1HBfswYFsnn2w63SiI7wrIdBQgBc0e7YVP3CiMs/194Nk0VRcWmwXWfw6LvId75d1eJg4dQTjC1xh1OH1vj+XRp6IUQXsALwNnAaGCBEGJ0u2OGAw8BM6WUY4DfWbaHA38CpgJTgD8JIVymSJUYEcDB0k6yPkIT3CZGn2EsJ8jPm6GRDoiL5f6gnpNmOWdS3SFmjHq2hG/mj4/jUFktGZaMIkdYvrOAyUnhjqt6OpPCnfDJLfDPdNj4IqSeA7esh2s/haGznbL4ag1hMFAeNIygqv3UN5lccg1Xs+twJXe+8wtFVfVdH6xxKrZ49FOAfVLKHCllI/AecEG7Y24GXpBSHgWQUrbo1p4FrJRSlln2rQTmOWfqJ5IUEciRivqOPwgh8W4jbJZprGBsfCgGRwS6cteDTyDEjXfexOwlJA4GhKnMH+CsMbH4ehkcVrQ8UFLDnoIq5rlDkZSUai3k7UvhxRmw+wuYfDPcvQ0ueQUGjeuRafjEjiKFPDbllPbI9ZxJbWMzd77zC19lHuGBjzKdcsensR1bDH08kNfmtdGyrS0jgBFCiB+FEBuFEPPsOBchxCIhxBYhxJbi4mLbZ9+OxAilw36orJM4vRt49A3NJnYfqXQ8fz73B0ic3mUTC5dikUJo8ehDB/gwOzWKrzIPYzJ3/8O8fKfKLjmrN+PzZhPs/AxeOQ2WnqfaNM75A9yzE85+AgYO6dHpRA8dT6ioZfOOvieF8NhXuzlQWsMlJyWwNquYtzYe7P5gR3Nhw3/U30djE85ajPUGhgOzgQXAK0IIm62YlHKxlHKSlHJSVFT3qx8TIwIByC3pIE4fEg91ZdDo3KIee9l9pIomk3Qs46a6SCka9kb+fHtixyodFssH74Lx8RRVNTjkeS7bUcC4hFDiBw5w1ixtp6lOVbY+PxE+vB7qy+HcZ+CeHXDq/RAQ3vNzQnn0AEeyf+2V63eX5TsLePfnQ9wyaxj/uGwcp46I4v++3s2+om5kZ5ma4IPrYPlD8MtS50/WQ7HF0OcDg9u8TrBsa4sR+EJK2SSlPADsRRl+W851GkkWj77DOH1LA5Je7r+Z0boQ64BHn7tePbuDoY9Jg+Y6KMsB4PRR0QT6enU7++ZIRR3b8sp7Xtumtgy+f0otsH59rwpJXf4m3LkFJt+o6gZ6k2hl6IOr9nOgI2fGzSisrOfBjzNJiw/h93NHIITg75eNI9DPm7vf20Zjs9m+Adc/oxrsDBwCq/4C1d2PAPQnbDH0m4HhQohkIYQvcCXwRbtjPkN58wghIlGhnBxgOXCmECLMsgh7pmWbSxgY4EvoAB9ySzvx6KHX4/QZxnIig/wYFOpACl7uD0p6eVC68ybWXVoXZFWc3t/HizPHxPLtjgIamu2/vW7Rtu+RtEqzSfXa/fJ38OwYWPN/Kmvmhq/h5tUw+gIwuIn0QmAUJv8wRggja7N6pn2jI5jNkvs+zKCuycQ/r5zQWhgYHezPExePZefhSp5Zudf2AY9kwLqnYOxlcPVHqtn6qj+5aPaeRZeGXkrZDNyJMtC7gQ+klDuFEI8KIeZbDlsOlAohdgFrgPullKVSyjLgMdSXxWbgUcs2l5EUEdB5jB56PU6fkVfO+MGhjjW4PrAeEme4R7PzqJEgvKDwWOrf/Nd4t5YAACAASURBVPFxVNQ1sW5vid3DLdtRwPDoIMfbHXaEqRlyvlfqkk+nwtLzIeM9ZdRv2wBXf6iUQN2tAbkQeEWPIs23gDVZ7u/Jvv7jAdZnl/DH88ac8Lc8c0wsC6YM5uV1+9loS4ivuQE+vQ0CIuDspyAqFWbcCdv+q7qraTrFJishpfwG+Kbdtj+2+VkCv7c82p/7OvC6Y9O0ncSIQH7NO2p9pxtUx1bWN5FTUsMF409Yk7ZjkCNQmg0nXee8iTmCjz9EjmhdkAU4OSWSsAAfvsg4bFcefFlNI5sOlHLHnBTnztHUDAd/UIuru7+E2hJVUTz8TGXgR5ylai3cnahUhud/xMacEuoaTW4r9LbrcCVPLcti7ugYFkwZbPWYP5w7mg37S/n9+9v49nezOq9+/v4pKNoJC94/tkYy637Y/pEKs92yzj2cHjfFYypjW0iKCCD/aJ312J+3HwRG9Wp17A5jBVI6GJ/vTX2bjohNUznmFny8DJwzdhCrdhVS09Bs8zCrdhViljgnPm9qVtozX96tPPc3L4DM99X7dtlSuH8fXL4U0i7uG0YeIHoUA0xVhDYfZUOO/XdLPUF9k4m73/uV0AAfnrxkXId3roF+3jx35QQKqxr44+edFILlb4UfnoXxV0Nqm+xs30CY94T6Avj5ZSf/Fp6Fxxn6xIhAzJKO5XJDeleXvqWQaFy8Axk3B9aBXyjE9kz+tk3EjFFrH7XHInPz0+OoazKxarft/WSX7SwgIWwAY+K6qehpaob9q+GLu+DpEfDWhZD5ISTPUgur9++Hy96AMRf2HePelqhUANJ8DrNmj3uGb/72zW6yi6p5+rJ0wgM7l+YYP3ggd58+nM+3HbYuiNdUr0I2wbFK2789I8+F4WfBmr/2epKFO+OBht6GzJtejNFn5JWTGBFAWBcfgE7JtcTn3WWREI5JIbTx6icnhTMo1N/m4qmq+iZ+yC5h3phY+9YvTE2w7zv44rfwj+Hw1kXqln7obLj8LeW5X7ZEhWh8A2wf1x2JUpk3c6OOsiaryO0Kj9bsKWLphoPceHIys2xsFHP77GFMTAzjD5/tONFBW/M4lGTB/OdV7+f2CAFnPwnmZiVJobGKBxp6Sy59Z5k3vfjNn2ksZ5wjQmYV+SqN0Z3CNqBCN3DcgqzBIDg/PY512cWU13bd8GVNVjGNJrN92TZblijj/vbFsOMTGHYaXPE2PLAfLn0dRs/v+8a9LUHR4D+QSYFFGI/Wsb/YfdIsi6sauP+jDEbGBnP/Wak2n+ftZeDZy8djNkvu/SDjWKHdoU3w079h4g2QcnrHA4Qnwyn3ws5P1N2c5gQ8ztBHBvkS6OvViUcfDw0V0OAcKV17KKqq53BFvWOFUq36Nm5m6INiICDyOEMPKnzTZJJ8u6NrHfXlOwqICvbjpCE2yiGZTbD6MZVTfcV/led+6Wsw6vzez3l3FUJA9CgSTYcA3CbNUkrJAx9lUFXfzL8WTMDfx767zSERAfx5/hg2HShj8bocVdT42W0wcDCc+XjXA8y4S8lDf32fytDRHIfHGXohhFKx7CqXvhfCN5l5TmgdmLtOqXC2tPFzF4RQXn3B8YZ+TFwIQ6MCu2xIUt9kYk1WEWeOjrFd/+fwr1Bbqj7ko87zXOPenqhU/I7uZXhUIGvcxNC/tfEga7KKeficUYyI6V6P3EsnJnB2WizPrMyi5POHoWw/XPCCbT13ffzhnH+oc376V7eu78l4nKEHSIrsRMWytTq25zNvMozleBlE9xcaQXn0SSeDwQ3/dDFpSgrBdCzLRgjB/PQ4Nh0oo6CiY9XC9dkl1Daa7AvbZK9QrQyHnebIrPseUaOg7ijnpXjz84Eyqu3IanIFewur+L+vdzMnNYrrpid2exwhBH+9aCxnDNhL5M4lNE9apBbRbSXldLUOs+4fSg9H04obWgvHSYwIJO9oLc0mKymWvejRZxgrGB4dRIBvN/N9y/PUP7C7hW1aiEkDUwOU7jtu8/z0OKSErzI7XhtZtqOAEH9vpg2NsP162SsgYXKvac/0GpbMm9MjymgySX7a13tplg3NJu5691eC/Lx56tJ0x4oAgTDvRp71e4UD5hj+1ni5/QOc9TdVvPet1bYZ/RaPNPRJEQE0mSRHrHmQwYOUF9jDKZZSSjKN5Yx3ir7Nyc6ZlLOxsiALMDQqiLHxoR1q3zSZzKzaXcgZo2Pw8bLxX7K6SIVuhs91ZMZ9E4vmzUivwwT6evVqlezfl2Wxp6CKv182jqhgJ/QNWPkI/jX5rB31F177uYg1e+wMTYXGw5yHYO+3sOebro/vJ3ikoR8S3knmjZc3BMX2uEd/qKyW8tomxzJucn+AAeEQPbrrY3uDyFQweJ9g6EF59ZnGCqtiXJtyyqioa7JPe37fKvU8/MzuzrbvEhQD/qF4l2Zx8vBI1vZSmuX67GJe/eEA101P5LSRTugCtn81bHkdpt/BgksvJzUmmPs/yqS02s7F1am3qvDWt//T60q17oJHGvqkSJVOl9tRnD4krsdj9E5pHXhgvfvG50H1rY1MPWFBFuC89EEIAV9a8eqX7TzCAB8vm/OuARW2CYp1r6KxnkIIZciKs5iTGs2Rinr2Flb36BTKahq594MMUqKDePicUY4PWF8Bn9+ppDRO+wP+Pl48d+V4Kuua+J+Pt9v3ReblA+c9o3oZr/+H43PzANzUYjhGTLA/ft4GDnYk5doLDUgyjRX4eRu6nZHA0Vz1j+uu8fkWYtOsevSDQgcwJSmcz7flH/ehNZsly3cWMmdklO0peaZm2Lcahp/hfsJjPUVUKhTtZrbly7Ens2+klPzPx5mU1zbxzyvH251KaZXlD0PVEbjwxdbsqVGDQnhgXiqrdhfy3ua8LgZoR+IMSF8AP/4Liu1QyLSXpjpY9jAsORfW/V0puLpZERt4qKE3GITqH9uRimVIgorR9+AfJCOvnLT4UNtj0O1pyZ93t0Kp9sSkqQ9szYmKhPPHx7G/uIZdRypbt/2ad5Tiqgb7tG2MP6taiP4YtmkhehTUlRHrXc3I2GD7Y9kO8O7PeazcVcgD81IZE+fAHWoLe5fDr2/DzN9BwqTjdv1mZjIzUyJ49Mtd5BTbedcy91FVLPfNfa75rB/JhJdPhY0vqDTf1Y/DSycruesvfwdZy9wmdOSRhh7oPJc+NB6aaqGuA5VLJ9NsMrPjcAXjHCmUOrBeFSRFjXTexFxBBwuyAOekDcLbII5blF22owAfL8GckdG2XyN7hVoLGDrbsbn2ZSyZNxTvZs7IaLYcPEplfZPLL7uvqJpHv9rJySmR/GZmsuMD1pYpXaLoMTD7xEwZg0Hwj8vS8fU2cM/722iylknXEUHRcNojcOB72PGx43NtwWyGn56HV09XIadrPoE7NsK9e2H+v1U/g+0fwrtXwFPJ8N/LVceycjvvSpyIxxr6pAiVS2+21re0h+WK9xZWU99k7n7GjZQq48YdNdLb06p5c6KhDwv0ZdaIKL7KOILZLJFSsmxnATNTIgnxt6PvbfZKGDLduvZJf8GiedMSpzeZJT9muzbNsrHZzO/e/xV/Hy+evjzdscb2LXz7P0oy+sL/KHVZKwwKHcDfLh5LhrGC57/Ltm/8Sb+BQeOVDk59ZdfHd0XlYSWUt+IPkDIXbvvpmDxDcAycdK1FgiMHrv1UyTeUZCkp5efS4MWZqjPWoU092vPWYw19YkQgDc1mCquspFi2FE31UJw+06gWYrudcVOWo76U3D1sAxAUBYHRVhdkQWXf5JfXsfXQUXYdqSSvrM6+bJuKfPUl0h/TKtsSHKsUTIt2c9KQgQT7e7s8Tv/Myr3syK/kiYvHERPiQHe0FnZ/Cds/gFPug7jxnR56zthBXHJSAv9es48tuXb0LjJ4qYXZ6kJYa0X90h52fQEvzgDjZjj/n3DlfyGwg7oPbz9VyHf2k3DXNrhjM8x9TFW1//hPeP1M+HsKfLJI3W3UlTs2ty7wWKX+FhXL3JJaBoW2K43v4ZaCGcZyQvy9W3va2k2rvo0dVYK9SWwaFG63umvu6Bj8fQx8se0wYQE+GAScYUdjEvatVM/9OT4PFs2bkVCchbeXgVnDo1ibVYyU0uGiJWv8tL+El9ftZ8GUwc5p8VhTqjp8xY6DWffZdMqf54/m59xS7vlgG9/cdQrBtt4Fxk+ESQth00sw/irVzN4eGqph2YPw61vq7uCSVyFyuO3nCwFRI9Rj5l3KqO//Tq1NZK9UPRKEl1pAHnU+TL3FvvnZgMd69EkWFUurcfqgaBXj7SGPPiOvgvTBA7v/Acxdr3Kn7fnn6k1i0qA4S8kHtyPQz5szRsXw9fYjfL39CJOTwokMsqPQJnslhA52/7WKniAqFYp3AzA7NYqiqobjFrqdRUl1A/d+kEFyRCCPnOekGo6vf68M3kUvqXRIGwj29+HZy8eTf7SOP32+03pYtiNOe0Q1e//6XhVjt5X8rfDyLLVYfPI9cONKxz+HAwZC2iVw8WIlxPebFTDzbrVmuHeZY2N3gMca+kGh/vh4Ceu59AYvCI7rkRh9XaOJrMIq0rsbtpHyWP68u8fnW4gdC6ZGKLEeT52fHkdZTSP7i2vs8w6bGyBnrQrb9JX3wpVEjVLZHjUlnJqq0izXOrlKtqiynisXb+RobSPPXTm++/IdbdnxMez6TFWwtjSWt5FJSeHcedpwPvk1n+te/5nD5XW2nRgQrkIneZtUn9muMJuUZs5rZ0JzPVz/JZzxZ1Ur4kwMXjBkKpzxJ7jtRxovs2Fu3bmMS0Z1A7y9DAwOC+g886YHPPpdRyowmWX3FStL90N1gfvnz7el5cNrZUEW4NTUKEL8lcGwK63y0AZorNZhmxZaMm+KdhMd7E9afIhT0yyPVNRxxeKNHCmvY+nCKY5VdbdQVai86viJMOPubg1xzxnDefzCNH45dJSznlvHx1uNthVUpS9Qi/gr/3hcJ7QTKD8Eb5ynJLBHnQ+3/ejy9bH88jpufWsrd3242yXje6yhBxWn71DFMiS+R2L021qkibuTWtlYq2KDAENPdeKsXEzkCPDyVcUjVvDz9uK66UmcnRZL3EA7pIWzV6px7VE09GSiWzJv9gAwJzWaXw4dtanJS1fkldVy+csbKKlq4M0bpzLVHrG5jpBSxeUba1VhVDebeQshuGZaIt/efQojY4O598MMbnlrKyVdSSUYDHDu0yol8ru/WD9m+0fw4slQkAkXvgSXLlEhHxfR0Gzi36uzOf3ptazdW8TYhFCXyFl4uKFXufRW37hQS6cpe+J13SDTWM6gUH+i7c1SqCtXXZP2rYLznlNNFfoKXj7K2+zAowe476xUXrxmon3jZq+AxJl9s9erKwgeBH4hrYZ+dmo0Zqkknx0ht6SGK17eQEVtE2/fNJWJiU4ydDs/hayv4fRHjt2NOEBiRCDvLZrOw+eMZG1WMWc9u45lXTW4iRkD026DrUvBuOXY9vpK+OQW+PhGtWh663oYv8ClIcI1WUWc9ew6/rFiL3NSo/nu3tncMSfFJYvpNhl6IcQ8IUSWEGKfEOKEqgYhxA1CiGIhxDbL46Y2+0xttn/hzMl3RVJEADWNJkqqrXg4IQkqjlzr2tzjjLxy+wulqovUraNxi2qHN2mhaybnSmLGHtc/1mGO5kLJXh22aYsQalG6OAtQjbYHBvg4lGa5r6iaKxZvoK7JxLuLpjnWJKctTXUqZBIzFqbd7pwxAS+DYNGsYXx118kMGujPrW9v5ffvb6OirpPisdkPqvTUr+5RsfhDG+GlmSrV89QHYeEylzpWeWW13PzmFhYu2YzBIHjrxim8eM1E4u25u7WTLu+dhBBewAvAXMAIbBZCfCGl3NXu0PellHdaGaJOStl5kqyLSGyTeXOChGpom6KpIDuqMu2gvLaR3NJaLp882I6TDsGbF0BVAVz1HqSc4ZK5uZzYNMh4B6qLVW69o2TrtEqrRKW2Zmp4GQSzhkfxfVYxZrO0u6Apq6CKq1/dBMB7i6aTGttNXSZrbHgBKvJUYZQLmtqPiAnm09tn8vzqfbywZh8bckp56tJxnDLcyv+eXzCc9Vf4aCG8fYmqnA1NUAZ+yFSnz62F+iYTL32/nxfX7sfLIPifeSO58eRkfL1dH1ix5QpTgH1SyhwpZSPwHnCBa6flHFpz6a3F6XugAUmmsSU+b6NXVLQHXjtLZVJc+1nfNfLQZkHWepzebrJXQlgyRAxzznieQvQoqClu1RaaMzKK0ppGtudX2DXMzsMVLHhlIwYB7y2a5lwjX1UIPzwLqee6dH3Fx8vA7+eO4JPbZhDg68W1r/3MI5/toLbRSgeuMRcpCY2cNTD2crj1R5ca+VW7Cpn77Pc8tyqbuaNj+O7eU7lt9rAeMfJgm6GPB9qKNBgt29pziRAiUwjxkRCirQvrL4TYIoTYKIS40NoFhBCLLMdsKS52XnpYQlgABtFBLn1rS0FXGnpV7TbWltBN/lZYcjaYm+GGb1z6T9cjtEghdFAhaxdNdXBgnfLmdVrl8bRq3qg4/azhUQhhX5plprGcq17ZhL+3gQ9umU5KdJBz57j6MZUae+Zjzh23A9IHD+Tru07hxpOTeXvTQc7553q2HmyXZSMEXPaG8uIvfhn8HWjv2QkHS2v4zRubuenNLfh5e/HOTVP591UnnVjE6WKc9XXyJZAkpRwHrASWttmXKKWcBFwFPCeEOMElk1IullJOklJOiopywm2+BV9vA/FhA6x79AER4O0PFa7LvNmWV8HQqMCudVwOrIOl88EvCH6z7JgwWF8mMEItFjojTp/7IzTX6bCNNVo1b1RaXkSQH+MSBtocp9968ChXv7KJYH9v3r9lOkmRTl7oPpKpio2m3tKjd2P+Pl48ct5o3r15Gs1myWUvbeBv3+6mobmNvsyAMEic7pLr1zWaeGZFFnOfXcemnFL+95xRfHv3KcxIiXTJ9brCFkOfD7T10BMs21qRUpZKKVtym14FJrbZl295zgHWAhMcmK/dJEUEcsiaRy+EpQGJazx6KSUZxnLGdxW22fM1vH2pqvb8zXLPCk3EWNemt5vsFeA9AJJmOj6WpxESZ8m8yWrdNCc1igxjeZedmTbllHLda5uICPLlg1umMzi8mxIdHSGl0pkfEAaz7nfu2DYybWgEy343i8snDebl73OY//yP7DxsX1jLHqSULN9ZwBnPfM+/Vu/j7LRYVt83m5tnDe2+RLkTsOXKm4HhQohkIYQvcCVwXPaMEGJQm5fzgd2W7WFCCD/Lz5HATKD9Iq5LSYwI6KTTlOuKpgoq6ymuaug842bbu/D+tcqDX/iN+tB6ErEWKYRmB/K6pYTs5Sq269Ozt7t9AiFam5C0MCc1GtlFmuWP+0q4YclmYkP9ef+W6fbVM9hK1jdKvmPOw6rsv5cI8vPmiUvG8foNkyirbeSCf//I899l02yP5LEN5BRXc8OSzdzy1laC/Lx5b9E0/nnlBOcIwDlIl1k3UspmIcSdwHLAC3hdSrlTCPEosEVK+QVwlxBiPtAMlAE3WE4fBbwshDCjvlSesJKt41KSIgKpqGuivLaRgQHtypdDE44JhjmZDEuh1LiO0tM2vqiKoZJPhSvfUWEbTyMmDcxNSqbVXiGpFkr3q9TK6dYSujSAJfNmRevLsfGhRAT6siariAsnnLictjariFve2kpSRCBv3zTVOU2929PcqKR8I1NhonukB582MoYVvwvjkc938PTKvazaU8Sfzh/NwAE+tK20OVZ2I0/YZu04ieTLjMO8su4Aft4GHjlvNNdNT+xVD749NpWmSSm/Ab5pt+2PbX5+CHjIynk/Ad38hDuHIeHHMm/Gtzf0IS1FUyanp3xtzy/H2yAYPajdIo+USi71+ydVefUlr3Wow93niWlpQrKz+4Y+22LA+rsscWdEjVJx8NoyCAjHYBCcOiKK1VlFmMwSrzZplqt2FXL7f38hJTqIt2+aSnigk7VbWtj8ipLXvvqjblfAuoKwQF/+fdVJnDXmMI98voOL//OT08a+eEI8D54zkujg3vfg2+M+fwEX0bK4dLC05sTGHyFxIE1Kq9rJYZNMYwUjYoKP76dpNisv/ueXYfw1StPajT4ETiciBbz8lBRC+pXdGyN7hfIKw5KcOjWPokXJs3iPkroFZo+M5pNf89mWV95a2frt9iP89t1fGRMXwpu/mUpogB3NXuyhtkw5MsNOd9sv6PPT45g2NIKf9lsPb7VUp4rjtrX52bKnZduQ8ADS4t23EY4HWxlFq0dfYiVO37YBiRMNvZSS7fkVnN1WmdHUBJ/fobSnp98JZz7u+amCXt4qz7u7C7IN1XDwR5iyyLnz8jSiLYa+aHeroZ81PBKDgO+zipiYGMbn2/L5/QcZjB88kCULJ9vX0cte1v5N/e3O+j/XXcMJRAX7ccF4a5ninofHG3p/Hy8Ghfpbz6U/rgHJZKddM6+sjvLaJsbGW+4gmurgw4Ww91uli33KvZ5v5FuISVOVm1La/zsfWKdkKnRaZeeExINv8HGZNwMDfJkwJIw1WcUMiQjkgY8ymJQUzus3TCbIz4Uf+6I9sPk11UKvRXRN0+u4z2qBC0mMCOBgmTWP3jXVsZn5La0DQ5VY0tuXKmN37tOqm05/MfKgMm9qS1R4zF6yV4BvkJKW1XRMS+ZN8fESt3NSo9ieX8H9H2UwY1gkSxdOca2RB7UA6xukMm00bkO/MPRJFhXLE/AfCD6BTs+lzzRW4OttYERQAyw9D/I2qvZjk2/q+mRPo3VB1s7wjZRK9mDobOc3e/BE2oibtXD6qBiEgFNHRPHq9ZMY4Ot8jZnj2LdKtXo89X4I7J3CII11+oWhT4wIpKS6kar6dop2QlgakDi3OjbTWM6UGInvm+eoD9+V78LYS516jT5DS5WvvVIIRbtVSE2HbWwjeqS6a2rTUGPUoBBW3jOLV66bdHxSgCswNcPy/1V6RHpNxe3oJ4ZeLchabUISEu9Uj95sluzIr+Qm72VQug+u+QRG9GNjNSBMSULb69HrtEr7aM28Od6rT4kO7pl87l/eUFk/Zz7muenCfRht6J3cUvBAaQ1NDbVML/scUs/RZfuglCzt9eizV6qwj6dVC7uKVkPvmlZ0nVJXDmv+Coknw8jzev76mi7pJ4Ze5dLnWs28SVC3vI6U6bch01jOxV7r8Wsqh+nOa7DQp4lNU01Dmrto9dZCfYXqD6u9edsJTVCLoO08+h5h/T9UyGjeX/tXokEfol8Y+iA/byKD/DqQK44HJFQdccq1MvPKudF7GTJ2nGp7p1GeuTS1Sul2yf416ngdn7cdK5o3PUJZDmx8CcZfDYPSe/baGpvpF4YeVFvBDmP04LQ4vVfOalJEPmL6Hdq7aSHWTm367JXgFwoJU1w3J0/ESuaNy1n5R9Ww/fRHeva6GrvoN4ZeNQrvojrWQZpNZmYf/ZAqn0gYc7HD43kM4UOVzLAtC7JSqhS9lNM8Wx7CFUSNhOoCqDvaM9fL/QF2fwkn36N6sGrcln5j6JMiAiiorKeu0XT8Did69IeytnKyyCQv5Wqd+90Wg5ftUggFmWrNRIdt7KeDzBuXYDbBsofUGtcMrSzq7vQbQ59oETc71L5C1i8I/EOdE7rZ8CJ10pcBM/phYVRXxKap0I2UnR/XklbZl/vl9hZtNW9cTca76kt57l90n4A+QP8x9K1yxR1k3jgauqkpYbDxS75kFonxg7s+vr8RMxbqyrpe9M5eCXETICi6Z+blSYQkqEpvV3v0DdXw3aOQMBnSLnHttTROod8Y+qSIY3LFJxAabxE2c4Atr+MjG9kUfQUGg16EPQFbKmRry8C4WYdtuovBYFXzxun8+JwKr531N51w0EfoN4Y+NMCHgQE+1tsKOtpSsLkB+fMrfG8eT2Ryr/ZZcV+iR6vnwu0dH7N/NUizNvSO4OrMm/I8+Ol5SLsUBjtP8VXjWvqNoQeVeXOoo+rY2hJoqu/ewNs/QtQU8Urz2YztrEdsf2bAQAgdorpNdUT2CgiIUKEbTfeIHqnCY3Xlrhn/u7+o5zP+7JrxNS6hXxn6pIiAjmP00L0FWSlh438oD0rhB3Ma6Qm91wTZ7WlZkLWG2aTUD1POcHpbx36FKzNvjFtg+4eqcc5AvQ7Vl+hXhj4xIpDD5XU0NLdLsQx1IMXywDoo3MGq0EsYGOBLQpjOQOiQmDQozVaNWNpz+FeoLdVhG0dxleaNlCqdMihG5c1r+hT9ytAnRQRglmA82s7QhDjQgGTjfyAgkrdqpjI2PrS116TGCjFjVAzeWvpf9goQBhh2Ws/Py5MIHQw+Ac736Hd8DMafVYc0vyDnjq1xOf3K0B9TsWwXvmlRSLQ386ZkH+xdRvNJC9lR1KDDNl3RIoVgLU6fvUKl6wWE9+ycPI2WzBtn5tI3VMOqP6u/3/irnDeupsfoZ4beomLZvlG4zwC1CGivR7/pRfDyZdfgyzGZpV6I7YqwZJXn3b5CtrpIhW60WqVzcGbmTUU+LJmnwprzntTrJ30Umwy9EGKeECJLCLFPCPGglf03CCGKhRDbLI+b2uy7XgiRbXlc78zJ20tEoC9Bft4dNwq3J0ZfWwbb3oGxl/NrqZI7GKcNfecYDBAz+sQF2X2r1LOOzzuHqJFQddjxzJv8X+CV06AsF676QPdW6MN0aeiFEF7AC8DZwGhggRBitJVD35dSjrc8XrWcGw78CZgKTAH+JIQIc9rs7UQI0UmjcDurY39ZCk21MP12MozlRAX7ERvi77zJeioxaSqXvq0UQvYKtcgXO6735uVJtCzIluzt/hi7voAl5yhlyhtX6LutPo4tHv0UYJ+UMkdK2Qi8B1xg4/hnASullGVSyqPASmBe96bqHJI6UrEMsaM61tQEmxZD8qkQM4btxgrG6YVY24gZoxqLtNw9mZph32pImaurLJ2FI5o3UsL6Z+CDa1U60Z+8nAAAEX9JREFU7M3fqbswTZ/GFkMfD+S1eW20bGvPJUKITCHER0KIliRbm84VQiwSQmwRQmwpLi62cerdIzEigLyyWppN5uN3hMYrA9RQ3fUgOz9Tt8bT76CmoZl9xdU6Pm8r7bXpjT9DQ4X2GJ1J6JDuZd40N8Lnd6iiqLRL4fqvtOaQh+CsxdgvgSQp5TiU177UnpOllIullJOklJOioqKcNCXrJEUE0myWHC5vVwVra9GUlLDxBYgYDilz2ZFfgZQ6Pm8zMWPUc4sUQvYKEF4wbE7vzcnTMBggcoR9ufQ1pfDWhbDtvzD7IbjkVfDRoUhPwRZDnw+0LYNLsGxrRUpZKqVsaQj6KjDR1nN7miERHahYthRNVXQRvjm0UWWITLsVDAa251cAMDZep1bahF8whCUd8+izV8KQ6UoqWuM87Mm8Kd4Lr56uKl8veQ1mP6jDaB6GLYZ+MzBcCJEshPAFrgS+aHuAEGJQm5fzgRZXYjlwphAizLIIe6ZlW6/RoYqlrQ1INr4A/gMhfQEAmcYK4kL9iQr2c/ZUPZeYNJViWZGvnnXYxvlEj1T/y/UVnR+XsxZeOwMaquCGr2DspT0yPU3P0qWhl1I2A3eiDPRu4AMp5U4hxKNCiPmWw+4SQuwUQmQAdwE3WM4tAx5DfVlsBh61bOs1ooP98PcxnKhiGRIHiM4zb47mwp6vYdJC8FVfGNvzK3R83l5i0qB0P+y2+As6rdL5tEohdJJ5s/UNePsSCI6Dm1fDYN2j11OxqSmnlPIb4Jt22/7Y5ueHgIc6OPd14HUH5uhUDAZBYriVzBsvH5Xi11nmzaaXVZn+lEUAVNQ1caCkhksnJrhwxh5IbBogYcN/1NpI9KjenpHn0Vbzpr2csNmkmnpv+LcSkbt0CfiH9PwcNT1Gv+y+nBgRwIGSjhqQHLZ+Un0l/PKWavptkUzYYYnP64VYO4mxNCGpOAQTF+p4sCsYmKgasreP0zdUw8c3wd5vlcNy1t90E/Z+QL+SQGghKTKQg2W1mM3t+pd21oDk17egsQqm3966KdPYshCrDb1dDEwE32D1sw7buAaDAaJGHJ9LX2GE1+dB9nI4++9wzt+1ke8n9EtDnxgRQGOzmYLKdimWoQlqAat9A2tTM2x8CYbMOK4pRqaxnMSIAAYG+PbArD2IFikEL19IntXbs/Fc2mbe5G9VcgblB+GqD2Hqot6dm6ZH6Z+GPtwibmYt86ax+sRMhT1fqTBDG28elEevvfluMu02mPOwlrx1JVEj1ZrTr2/DknPB288iZ3BGb89M08P0T0PfKlfcbkG2owYkG/+jcr9Tz2ndVFrdQH55nY7Pd5cxF+kGFq6mZUH28ztURfJNq/XCdz+lXxr6uIED8PESVjx6S/ZM2zi9cSvkbYKptx4n0ZqpC6U07k7cePD2h7GXwfVfQpBrq8417ku/XInxMggGhwec2Ci81aNvk2K58QXwC4EJ1xx36HZjBUJAWrxOS9O4KSFxcP8+8A3SmU39nH7p0YOqkD2haCooBgzexzz6CqMSMDvpOlW634ZMYwVDIwMJ9vfpoRlrNN3AL1gbeU3/NfSJEQEcLK1Bts2wMXhB8KBjMfqfFwOytUCqLZnGcsbp1oEajaYP0G8NfVJEILWNJoqrG47fERKnPPmGalUiPup8CEs87pDCynqKqhr0QqxGo+kT9FtDP6SjzJuWloIZ76o0y2l3nHBuS6GUNvQajaYv0G8NfVJro3ArcsUV+SqlMn6SVaGn7cZyvAyC0YO0oddoNO5PvzX08QMH4GUQVjz6BDA1QFmOKpCyspCVYaxgeHQQA3y9Ttin0Wg07ka/NfS+3gbiBw44sVF4S4plSAKMOrE1rpSS7fkVOmyj0Wj6DP3W0MOxzJvjCEtSz1MXWRV8yi+vo6ymkbE640aj0fQR+rWhT4oI5EBJuxTLmDS4+iOYdrvVc1oXYrXGjUaj6SP0a0OfGBFAVX0z5bVNxzYKoVrbeVkvhMo0VuDjJRg5KNjqfo1Go3E3+rmh70DFshO255czMjYEP2+9EKvRaPoG/drQJ3WUS98BZrNU0sR6IVaj0fQh+rWhHxwegBC2e/QHy2qpqm8mXRt6jUbTh+jXht7fx4tBIf4nqlh2QKaxHNDSxBqNpm/Rrw09qDi9rR79dmMFft4Ghsforkgajabv0O8NfVJkgM0x+kxjBWPiQvDx6vdvm0aj6UPYZLGEEPOEEFlCiH1CiAc7Oe4SIYQUQkyyvE4SQtQJIbZZHi85a+LOIjEikNKaRirrmzo9zmSW7DhcoaWJNRpNn6PLDlNCCC/gBWAuYAQ2CyG+kFLuandcMHA3sKndEPullOOdNF+nkxiuMm8OldaS1kkRVE5xNbWNJt0MXKPR9Dls8einAPuklDlSykbgPeBEERh4DHgSqHfi/FyOrbn0GVqaWKPR9FFsMfTxQF6b10bLtlaEECcBg6WUX1s5P1kI8asQ4nshxCnWLiCEWCSE2CKE2FJcXGzr3J1Coo259NuN5QT6ejE0Si/EajSavoXDq4pCCAPwDHCvld1HgCFSygnA74F3hBAndNOWUi6W8v/bu/cYucoyjuPfX+/dpfSyW6q0ZaeQNtgbFFaD/KGAGggmxQhIiUSJBCO3kIBEDAkxGBIVNcYEozUajYlCASVrQBFrAUMosk3LlpYUS1vLbkMtlG5XW0q3ffxjzm6n272cOts9c87+PskmZ86cM/PMm5ln33nPO+8TzRHRPHPmyFaqr584jplTJp64uFkfbR2dLJo9lbFjXH/TzPIlTaLvAOZW3J6T7OsxBVgMPCdpB3AR0CKpOSIORcS7ABGxDngTWDAcgQ+nUkPdiYXCKxw+cpTNu/Z7ITMzy6U0if4VYL6keZImACuAlp47I6IzIhojohQRJWAtsDwiWiXNTC7mIulsYD6wbdhfRZWaGuoH7dG/sbuLQ91HWTrXM27MLH+GTPQR0Q3cDjwDvA6siohNkh6QtHyI0z8BtEnaADwOfC0i9lYb9HArNdSxe/8hDnzQ3e/9G700sZnl2JDTKwEi4mng6T777h/g2Esqtp8AnqgivhHRM/Nm594DnPuhEy4h0NbRyemTxvVeuDUzyxP/xJNjM292vNP/OH1b+z6WzpmG+qkfa2ZW65zogaYZ5R59f+P07x8+wpa3u7w0sZnllhM9MLVuPNPrxp9YKBzY8nYXh4+Ex+fNLLec6BMDzbzpXZrYPXozyykn+kSpoa7fMfq29k4a6icwe9rkDKIyM6ueE32iqaGeXZ0HOdR95Lj9GzvKpQN9IdbM8sqJPlFqrCMC3tp7sHffgQ+6eWN3l8fnzSzXnOgTZ/Uz82bzrv0cDbwGvZnlmhN9otQzl75izZu25BexvhBrZnnmRJ+YUT+BKRPHsbOiR9/Wvo9Zp09k1umTMozMzKw6TvQJSTQ1Hr+KZVuHSweaWf450VeonEvf9f5htu35ry/EmlnuOdFXKDXU0f7eQQ4fOcprHfsBj8+bWf450Vdoaqin+2iwa9/B3l/EeujGzPLOib5C04xjM2/aOjqZM30yM+onZByVmVl1nOgrlBqPzaXf2N7JUg/bmFkBONFXOGPKRCaNH8OGt/axc+8Blsz2sI2Z5Z8TfQVJlBrqeXbTbgDOc4/ezArAib6PpoY6ug6Va8cu8tRKMysAJ/o+Skn92HmN9UydPD7jaMzMqudE30dPoXBfiDWzonCi76OnUPgSD9uYWUGkSvSSrpC0RdJWSfcOctzVkkJSc8W+bybnbZF0+XAEfSotO2sanzv/TK5c8uGsQzEzGxbjhjpA0ljgYeAzQDvwiqSWiNjc57gpwJ3AyxX7FgIrgEXAmcBfJS2IiOPLONWQugnj+NGKZVmHYWY2bNL06D8GbI2IbRHxAfAIcFU/x30b+C7wfsW+q4BHIuJQRGwHtiaPZ2ZmIyRNop8NvFVxuz3Z10vSBcDciHjqZM81M7NTq+qLsZLGAD8E7q7iMb4qqVVS6549e6oNyczMKqRJ9B3A3Irbc5J9PaYAi4HnJO0ALgJakguyQ50LQESsjIjmiGieOXPmyb0CMzMbVJpE/wowX9I8SRMoX1xt6bkzIjojojEiShFRAtYCyyOiNTluhaSJkuYB84F/DPurMDOzAQ056yYiuiXdDjwDjAV+GRGbJD0AtEZEyyDnbpK0CtgMdAO31fKMGzOzIlJEZB3DcZqbm6O1tTXrMMzMckXSuoho7u8+/zLWzKzgaq5HL2kP8K8qHqIReGeYwikat83g3D6Dc/sMrBbapiki+p3NUnOJvlqSWgf6+jLauW0G5/YZnNtnYLXeNh66MTMrOCd6M7OCK2KiX5l1ADXMbTM4t8/g3D4Dq+m2KdwYvZmZHa+IPXozM6vgRG9mVnC5TPRDVbxK1tZ5NLn/ZUmlkY8yOyna5y5JmyW1SVotqSmLOLNSTcW0okvTNpK+kLx/Nkn67UjHmKUUn62zJK2RtD75fF2ZRZwniIhc/VFeb+dN4GxgAvAqsLDPMbcCP022VwCPZh13jbXPpUBdsn2L2+f49kmOmwK8QHmRvuas466VtqG8MOF6YHpy+4ys466x9lkJ3JJsLwR2ZB13ROSyR5+m4tVVwK+T7ceBT0nSCMaYpSHbJyLWRMSB5OZaystHjxbVVEwrujRtczPwcES8BxAR/x7hGLOUpn0COD3ZngrsGsH4BpTHRJ+malXvMRHRDXQCDSMSXfZOtqrXTcCfTmlEtaWaimlFl+a9swBYIOlFSWslXTFi0WUvTft8C7hBUjvwNHDHyIQ2uCGXKbbiknQD0Ax8MutYakVFxbQbMw6lVo2jPHxzCeVvgi9IWhIR+zKNqnZcD/wqIn4g6ePAbyQtjoijWQaVxx59mqpVvcdIGkf5K9S7IxJd9lJV9ZL0aeA+ykViDo1QbLWgmoppRZfmvdMOtETE4YjYDrxBOfGPBmna5yZgFUBEvARMorzgWabymOgHrXiVaAG+nGxfA/wtkqsjo8CQ7SNpGfAzykl+NI2xQnUV04ouzWfrScq9eSQ1Uh7K2TaSQWYoTfvsBD4FIOkjlBN95oWwc5fokzH3nopXrwOrIql4JWl5ctgvgAZJW4G7gAGn0BVNyvZ5CDgNeEzSBkkDVgkrmpTtMyqlbJtngHclbQbWAPdExKj4tpyyfe4Gbpb0KvA74MZa6GR6CQQzs4LLXY/ezMxOjhO9mVnBOdGbmRWcE72ZWcE50ZuZFZwTvZlZwTnRW25Jmibp1mT7TEmPj/DzlyS9NoyP95/heiyzSk70lmfTKC9JTUTsiohrMo7HrCY50VuefQc4J/l172M9vWtJN0p6UtKzknZIuj0ptrI+WXFxRnLcOZL+LGmdpL9LOnegJ5I0S9IfJL2a/F2c3DVW0s+TIhx/kTQ5Of65nvVxJDUm6+b0xPb75Hn/Kel7/TxXo6SXJH12WFvLRi0nesuze4E3I+J84J4+9y0GPg98FHgQOBARy4CXgC8lx6wE7oiIC4GvAz8Z5Ll+DDwfEecBFwCbkv3zKa/PvgjYB1ydIu7zgeuAJcB1knoXypI0C3gKuH8ULpNsp4iXKbaiWhMRXUCXpE7gj8n+jcBSSacBF1Ne76fnnImDPN5lJP8gIuII0ClpOrA9IjYkx6wDSiliWx0RnQDJmjFNlNc5Hw+sBm6LiOdTvUqzFJzoragql14+WnH7KOX3/RhgX/JtYLie5wgwOdnu5tg35klDnNPzOeym/M/icsCJ3oaNh24sz7oorx9/0iJiP7Bd0rUAKjtvkFNWU66vi6SxkqYO8RQ7gAuT7bQXiQP4CnCupG+kPMdsSE70llvJ8rgvJhdhH/o/HuKLwE3JkrKb6L92bI87gUslbaTc6144xGN/H7hF0npOovBEMix0PXBZz9RRs2p5mWIzs4Jzj97MrOB8MdasgqT7gGv77H4sIh7MIh6z4eChGzOzgvPQjZlZwTnRm5kVnBO9mVnBOdGbmRXc/wBN4mbXORAoNAAAAABJRU5ErkJggg==\n",
            "text/plain": [
              "<Figure size 432x288 with 1 Axes>"
            ]
          },
          "metadata": {
            "tags": [],
            "needs_background": "light"
          }
        }
      ]
    },
    {
      "cell_type": "code",
      "metadata": {
        "id": "Nxm0UAJ7A5ZQ"
      },
      "source": [
        ""
      ],
      "execution_count": null,
      "outputs": []
    }
  ]
}
